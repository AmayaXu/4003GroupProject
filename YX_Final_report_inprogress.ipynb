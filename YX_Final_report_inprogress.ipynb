{
 "cells": [
  {
   "cell_type": "markdown",
   "metadata": {},
   "source": [
    "# Steam games characteristics data analysis\n",
    "\n",
    "**Authors:** Yitao Xu, Ruizhe Zhang, Wenxuan Li"
   ]
  },
  {
   "cell_type": "markdown",
   "metadata": {},
   "source": [
    "## Introduction"
   ]
  },
  {
   "cell_type": "markdown",
   "metadata": {},
   "source": [
    "The booming online gaming industry is a mutually beneficial ecosystem for entrepreneurs, players and gaming developers, providing them opportunities to satiate their lucrative appetite for online gaming. In a recent report by ResearchAndMarkets, the global gaming market was valued at USD 174 billion in 2020, and it is expected to reach a value of USD 314 billion by 2026, registering a CAGR of 9.64% over 2021-2026. As the group members all share an interest in games, we choose the games and their performances on Steam, the largest digital distribution platform for PC gaming, as our topic. \n",
    "\n",
    "### What we did in this project\n",
    "+ We went through the basic process of data analysis and explored the data of 10000+ games on Steam\n",
    "+ We explored and visualized the perspectives such as the distributions of game genres, developers, categories and prices\n",
    "+ We tried to answer what characteristics made a game more favorable among players"
   ]
  },
  {
   "cell_type": "markdown",
   "metadata": {},
   "source": [
    "## Dataset"
   ]
  },
  {
   "cell_type": "markdown",
   "metadata": {},
   "source": [
    "For this project, by getting the .json format data in the API, reading it in the notebook and transferring it into a pandas DataFrame, we got the initial dataset, which has 10210 rows and 10 columns. Since in this API only the data of games with marketable trading items is included and the official steam API does not provide data that we want to study, we decided to focus on these 10210 games.\n",
    "\n",
    "### Information:\n",
    "**Name:** processed_data.csv  \n",
    "**Data source:** Process of raw data from the subscribeable API \"SteamApi\"  \n",
    "**Links:**  \n",
    "+ SteamApi: https://steamapis.com/  \n",
    "+ Details of processing raw data: making_data.ipynb in https://github.com/AmayaXu/4003GroupProject  \n",
    "\n",
    "### Attributes:\n",
    "+ **Appid:** the unique id of the game\n",
    "+ **Game name:** the full name of the game\n",
    "+ **Release Date:** the game's release date\n",
    "+ **Coming soon:** whether the game is coming soon\n",
    "+ **Initial price:** the game's price when it was first released\n",
    "+ **Final price:** the game's current price\n",
    "+ **Developer:** developer(s) of the game\n",
    "+ **Category:** categories the game belongs to(single-player, multi-player, PvP, etc.)\n",
    "+ **Genre:** the genres of the game(Action, Adventure, RPG, etc.) \n",
    "+ **Recommendations:** the number of the game's recommendations"
   ]
  },
  {
   "cell_type": "markdown",
   "metadata": {},
   "source": [
    "## Data prepocessing"
   ]
  },
  {
   "cell_type": "markdown",
   "metadata": {},
   "source": [
    "In this section, we will look at the actual data closely and preprocess the data for our analysis and modeling.\n",
    "\n",
    "First we imported some libraries we will need below."
   ]
  },
  {
   "cell_type": "code",
   "execution_count": 1,
   "metadata": {},
   "outputs": [],
   "source": [
    "import pandas as pd\n",
    "import matplotlib\n",
    "import datetime as dt\n",
    "import matplotlib.pyplot as plt\n",
    "import seaborn as sns\n",
    "import scipy.stats as stats\n",
    "import numpy as np\n",
    "import seaborn as sns\n",
    "from functools import reduce\n",
    "import plotly.graph_objects as go\n",
    "from plotly.subplots import make_subplots\n",
    "\n",
    "%matplotlib inline\n",
    "\n",
    "# configure seaborn to our liking\n",
    "sns.set_style('darkgrid', {\"axes.facecolor\": \".95\", \"axes.edgecolor\": \"black\", \"xtick.bottom\": \"True\", \\\n",
    "                           \"ytick.left\": \"True\", 'patch.force_edgecolor': False})\n",
    "sns.set_context(\"notebook\")\n",
    "sns.set_palette([\"#28abe3\", \"#db3340\", \"#e8b71a\", \"#1fda9a\", \"#f7eac8\"])\n",
    "blend_palette = sns.diverging_palette(258, 12, sep=20, as_cmap=True)"
   ]
  },
  {
   "cell_type": "markdown",
   "metadata": {},
   "source": [
    "Then we read the .csv file to transfer the data into an easy-to-manipulate DataFrame and dropped all rows with **None** and with repeated **Appid**:"
   ]
  },
  {
   "cell_type": "code",
   "execution_count": 2,
   "metadata": {},
   "outputs": [],
   "source": [
    "data = pd.read_csv(\"processed_data.csv\").drop(columns=[\"Unnamed: 0\"])\n",
    "data = data.drop_duplicates([\"Appid\"])\n",
    "data = data.dropna()"
   ]
  },
  {
   "cell_type": "code",
   "execution_count": 3,
   "metadata": {},
   "outputs": [
    {
     "data": {
      "text/plain": [
       "Appid                                                         105600\n",
       "Game name                                                   Terraria\n",
       "Release date                                            May 16, 2011\n",
       "Coming soon                                                    False\n",
       "Initial price                                                   9.99\n",
       "Final price                                                     9.99\n",
       "Developer                                                   Re-Logic\n",
       "Category           Single-player, Multi-player, PvP, Online PvP, ...\n",
       "Genre                                  Action, Adventure, Indie, RPG\n",
       "Recommendations                                               457853\n",
       "Name: 4468, dtype: object"
      ]
     },
     "execution_count": 3,
     "metadata": {},
     "output_type": "execute_result"
    }
   ],
   "source": [
    "# A random example of data before cleaning\n",
    "data.loc[4468]"
   ]
  },
  {
   "cell_type": "markdown",
   "metadata": {},
   "source": [
    "### Date formatting\n",
    "\n",
    "As shown in the example above, **Release date** is not the standard datetime format. In order to make the data easy to analyze, we changed it into the format \"YYYY-MM-DD\" using the code below:"
   ]
  },
  {
   "cell_type": "code",
   "execution_count": 4,
   "metadata": {},
   "outputs": [],
   "source": [
    "# Clean date\n",
    "date = data['Release date'].str.split(',', expand=True)\n",
    "date[\"Appid\"]=data[\"Appid\"]\n",
    "date2 = date[0].str.split(' ', expand=True)\n",
    "date[2] = date2[0]\n",
    "date[3] = date2[1]\n",
    "date = date.drop(0, axis=1)\n",
    "date = date.dropna()\n",
    "date[1] = date[1].astype('int64')\n",
    "date[3] = date[3].astype('int64')\n",
    "date[2] = pd.to_datetime(date[2], format='%b').dt.month\n",
    "date=date.rename(columns={1:\"Year\",2:\"Month\",3:\"Day\"})\n",
    "date[\"Date\"] = pd.to_datetime(date[[\"Year\",\"Month\",\"Day\"]])\n",
    "date = date.drop([\"Year\",\"Month\",\"Day\"],axis=1).reset_index().drop(\"index\",axis=1)\n",
    "date = date.set_index(\"Appid\")\n",
    "data = data.join(date,on=\"Appid\")\n",
    "data = data.drop(columns = [\"Release date\"])"
   ]
  },
  {
   "cell_type": "markdown",
   "metadata": {},
   "source": [
    "### Column Selection\n",
    "\n",
    "For each single game, there may be more than one item in **Genre**, **Catgory**, and **Developer**. In order to make these contents easy to aggregate and analyze, what we did below was to split each of these three columns. \n",
    "\n",
    "For **Genre**, we transferred it to 11 columns **Genre1**-**Genre11**, sequentially putting one genre in one column. \n",
    "\n",
    "For **Category**, we used the 8 categories as column names, and the value for a specific category equals 1 if the game belongs to it and equals 0 otherwise. The categories are defined as follows:\n",
    "+ **Single-player**: Game that can be played by one person\n",
    "+ **Multi-player**: Game that can be played by several players\n",
    "+ **Co-op**: Game that requires players working with one another to achieve a common objective\n",
    "+ **MMO**: Massively multiplayer online game\n",
    "+ **PvP**: Player versus player\n",
    "+ **VR Support**: Game with VR technology\n",
    "+ **Remote Play on Phone**: Game that can be played on a smartphone device\n",
    "+ **Steam Achievements**: Game that have achievement trackings,which is displayed on the Steam community profile\n",
    "\n",
    "The process of **Developer** is similar to that of **Genre**, splitting it into **Developer Major** and **Developer 2**. \n",
    "\n",
    "Besides, we also added another two columns **Genre Count** and **Developer Count** to show the number of genres and developers."
   ]
  },
  {
   "cell_type": "code",
   "execution_count": 5,
   "metadata": {},
   "outputs": [],
   "source": [
    "## Split Genre into columns\n",
    "data = data[data[\"Genre\"] != \"None\"]\n",
    "Genre_Columns = []\n",
    "for i in range(1,12):\n",
    "    Genre_Columns.append(\"Genre\"+str(i))\n",
    "    \n",
    "data[Genre_Columns] = data['Genre'].str.split(\", \", 10, expand=True)\n",
    "data[\"Genre Count\"] = data['Genre'].str.count(\", \") + 1 "
   ]
  },
  {
   "cell_type": "code",
   "execution_count": 6,
   "metadata": {},
   "outputs": [],
   "source": [
    "## Split Category into columns (7)\n",
    "Category_Columns = [\"Single-player\", \"Multi-player\", \"Co-op\", \"MMO\", \"VR Support\", \"PvP\", \"Remote Play on Phone\",\"Steam Achievements\"]\n",
    "\n",
    "for i in Category_Columns:\n",
    "    data[i] = data[\"Category\"].str.contains(str(i), na=True)\n",
    "    data[i] = data[i].astype(int)"
   ]
  },
  {
   "cell_type": "code",
   "execution_count": 7,
   "metadata": {},
   "outputs": [],
   "source": [
    "## Split Developers into columns (2)\n",
    "data[[\"Developer Major\",\"Developer 2\",\"Others\"]] = data['Developer'].str.split(\", \", 2, expand=True)\n",
    "data[\"Developer Count\"] = data['Developer'].str.count(\", \") + 1 "
   ]
  },
  {
   "cell_type": "markdown",
   "metadata": {},
   "source": [
    "Finally, after dropping all unnecessary columns, we got the data used for the following analysis and visualization:  "
   ]
  },
  {
   "cell_type": "code",
   "execution_count": 8,
   "metadata": {
    "scrolled": true
   },
   "outputs": [
    {
     "data": {
      "text/plain": [
       "Appid                                            234650\n",
       "Game name                             Shadowrun Returns\n",
       "Date                                2013-07-25 00:00:00\n",
       "Coming soon                                       False\n",
       "Initial price                                     14.99\n",
       "Final price                                       14.99\n",
       "Genre                   Adventure, Indie, RPG, Strategy\n",
       "Recommendations                                    7930\n",
       "Genre1                                        Adventure\n",
       "Genre2                                            Indie\n",
       "Genre3                                              RPG\n",
       "Genre4                                         Strategy\n",
       "Genre5                                             None\n",
       "Genre6                                             None\n",
       "Genre7                                             None\n",
       "Genre8                                             None\n",
       "Genre9                                             None\n",
       "Genre10                                            None\n",
       "Genre11                                            None\n",
       "Genre Count                                           4\n",
       "Single-player                                         1\n",
       "Multi-player                                          0\n",
       "Co-op                                                 0\n",
       "MMO                                                   0\n",
       "PvP                                                   0\n",
       "VR Support                                            0\n",
       "Remote Play on Phone                                  0\n",
       "Steam Achievements                                    0\n",
       "Developer Major                     Harebrained Schemes\n",
       "Developer 2                                        None\n",
       "Developer Count                                       1\n",
       "Name: 4668, dtype: object"
      ]
     },
     "execution_count": 8,
     "metadata": {},
     "output_type": "execute_result"
    }
   ],
   "source": [
    "# Data after cleaning\n",
    "data = data[['Appid','Game name','Date','Coming soon','Initial price','Final price','Genre','Recommendations',\n",
    " 'Genre1','Genre2','Genre3','Genre4','Genre5','Genre6','Genre7','Genre8','Genre9','Genre10','Genre11','Genre Count',\n",
    " 'Single-player','Multi-player','Co-op','MMO','PvP','VR Support','Remote Play on Phone',\"Steam Achievements\",\n",
    " 'Developer Major','Developer 2','Developer Count']]\n",
    "data.loc[4668]"
   ]
  },
  {
   "cell_type": "markdown",
   "metadata": {},
   "source": [
    "## Data analysis and visualization\n",
    "\n",
    "In this section, we will review and visualize our data in order to understand the data better. Our data exploration and analysis will help us study the topics we are interested in.\n",
    "\n",
    "Let pandas describe the dataset for more insight."
   ]
  },
  {
   "cell_type": "code",
   "execution_count": 9,
   "metadata": {},
   "outputs": [
    {
     "name": "stdout",
     "output_type": "stream",
     "text": [
      "The shape of the cleaned dataset is (10124, 31).\n"
     ]
    },
    {
     "data": {
      "text/html": [
       "<div>\n",
       "<style scoped>\n",
       "    .dataframe tbody tr th:only-of-type {\n",
       "        vertical-align: middle;\n",
       "    }\n",
       "\n",
       "    .dataframe tbody tr th {\n",
       "        vertical-align: top;\n",
       "    }\n",
       "\n",
       "    .dataframe thead th {\n",
       "        text-align: right;\n",
       "    }\n",
       "</style>\n",
       "<table border=\"1\" class=\"dataframe\">\n",
       "  <thead>\n",
       "    <tr style=\"text-align: right;\">\n",
       "      <th></th>\n",
       "      <th>Recommendations</th>\n",
       "      <th>Initial price</th>\n",
       "      <th>Final price</th>\n",
       "      <th>Developer Count</th>\n",
       "      <th>Genre Count</th>\n",
       "    </tr>\n",
       "  </thead>\n",
       "  <tbody>\n",
       "    <tr>\n",
       "      <th>count</th>\n",
       "      <td>10,124.00</td>\n",
       "      <td>10,124.00</td>\n",
       "      <td>10,124.00</td>\n",
       "      <td>10,124.00</td>\n",
       "      <td>10,124.00</td>\n",
       "    </tr>\n",
       "    <tr>\n",
       "      <th>mean</th>\n",
       "      <td>2,587.30</td>\n",
       "      <td>9.80</td>\n",
       "      <td>10.35</td>\n",
       "      <td>1.13</td>\n",
       "      <td>2.79</td>\n",
       "    </tr>\n",
       "    <tr>\n",
       "      <th>std</th>\n",
       "      <td>34,665.57</td>\n",
       "      <td>10.22</td>\n",
       "      <td>10.39</td>\n",
       "      <td>0.43</td>\n",
       "      <td>1.22</td>\n",
       "    </tr>\n",
       "    <tr>\n",
       "      <th>min</th>\n",
       "      <td>0.00</td>\n",
       "      <td>0.00</td>\n",
       "      <td>0.00</td>\n",
       "      <td>1.00</td>\n",
       "      <td>1.00</td>\n",
       "    </tr>\n",
       "    <tr>\n",
       "      <th>25%</th>\n",
       "      <td>0.00</td>\n",
       "      <td>2.99</td>\n",
       "      <td>2.99</td>\n",
       "      <td>1.00</td>\n",
       "      <td>2.00</td>\n",
       "    </tr>\n",
       "    <tr>\n",
       "      <th>50%</th>\n",
       "      <td>147.00</td>\n",
       "      <td>6.99</td>\n",
       "      <td>7.99</td>\n",
       "      <td>1.00</td>\n",
       "      <td>3.00</td>\n",
       "    </tr>\n",
       "    <tr>\n",
       "      <th>75%</th>\n",
       "      <td>583.00</td>\n",
       "      <td>14.99</td>\n",
       "      <td>14.99</td>\n",
       "      <td>1.00</td>\n",
       "      <td>3.00</td>\n",
       "    </tr>\n",
       "    <tr>\n",
       "      <th>max</th>\n",
       "      <td>2,850,475.00</td>\n",
       "      <td>199.99</td>\n",
       "      <td>199.99</td>\n",
       "      <td>7.00</td>\n",
       "      <td>11.00</td>\n",
       "    </tr>\n",
       "  </tbody>\n",
       "</table>\n",
       "</div>"
      ],
      "text/plain": [
       "       Recommendations  Initial price  Final price  Developer Count  \\\n",
       "count        10,124.00      10,124.00    10,124.00        10,124.00   \n",
       "mean          2,587.30           9.80        10.35             1.13   \n",
       "std          34,665.57          10.22        10.39             0.43   \n",
       "min               0.00           0.00         0.00             1.00   \n",
       "25%               0.00           2.99         2.99             1.00   \n",
       "50%             147.00           6.99         7.99             1.00   \n",
       "75%             583.00          14.99        14.99             1.00   \n",
       "max       2,850,475.00         199.99       199.99             7.00   \n",
       "\n",
       "       Genre Count  \n",
       "count    10,124.00  \n",
       "mean          2.79  \n",
       "std           1.22  \n",
       "min           1.00  \n",
       "25%           2.00  \n",
       "50%           3.00  \n",
       "75%           3.00  \n",
       "max          11.00  "
      ]
     },
     "execution_count": 9,
     "metadata": {},
     "output_type": "execute_result"
    }
   ],
   "source": [
    "## Data Description\n",
    "print('The shape of the cleaned dataset is {}.'.format(data.shape))\n",
    "pd.options.display.float_format = '{:,.2f}'.format\n",
    "data[[\"Recommendations\",\"Initial price\",\"Final price\",\"Developer Count\",\"Genre Count\"]].describe()"
   ]
  },
  {
   "cell_type": "markdown",
   "metadata": {},
   "source": [
    "On average, a game will have 2587 recommendations, a initial price of 9.8(USD) and a final price of 10.4(USD). There would usually be no more than 1 game developer and approximately 3 genres presenting in a game.\n",
    "\n",
    "The data discription also shows strong dispersion in recommendation and prices. The standard deviation of recommendations is especially high. It's also surprising that 25% of the total games do not even have a recommendation.\n",
    "\n",
    "On the contrary,the number of developers and genres are concentrating around the mean value. More than 75% of the games have only one developer, and can be characterised by 3 genres."
   ]
  },
  {
   "cell_type": "code",
   "execution_count": 10,
   "metadata": {
    "scrolled": true
   },
   "outputs": [
    {
     "data": {
      "text/html": [
       "<div>\n",
       "<style scoped>\n",
       "    .dataframe tbody tr th:only-of-type {\n",
       "        vertical-align: middle;\n",
       "    }\n",
       "\n",
       "    .dataframe tbody tr th {\n",
       "        vertical-align: top;\n",
       "    }\n",
       "\n",
       "    .dataframe thead th {\n",
       "        text-align: right;\n",
       "    }\n",
       "</style>\n",
       "<table border=\"1\" class=\"dataframe\">\n",
       "  <thead>\n",
       "    <tr style=\"text-align: right;\">\n",
       "      <th></th>\n",
       "      <th>Single-player</th>\n",
       "      <th>Multi-player</th>\n",
       "      <th>Co-op</th>\n",
       "      <th>MMO</th>\n",
       "      <th>VR Support</th>\n",
       "      <th>PvP</th>\n",
       "      <th>Remote Play on Phone</th>\n",
       "      <th>Steam Achievements</th>\n",
       "    </tr>\n",
       "  </thead>\n",
       "  <tbody>\n",
       "    <tr>\n",
       "      <th>count</th>\n",
       "      <td>10,124.00</td>\n",
       "      <td>10,124.00</td>\n",
       "      <td>10,124.00</td>\n",
       "      <td>10,124.00</td>\n",
       "      <td>10,124.00</td>\n",
       "      <td>10,124.00</td>\n",
       "      <td>10,124.00</td>\n",
       "      <td>10,124.00</td>\n",
       "    </tr>\n",
       "    <tr>\n",
       "      <th>mean</th>\n",
       "      <td>0.95</td>\n",
       "      <td>0.27</td>\n",
       "      <td>0.14</td>\n",
       "      <td>0.02</td>\n",
       "      <td>0.01</td>\n",
       "      <td>0.14</td>\n",
       "      <td>0.03</td>\n",
       "      <td>0.77</td>\n",
       "    </tr>\n",
       "    <tr>\n",
       "      <th>std</th>\n",
       "      <td>0.22</td>\n",
       "      <td>0.44</td>\n",
       "      <td>0.34</td>\n",
       "      <td>0.15</td>\n",
       "      <td>0.10</td>\n",
       "      <td>0.35</td>\n",
       "      <td>0.18</td>\n",
       "      <td>0.42</td>\n",
       "    </tr>\n",
       "    <tr>\n",
       "      <th>min</th>\n",
       "      <td>0.00</td>\n",
       "      <td>0.00</td>\n",
       "      <td>0.00</td>\n",
       "      <td>0.00</td>\n",
       "      <td>0.00</td>\n",
       "      <td>0.00</td>\n",
       "      <td>0.00</td>\n",
       "      <td>0.00</td>\n",
       "    </tr>\n",
       "    <tr>\n",
       "      <th>25%</th>\n",
       "      <td>1.00</td>\n",
       "      <td>0.00</td>\n",
       "      <td>0.00</td>\n",
       "      <td>0.00</td>\n",
       "      <td>0.00</td>\n",
       "      <td>0.00</td>\n",
       "      <td>0.00</td>\n",
       "      <td>1.00</td>\n",
       "    </tr>\n",
       "    <tr>\n",
       "      <th>50%</th>\n",
       "      <td>1.00</td>\n",
       "      <td>0.00</td>\n",
       "      <td>0.00</td>\n",
       "      <td>0.00</td>\n",
       "      <td>0.00</td>\n",
       "      <td>0.00</td>\n",
       "      <td>0.00</td>\n",
       "      <td>1.00</td>\n",
       "    </tr>\n",
       "    <tr>\n",
       "      <th>75%</th>\n",
       "      <td>1.00</td>\n",
       "      <td>1.00</td>\n",
       "      <td>0.00</td>\n",
       "      <td>0.00</td>\n",
       "      <td>0.00</td>\n",
       "      <td>0.00</td>\n",
       "      <td>0.00</td>\n",
       "      <td>1.00</td>\n",
       "    </tr>\n",
       "    <tr>\n",
       "      <th>max</th>\n",
       "      <td>1.00</td>\n",
       "      <td>1.00</td>\n",
       "      <td>1.00</td>\n",
       "      <td>1.00</td>\n",
       "      <td>1.00</td>\n",
       "      <td>1.00</td>\n",
       "      <td>1.00</td>\n",
       "      <td>1.00</td>\n",
       "    </tr>\n",
       "  </tbody>\n",
       "</table>\n",
       "</div>"
      ],
      "text/plain": [
       "       Single-player  Multi-player     Co-op       MMO  VR Support       PvP  \\\n",
       "count      10,124.00     10,124.00 10,124.00 10,124.00   10,124.00 10,124.00   \n",
       "mean            0.95          0.27      0.14      0.02        0.01      0.14   \n",
       "std             0.22          0.44      0.34      0.15        0.10      0.35   \n",
       "min             0.00          0.00      0.00      0.00        0.00      0.00   \n",
       "25%             1.00          0.00      0.00      0.00        0.00      0.00   \n",
       "50%             1.00          0.00      0.00      0.00        0.00      0.00   \n",
       "75%             1.00          1.00      0.00      0.00        0.00      0.00   \n",
       "max             1.00          1.00      1.00      1.00        1.00      1.00   \n",
       "\n",
       "       Remote Play on Phone  Steam Achievements  \n",
       "count             10,124.00           10,124.00  \n",
       "mean                   0.03                0.77  \n",
       "std                    0.18                0.42  \n",
       "min                    0.00                0.00  \n",
       "25%                    0.00                1.00  \n",
       "50%                    0.00                1.00  \n",
       "75%                    0.00                1.00  \n",
       "max                    1.00                1.00  "
      ]
     },
     "execution_count": 10,
     "metadata": {},
     "output_type": "execute_result"
    }
   ],
   "source": [
    "pd.options.display.float_format = '{:,.2f}'.format\n",
    "data[Category_Columns].describe()"
   ]
  },
  {
   "cell_type": "markdown",
   "metadata": {},
   "source": [
    "Concerning the surging socializing need for games, we selected the catagories representing the participation form of players. The statistic description shows that 95% of the games are single player games, while 27% can be played by multiple players. This implies that the majority(73%) of the games on Steam are only designed for single player. Among multi-player games, Co-op games and PvP games both account for 14% of the total games, while MMO games only account for 2% of the total games.\n",
    "\n",
    "Concerning the recent technology trends, we want to explore the appication progress of VR and mobile gaming support. The now affordable and portable VR technology is applied in the game industry since 2016(release of PlaystationVR). Since then, developers have been trying to design games with VR experiences. Until now, approximately 1% of the games support VR, which can be viewed as a huge progress concerning the difficulty and input in developing VR games. Although mobile gaming are expanding the size and profit, the Steam platform only has 3% of games supporting remote play on smartphones, which not surprisingly shows a lack of competence of Steam in the mobile platform."
   ]
  },
  {
   "cell_type": "markdown",
   "metadata": {},
   "source": [
    "### Recommendation"
   ]
  },
  {
   "cell_type": "markdown",
   "metadata": {},
   "source": [
    "As we are trying to answer what characteristics make the game favorable among players, we first take a glance at the recommendation distribution and the characteristics of the most recommended games:"
   ]
  },
  {
   "cell_type": "code",
   "execution_count": 11,
   "metadata": {},
   "outputs": [
    {
     "data": {
      "image/png": "[encoded data removed]",
      "text/plain": [
       "<Figure size 432x288 with 1 Axes>"
      ]
     },
     "metadata": {},
     "output_type": "display_data"
    }
   ],
   "source": [
    "plt.hist(data[data[\"Recommendations\"]>0][\"Recommendations\"],bins=50,range=(1,10000))\n",
    "plt.xlabel('Number of recommendations')\n",
    "plt.ylabel('Count')\n",
    "plt.title('Recommendation distribution')\n",
    "plt.show()"
   ]
  },
  {
   "cell_type": "code",
   "execution_count": 12,
   "metadata": {
    "scrolled": true
   },
   "outputs": [
    {
     "data": {
      "text/html": [
       "<div>\n",
       "<style scoped>\n",
       "    .dataframe tbody tr th:only-of-type {\n",
       "        vertical-align: middle;\n",
       "    }\n",
       "\n",
       "    .dataframe tbody tr th {\n",
       "        vertical-align: top;\n",
       "    }\n",
       "\n",
       "    .dataframe thead th {\n",
       "        text-align: right;\n",
       "    }\n",
       "</style>\n",
       "<table border=\"1\" class=\"dataframe\">\n",
       "  <thead>\n",
       "    <tr style=\"text-align: right;\">\n",
       "      <th></th>\n",
       "      <th>Appid</th>\n",
       "      <th>Game name</th>\n",
       "      <th>Recommendations</th>\n",
       "      <th>Date</th>\n",
       "      <th>Final price</th>\n",
       "      <th>Genre</th>\n",
       "    </tr>\n",
       "  </thead>\n",
       "  <tbody>\n",
       "    <tr>\n",
       "      <th>3456</th>\n",
       "      <td>730</td>\n",
       "      <td>Counter-Strike: Global Offensive</td>\n",
       "      <td>2850475</td>\n",
       "      <td>2012-08-21</td>\n",
       "      <td>14.99</td>\n",
       "      <td>Action, Free to Play</td>\n",
       "    </tr>\n",
       "    <tr>\n",
       "      <th>2214</th>\n",
       "      <td>578080</td>\n",
       "      <td>PLAYERUNKNOWN'S BATTLEGROUNDS</td>\n",
       "      <td>1295198</td>\n",
       "      <td>2017-12-21</td>\n",
       "      <td>29.99</td>\n",
       "      <td>Action, Adventure, Massively Multiplayer</td>\n",
       "    </tr>\n",
       "    <tr>\n",
       "      <th>117</th>\n",
       "      <td>359550</td>\n",
       "      <td>Tom Clancy's Rainbow Six® Siege</td>\n",
       "      <td>622678</td>\n",
       "      <td>2015-12-01</td>\n",
       "      <td>19.99</td>\n",
       "      <td>Action</td>\n",
       "    </tr>\n",
       "    <tr>\n",
       "      <th>1060</th>\n",
       "      <td>4000</td>\n",
       "      <td>Garry's Mod</td>\n",
       "      <td>503430</td>\n",
       "      <td>2006-11-29</td>\n",
       "      <td>9.99</td>\n",
       "      <td>Indie, Simulation</td>\n",
       "    </tr>\n",
       "    <tr>\n",
       "      <th>4468</th>\n",
       "      <td>105600</td>\n",
       "      <td>Terraria</td>\n",
       "      <td>457853</td>\n",
       "      <td>2011-05-16</td>\n",
       "      <td>9.99</td>\n",
       "      <td>Action, Adventure, Indie, RPG</td>\n",
       "    </tr>\n",
       "    <tr>\n",
       "      <th>3234</th>\n",
       "      <td>292030</td>\n",
       "      <td>The Witcher® 3: Wild Hunt</td>\n",
       "      <td>376029</td>\n",
       "      <td>2015-05-18</td>\n",
       "      <td>39.99</td>\n",
       "      <td>RPG</td>\n",
       "    </tr>\n",
       "    <tr>\n",
       "      <th>7487</th>\n",
       "      <td>252490</td>\n",
       "      <td>Rust</td>\n",
       "      <td>367337</td>\n",
       "      <td>2018-02-08</td>\n",
       "      <td>39.99</td>\n",
       "      <td>Action, Adventure, Indie, Massively Multiplaye...</td>\n",
       "    </tr>\n",
       "    <tr>\n",
       "      <th>50</th>\n",
       "      <td>252950</td>\n",
       "      <td>Rocket League®</td>\n",
       "      <td>333485</td>\n",
       "      <td>2015-07-07</td>\n",
       "      <td>19.99</td>\n",
       "      <td>Action, Indie, Racing, Sports</td>\n",
       "    </tr>\n",
       "    <tr>\n",
       "      <th>9406</th>\n",
       "      <td>346110</td>\n",
       "      <td>ARK: Survival Evolved</td>\n",
       "      <td>284600</td>\n",
       "      <td>2017-08-27</td>\n",
       "      <td>49.99</td>\n",
       "      <td>Action, Adventure, Indie, Massively Multiplaye...</td>\n",
       "    </tr>\n",
       "    <tr>\n",
       "      <th>42</th>\n",
       "      <td>218620</td>\n",
       "      <td>PAYDAY 2</td>\n",
       "      <td>279911</td>\n",
       "      <td>2013-08-13</td>\n",
       "      <td>9.99</td>\n",
       "      <td>Action, RPG</td>\n",
       "    </tr>\n",
       "  </tbody>\n",
       "</table>\n",
       "</div>"
      ],
      "text/plain": [
       "       Appid                         Game name  Recommendations       Date  \\\n",
       "3456     730  Counter-Strike: Global Offensive          2850475 2012-08-21   \n",
       "2214  578080     PLAYERUNKNOWN'S BATTLEGROUNDS          1295198 2017-12-21   \n",
       "117   359550   Tom Clancy's Rainbow Six® Siege           622678 2015-12-01   \n",
       "1060    4000                       Garry's Mod           503430 2006-11-29   \n",
       "4468  105600                          Terraria           457853 2011-05-16   \n",
       "3234  292030         The Witcher® 3: Wild Hunt           376029 2015-05-18   \n",
       "7487  252490                              Rust           367337 2018-02-08   \n",
       "50    252950                    Rocket League®           333485 2015-07-07   \n",
       "9406  346110             ARK: Survival Evolved           284600 2017-08-27   \n",
       "42    218620                          PAYDAY 2           279911 2013-08-13   \n",
       "\n",
       "      Final price                                              Genre  \n",
       "3456        14.99                               Action, Free to Play  \n",
       "2214        29.99           Action, Adventure, Massively Multiplayer  \n",
       "117         19.99                                             Action  \n",
       "1060         9.99                                  Indie, Simulation  \n",
       "4468         9.99                      Action, Adventure, Indie, RPG  \n",
       "3234        39.99                                                RPG  \n",
       "7487        39.99  Action, Adventure, Indie, Massively Multiplaye...  \n",
       "50          19.99                      Action, Indie, Racing, Sports  \n",
       "9406        49.99  Action, Adventure, Indie, Massively Multiplaye...  \n",
       "42           9.99                                        Action, RPG  "
      ]
     },
     "execution_count": 12,
     "metadata": {},
     "output_type": "execute_result"
    }
   ],
   "source": [
    "## Most Recommended\n",
    "Recommend_stat = data[[\"Appid\",\"Game name\",\"Recommendations\", \"Date\", \"Final price\",\"Genre\"]].sort_values(by=[\"Recommendations\"],ascending=False)\n",
    "Recommend_stat.head(10)"
   ]
  },
  {
   "cell_type": "markdown",
   "metadata": {},
   "source": [
    "Noticing that the recommendation distribution is highly skewed with a large spread, the majority of games have very low recommendations, while a small number of games dominate the market.The Top10 games are showing common genre in Action(8/10), RPG(5/10) and Adventure(4/10)."
   ]
  },
  {
   "cell_type": "markdown",
   "metadata": {},
   "source": [
    "To further compare the subgroup of top recommended games and the complete set, we again look into the statistic descriptions.\n",
    "\n",
    "Compared to the whole dataset, the top 100 most recommended games have an overall higher price(26 𝑣𝑠 10), more developers(1.5 vs 1.1) and more focued genres(2.3 vs 2.9). Also, people are more likely to prefer games with Multi-player, Co-op and PvP modes compared to those merely single-player games. The features of remote play on phone is also preferred."
   ]
  },
  {
   "cell_type": "code",
   "execution_count": 13,
   "metadata": {},
   "outputs": [
    {
     "data": {
      "text/html": [
       "<div>\n",
       "<style scoped>\n",
       "    .dataframe tbody tr th:only-of-type {\n",
       "        vertical-align: middle;\n",
       "    }\n",
       "\n",
       "    .dataframe tbody tr th {\n",
       "        vertical-align: top;\n",
       "    }\n",
       "\n",
       "    .dataframe thead th {\n",
       "        text-align: right;\n",
       "    }\n",
       "</style>\n",
       "<table border=\"1\" class=\"dataframe\">\n",
       "  <thead>\n",
       "    <tr style=\"text-align: right;\">\n",
       "      <th></th>\n",
       "      <th>Recommendations</th>\n",
       "      <th>Initial price</th>\n",
       "      <th>Final price</th>\n",
       "      <th>Developer Count</th>\n",
       "      <th>Genre Count</th>\n",
       "    </tr>\n",
       "  </thead>\n",
       "  <tbody>\n",
       "    <tr>\n",
       "      <th>count</th>\n",
       "      <td>100.00</td>\n",
       "      <td>100.00</td>\n",
       "      <td>100.00</td>\n",
       "      <td>100.00</td>\n",
       "      <td>100.00</td>\n",
       "    </tr>\n",
       "    <tr>\n",
       "      <th>mean</th>\n",
       "      <td>150,839.08</td>\n",
       "      <td>25.64</td>\n",
       "      <td>26.64</td>\n",
       "      <td>1.49</td>\n",
       "      <td>2.32</td>\n",
       "    </tr>\n",
       "    <tr>\n",
       "      <th>std</th>\n",
       "      <td>314,897.10</td>\n",
       "      <td>16.21</td>\n",
       "      <td>15.44</td>\n",
       "      <td>1.13</td>\n",
       "      <td>1.22</td>\n",
       "    </tr>\n",
       "    <tr>\n",
       "      <th>min</th>\n",
       "      <td>41,423.00</td>\n",
       "      <td>0.00</td>\n",
       "      <td>0.00</td>\n",
       "      <td>1.00</td>\n",
       "      <td>1.00</td>\n",
       "    </tr>\n",
       "    <tr>\n",
       "      <th>25%</th>\n",
       "      <td>50,127.50</td>\n",
       "      <td>14.99</td>\n",
       "      <td>14.99</td>\n",
       "      <td>1.00</td>\n",
       "      <td>1.00</td>\n",
       "    </tr>\n",
       "    <tr>\n",
       "      <th>50%</th>\n",
       "      <td>69,075.00</td>\n",
       "      <td>19.99</td>\n",
       "      <td>19.99</td>\n",
       "      <td>1.00</td>\n",
       "      <td>2.00</td>\n",
       "    </tr>\n",
       "    <tr>\n",
       "      <th>75%</th>\n",
       "      <td>128,463.75</td>\n",
       "      <td>29.99</td>\n",
       "      <td>29.99</td>\n",
       "      <td>1.00</td>\n",
       "      <td>3.00</td>\n",
       "    </tr>\n",
       "    <tr>\n",
       "      <th>max</th>\n",
       "      <td>2,850,475.00</td>\n",
       "      <td>59.99</td>\n",
       "      <td>59.99</td>\n",
       "      <td>7.00</td>\n",
       "      <td>7.00</td>\n",
       "    </tr>\n",
       "  </tbody>\n",
       "</table>\n",
       "</div>"
      ],
      "text/plain": [
       "       Recommendations  Initial price  Final price  Developer Count  \\\n",
       "count           100.00         100.00       100.00           100.00   \n",
       "mean        150,839.08          25.64        26.64             1.49   \n",
       "std         314,897.10          16.21        15.44             1.13   \n",
       "min          41,423.00           0.00         0.00             1.00   \n",
       "25%          50,127.50          14.99        14.99             1.00   \n",
       "50%          69,075.00          19.99        19.99             1.00   \n",
       "75%         128,463.75          29.99        29.99             1.00   \n",
       "max       2,850,475.00          59.99        59.99             7.00   \n",
       "\n",
       "       Genre Count  \n",
       "count       100.00  \n",
       "mean          2.32  \n",
       "std           1.22  \n",
       "min           1.00  \n",
       "25%           1.00  \n",
       "50%           2.00  \n",
       "75%           3.00  \n",
       "max           7.00  "
      ]
     },
     "execution_count": 13,
     "metadata": {},
     "output_type": "execute_result"
    }
   ],
   "source": [
    "## Characteristic of the recommended (100)\n",
    "Recommend = data.sort_values(by=[\"Recommendations\"],ascending=False).head(100)\n",
    "\n",
    "## Data Description of recommended games(top 100)\n",
    "pd.options.display.float_format = '{:,.2f}'.format\n",
    "Recommend[[\"Recommendations\",\"Initial price\",\"Final price\",\"Developer Count\",\"Genre Count\"]].describe()"
   ]
  },
  {
   "cell_type": "code",
   "execution_count": 14,
   "metadata": {},
   "outputs": [
    {
     "data": {
      "text/html": [
       "<div>\n",
       "<style scoped>\n",
       "    .dataframe tbody tr th:only-of-type {\n",
       "        vertical-align: middle;\n",
       "    }\n",
       "\n",
       "    .dataframe tbody tr th {\n",
       "        vertical-align: top;\n",
       "    }\n",
       "\n",
       "    .dataframe thead th {\n",
       "        text-align: right;\n",
       "    }\n",
       "</style>\n",
       "<table border=\"1\" class=\"dataframe\">\n",
       "  <thead>\n",
       "    <tr style=\"text-align: right;\">\n",
       "      <th></th>\n",
       "      <th>Single-player</th>\n",
       "      <th>Multi-player</th>\n",
       "      <th>Co-op</th>\n",
       "      <th>MMO</th>\n",
       "      <th>VR Support</th>\n",
       "      <th>PvP</th>\n",
       "      <th>Remote Play on Phone</th>\n",
       "      <th>Steam Achievements</th>\n",
       "    </tr>\n",
       "  </thead>\n",
       "  <tbody>\n",
       "    <tr>\n",
       "      <th>count</th>\n",
       "      <td>100.00</td>\n",
       "      <td>100.00</td>\n",
       "      <td>100.00</td>\n",
       "      <td>100.00</td>\n",
       "      <td>100.00</td>\n",
       "      <td>100.00</td>\n",
       "      <td>100.00</td>\n",
       "      <td>100.00</td>\n",
       "    </tr>\n",
       "    <tr>\n",
       "      <th>mean</th>\n",
       "      <td>0.86</td>\n",
       "      <td>0.61</td>\n",
       "      <td>0.42</td>\n",
       "      <td>0.04</td>\n",
       "      <td>0.01</td>\n",
       "      <td>0.28</td>\n",
       "      <td>0.39</td>\n",
       "      <td>0.86</td>\n",
       "    </tr>\n",
       "    <tr>\n",
       "      <th>std</th>\n",
       "      <td>0.35</td>\n",
       "      <td>0.49</td>\n",
       "      <td>0.50</td>\n",
       "      <td>0.20</td>\n",
       "      <td>0.10</td>\n",
       "      <td>0.45</td>\n",
       "      <td>0.49</td>\n",
       "      <td>0.35</td>\n",
       "    </tr>\n",
       "    <tr>\n",
       "      <th>min</th>\n",
       "      <td>0.00</td>\n",
       "      <td>0.00</td>\n",
       "      <td>0.00</td>\n",
       "      <td>0.00</td>\n",
       "      <td>0.00</td>\n",
       "      <td>0.00</td>\n",
       "      <td>0.00</td>\n",
       "      <td>0.00</td>\n",
       "    </tr>\n",
       "    <tr>\n",
       "      <th>25%</th>\n",
       "      <td>1.00</td>\n",
       "      <td>0.00</td>\n",
       "      <td>0.00</td>\n",
       "      <td>0.00</td>\n",
       "      <td>0.00</td>\n",
       "      <td>0.00</td>\n",
       "      <td>0.00</td>\n",
       "      <td>1.00</td>\n",
       "    </tr>\n",
       "    <tr>\n",
       "      <th>50%</th>\n",
       "      <td>1.00</td>\n",
       "      <td>1.00</td>\n",
       "      <td>0.00</td>\n",
       "      <td>0.00</td>\n",
       "      <td>0.00</td>\n",
       "      <td>0.00</td>\n",
       "      <td>0.00</td>\n",
       "      <td>1.00</td>\n",
       "    </tr>\n",
       "    <tr>\n",
       "      <th>75%</th>\n",
       "      <td>1.00</td>\n",
       "      <td>1.00</td>\n",
       "      <td>1.00</td>\n",
       "      <td>0.00</td>\n",
       "      <td>0.00</td>\n",
       "      <td>1.00</td>\n",
       "      <td>1.00</td>\n",
       "      <td>1.00</td>\n",
       "    </tr>\n",
       "    <tr>\n",
       "      <th>max</th>\n",
       "      <td>1.00</td>\n",
       "      <td>1.00</td>\n",
       "      <td>1.00</td>\n",
       "      <td>1.00</td>\n",
       "      <td>1.00</td>\n",
       "      <td>1.00</td>\n",
       "      <td>1.00</td>\n",
       "      <td>1.00</td>\n",
       "    </tr>\n",
       "  </tbody>\n",
       "</table>\n",
       "</div>"
      ],
      "text/plain": [
       "       Single-player  Multi-player  Co-op    MMO  VR Support    PvP  \\\n",
       "count         100.00        100.00 100.00 100.00      100.00 100.00   \n",
       "mean            0.86          0.61   0.42   0.04        0.01   0.28   \n",
       "std             0.35          0.49   0.50   0.20        0.10   0.45   \n",
       "min             0.00          0.00   0.00   0.00        0.00   0.00   \n",
       "25%             1.00          0.00   0.00   0.00        0.00   0.00   \n",
       "50%             1.00          1.00   0.00   0.00        0.00   0.00   \n",
       "75%             1.00          1.00   1.00   0.00        0.00   1.00   \n",
       "max             1.00          1.00   1.00   1.00        1.00   1.00   \n",
       "\n",
       "       Remote Play on Phone  Steam Achievements  \n",
       "count                100.00              100.00  \n",
       "mean                   0.39                0.86  \n",
       "std                    0.49                0.35  \n",
       "min                    0.00                0.00  \n",
       "25%                    0.00                1.00  \n",
       "50%                    0.00                1.00  \n",
       "75%                    1.00                1.00  \n",
       "max                    1.00                1.00  "
      ]
     },
     "execution_count": 14,
     "metadata": {},
     "output_type": "execute_result"
    }
   ],
   "source": [
    "## Category Data Description of recommended games(top 100)\n",
    "pd.options.display.float_format = '{:,.2f}'.format\n",
    "Recommend[Category_Columns].describe()"
   ]
  },
  {
   "cell_type": "markdown",
   "metadata": {},
   "source": [
    "### Release Date\n",
    "\n",
    "Firstly, we got some critical information about the games' release time, including the first and the last games' release date and the number of coming-soon games: \n"
   ]
  },
  {
   "cell_type": "code",
   "execution_count": 15,
   "metadata": {
    "scrolled": true
   },
   "outputs": [
    {
     "name": "stdout",
     "output_type": "stream",
     "text": [
      "Our first game was released on 30. June 1997 (min value).\n",
      "Our last game was released on 01. January 2021 (max value).\n",
      "32 games are planning to release in the future.\n"
     ]
    }
   ],
   "source": [
    "print('Our first game was released on {} (min value).'.format(data.Date.min().strftime(\"%d. %B %Y\")))\n",
    "print('Our last game was released on {} (max value).'.format(data.Date.max().strftime(\"%d. %B %Y\")))\n",
    "print('{} games are planning to release in the future.'.format(len(data[data[\"Coming soon\"] == True])))"
   ]
  },
  {
   "cell_type": "markdown",
   "metadata": {},
   "source": [
    "<i>Although there are games released between 1 Jan 2021 and the current date, the release date recorded in the data set is ambiguous(eg. 2021 Fall). In this case we only count games with exact release dates</i>\n",
    "\n",
    "Then, we drew a histogram showing the time distribution of all games:"
   ]
  },
  {
   "cell_type": "code",
   "execution_count": 16,
   "metadata": {},
   "outputs": [
    {
     "data": {
      "image/png": "[encoded data removed]",
      "text/plain": [
       "<Figure size 432x288 with 1 Axes>"
      ]
     },
     "metadata": {},
     "output_type": "display_data"
    }
   ],
   "source": [
    "plt.hist(data['Date'], bins=100)\n",
    "plt.xlabel('Time')\n",
    "plt.ylabel('Count')\n",
    "plt.title('Time distribution')\n",
    "\n",
    "plt.show()"
   ]
  },
  {
   "cell_type": "markdown",
   "metadata": {},
   "source": [
    "From the histogram, the number of released games with tradable items increases fast since **2012**, reaches the highest point around **2017**, and then decreases drastically. \n",
    "\n",
    "The increasing trend is easy to understand, but what confuses us is the huge fall after 2017. One possible reason that we could think of is that the market for traded item is broken, making the in-game trading unprofitable for developers and unnecessary for gamers, and this guess is proved by an online article \"Why the Ingame Items Market is Broken: a Gamer’s and Trader’s Perspective on Trading Inefficiencies\" published in 2019, which explains the difficulties and inefficiencies in game trading that make the in-game trading market crash. (Site: https://f1pme.medium.com/why-the-ingame-items-market-is-broken-a-gamers-and-trader-s-perspective-on-trading-inefficiencies-577d3a9f7fde)\n",
    "\n",
    "Next, in order to get more useful information from release time, we had the month distribution of games:"
   ]
  },
  {
   "cell_type": "code",
   "execution_count": 17,
   "metadata": {},
   "outputs": [
    {
     "data": {
      "image/png": "[encoded data removed]",
      "text/plain": [
       "<Figure size 432x288 with 1 Axes>"
      ]
     },
     "metadata": {},
     "output_type": "display_data"
    }
   ],
   "source": [
    "months = data['Date'].map(lambda t: t.month)\n",
    "\n",
    "plt.hist(months, bins=12)\n",
    "plt.xlabel('Month of the year')\n",
    "plt.ylabel('Count')\n",
    "plt.title('Month distribution')\n",
    "\n",
    "plt.show()"
   ]
  },
  {
   "cell_type": "markdown",
   "metadata": {},
   "source": [
    "The histogram of month distribution shows that larger number of games were released around **May** and **October** than on other months, which is predictable from the reality. \n",
    "\n",
    "There are two important world-wide gaming show annually: E3, GC, and TGS. Usually E3 starts around May and June, while GC and TGS are held around September and October. In order to attract people's attention on the show, many game developers choose to release many of their games around these two periods. At other times, the developers begin to design new games and prepare for the next show, only those unfamous Indie game developers not caring about the show release new games. \n",
    "\n",
    "This perfectly explains why the number of released games decreases significantly after May and October."
   ]
  },
  {
   "cell_type": "markdown",
   "metadata": {},
   "source": [
    "Finally, we had the distribution of week days on which games were released:"
   ]
  },
  {
   "cell_type": "code",
   "execution_count": 18,
   "metadata": {
    "scrolled": true
   },
   "outputs": [
    {
     "data": {
      "image/png": "[encoded data removed]",
      "text/plain": [
       "<Figure size 432x288 with 1 Axes>"
      ]
     },
     "metadata": {},
     "output_type": "display_data"
    }
   ],
   "source": [
    "# 0: Monday, 6: Sunday\n",
    "week_days = data['Date'].map(lambda t: t.weekday())\n",
    "\n",
    "plt.hist(week_days, bins=7)\n",
    "plt.xlabel('Day of the week')\n",
    "plt.ylabel('Count')\n",
    "plt.title('Week day distribution')\n",
    "\n",
    "plt.show()"
   ]
  },
  {
   "cell_type": "markdown",
   "metadata": {},
   "source": [
    "From the distribution, most games were released on **Thursday** and **Friday**, while very few games were released on weekends. Thursday and Friday are perfect for releasing games because they are close to the weekend, and it is easier for game fanatics to notice, purchase, and play games. So it is understandable that game developers choose to compete on these two days. \n",
    "\n",
    "The reason why few games were released on weekends is also obvious: at the precious rest time, gamers prefer playing their purchased games to wasting time on finding new games. Therefore, fewer people will notice games released on the weekend, making the game less profitable."
   ]
  },
  {
   "cell_type": "markdown",
   "metadata": {},
   "source": [
    "### Genre\n",
    "\n",
    "Firstly, we showed the distribution of the number of genres for each game:"
   ]
  },
  {
   "cell_type": "code",
   "execution_count": 19,
   "metadata": {
    "scrolled": true
   },
   "outputs": [
    {
     "data": {
      "image/png": "[encoded data removed]",
      "text/plain": [
       "<Figure size 432x288 with 1 Axes>"
      ]
     },
     "metadata": {},
     "output_type": "display_data"
    }
   ],
   "source": [
    "plt.hist(data[\"Genre Count\"],bins=11)\n",
    "plt.xlabel('Number of genre')\n",
    "plt.ylabel('Count')\n",
    "plt.title('Genre count outliers distribution')\n",
    "plt.show()"
   ]
  },
  {
   "cell_type": "markdown",
   "metadata": {},
   "source": [
    "Apparently, most of the games have two or three genres, and very few games have more than six genres. Since most of the games in our own game libraries also have two or three genres, the result is consistent with the reality.  \n",
    "  \n",
    "Next, for each genre we will count the number of games, sum up the total number of recommendations, and calculate the average number of recommendations. We do this in order to study the most popular and least popular genres. Also, in order to show the result intuitively, we use plotly to draw pie charts for each of the three groups of data."
   ]
  },
  {
   "cell_type": "code",
   "execution_count": 20,
   "metadata": {
    "scrolled": true
   },
   "outputs": [
    {
     "data": {
      "text/html": [
       "<div>\n",
       "<style scoped>\n",
       "    .dataframe tbody tr th:only-of-type {\n",
       "        vertical-align: middle;\n",
       "    }\n",
       "\n",
       "    .dataframe tbody tr th {\n",
       "        vertical-align: top;\n",
       "    }\n",
       "\n",
       "    .dataframe thead th {\n",
       "        text-align: right;\n",
       "    }\n",
       "</style>\n",
       "<table border=\"1\" class=\"dataframe\">\n",
       "  <thead>\n",
       "    <tr style=\"text-align: right;\">\n",
       "      <th></th>\n",
       "      <th>Count</th>\n",
       "      <th>%</th>\n",
       "      <th>Total recommendations</th>\n",
       "      <th>Recommendation %</th>\n",
       "      <th>Average Recommendation</th>\n",
       "      <th>Average Recommendation %</th>\n",
       "    </tr>\n",
       "  </thead>\n",
       "  <tbody>\n",
       "    <tr>\n",
       "      <th>Indie</th>\n",
       "      <td>7496</td>\n",
       "      <td>26.53</td>\n",
       "      <td>10,552,382.00</td>\n",
       "      <td>16.32</td>\n",
       "      <td>1,408.00</td>\n",
       "      <td>1.23</td>\n",
       "    </tr>\n",
       "    <tr>\n",
       "      <th>Action</th>\n",
       "      <td>4791</td>\n",
       "      <td>16.95</td>\n",
       "      <td>17,611,594.00</td>\n",
       "      <td>27.24</td>\n",
       "      <td>3,676.00</td>\n",
       "      <td>3.21</td>\n",
       "    </tr>\n",
       "    <tr>\n",
       "      <th>Adventure</th>\n",
       "      <td>4274</td>\n",
       "      <td>15.12</td>\n",
       "      <td>9,548,637.00</td>\n",
       "      <td>14.77</td>\n",
       "      <td>2,234.00</td>\n",
       "      <td>1.95</td>\n",
       "    </tr>\n",
       "    <tr>\n",
       "      <th>Casual</th>\n",
       "      <td>3379</td>\n",
       "      <td>11.96</td>\n",
       "      <td>2,212,479.00</td>\n",
       "      <td>3.42</td>\n",
       "      <td>655.00</td>\n",
       "      <td>0.57</td>\n",
       "    </tr>\n",
       "    <tr>\n",
       "      <th>Strategy</th>\n",
       "      <td>2147</td>\n",
       "      <td>7.60</td>\n",
       "      <td>4,150,542.00</td>\n",
       "      <td>6.42</td>\n",
       "      <td>1,933.00</td>\n",
       "      <td>1.69</td>\n",
       "    </tr>\n",
       "    <tr>\n",
       "      <th>RPG</th>\n",
       "      <td>2055</td>\n",
       "      <td>7.27</td>\n",
       "      <td>6,463,734.00</td>\n",
       "      <td>10.00</td>\n",
       "      <td>3,145.00</td>\n",
       "      <td>2.74</td>\n",
       "    </tr>\n",
       "    <tr>\n",
       "      <th>Simulation</th>\n",
       "      <td>1710</td>\n",
       "      <td>6.05</td>\n",
       "      <td>4,741,217.00</td>\n",
       "      <td>7.33</td>\n",
       "      <td>2,773.00</td>\n",
       "      <td>2.42</td>\n",
       "    </tr>\n",
       "    <tr>\n",
       "      <th>Early Access</th>\n",
       "      <td>498</td>\n",
       "      <td>1.76</td>\n",
       "      <td>510,639.00</td>\n",
       "      <td>0.79</td>\n",
       "      <td>1,025.00</td>\n",
       "      <td>0.89</td>\n",
       "    </tr>\n",
       "    <tr>\n",
       "      <th>Free to Play</th>\n",
       "      <td>475</td>\n",
       "      <td>1.68</td>\n",
       "      <td>3,666,340.00</td>\n",
       "      <td>5.67</td>\n",
       "      <td>7,719.00</td>\n",
       "      <td>6.73</td>\n",
       "    </tr>\n",
       "    <tr>\n",
       "      <th>Sports</th>\n",
       "      <td>348</td>\n",
       "      <td>1.23</td>\n",
       "      <td>638,325.00</td>\n",
       "      <td>0.99</td>\n",
       "      <td>1,834.00</td>\n",
       "      <td>1.60</td>\n",
       "    </tr>\n",
       "    <tr>\n",
       "      <th>Racing</th>\n",
       "      <td>343</td>\n",
       "      <td>1.21</td>\n",
       "      <td>675,436.00</td>\n",
       "      <td>1.04</td>\n",
       "      <td>1,969.00</td>\n",
       "      <td>1.72</td>\n",
       "    </tr>\n",
       "    <tr>\n",
       "      <th>Massively Multiplayer</th>\n",
       "      <td>341</td>\n",
       "      <td>1.21</td>\n",
       "      <td>2,836,026.00</td>\n",
       "      <td>4.39</td>\n",
       "      <td>8,317.00</td>\n",
       "      <td>7.25</td>\n",
       "    </tr>\n",
       "    <tr>\n",
       "      <th>Violent</th>\n",
       "      <td>125</td>\n",
       "      <td>0.44</td>\n",
       "      <td>42,973.00</td>\n",
       "      <td>0.07</td>\n",
       "      <td>344.00</td>\n",
       "      <td>0.30</td>\n",
       "    </tr>\n",
       "    <tr>\n",
       "      <th>Gore</th>\n",
       "      <td>84</td>\n",
       "      <td>0.30</td>\n",
       "      <td>33,825.00</td>\n",
       "      <td>0.05</td>\n",
       "      <td>403.00</td>\n",
       "      <td>0.35</td>\n",
       "    </tr>\n",
       "    <tr>\n",
       "      <th>Sexual Content</th>\n",
       "      <td>48</td>\n",
       "      <td>0.17</td>\n",
       "      <td>41,997.00</td>\n",
       "      <td>0.06</td>\n",
       "      <td>875.00</td>\n",
       "      <td>0.76</td>\n",
       "    </tr>\n",
       "    <tr>\n",
       "      <th>Nudity</th>\n",
       "      <td>47</td>\n",
       "      <td>0.17</td>\n",
       "      <td>40,560.00</td>\n",
       "      <td>0.06</td>\n",
       "      <td>863.00</td>\n",
       "      <td>0.75</td>\n",
       "    </tr>\n",
       "    <tr>\n",
       "      <th>Design &amp; Illustration</th>\n",
       "      <td>20</td>\n",
       "      <td>0.07</td>\n",
       "      <td>224,359.00</td>\n",
       "      <td>0.35</td>\n",
       "      <td>11,218.00</td>\n",
       "      <td>9.78</td>\n",
       "    </tr>\n",
       "    <tr>\n",
       "      <th>Utilities</th>\n",
       "      <td>19</td>\n",
       "      <td>0.07</td>\n",
       "      <td>219,355.00</td>\n",
       "      <td>0.34</td>\n",
       "      <td>11,545.00</td>\n",
       "      <td>10.07</td>\n",
       "    </tr>\n",
       "    <tr>\n",
       "      <th>Animation &amp; Modeling</th>\n",
       "      <td>11</td>\n",
       "      <td>0.04</td>\n",
       "      <td>213,389.00</td>\n",
       "      <td>0.33</td>\n",
       "      <td>19,399.00</td>\n",
       "      <td>16.91</td>\n",
       "    </tr>\n",
       "    <tr>\n",
       "      <th>Movie</th>\n",
       "      <td>11</td>\n",
       "      <td>0.04</td>\n",
       "      <td>3,147.00</td>\n",
       "      <td>0.00</td>\n",
       "      <td>286.00</td>\n",
       "      <td>0.25</td>\n",
       "    </tr>\n",
       "    <tr>\n",
       "      <th>Photo Editing</th>\n",
       "      <td>7</td>\n",
       "      <td>0.02</td>\n",
       "      <td>207,593.00</td>\n",
       "      <td>0.32</td>\n",
       "      <td>29,656.00</td>\n",
       "      <td>25.86</td>\n",
       "    </tr>\n",
       "    <tr>\n",
       "      <th>Documentary</th>\n",
       "      <td>6</td>\n",
       "      <td>0.02</td>\n",
       "      <td>1,586.00</td>\n",
       "      <td>0.00</td>\n",
       "      <td>264.00</td>\n",
       "      <td>0.23</td>\n",
       "    </tr>\n",
       "    <tr>\n",
       "      <th>Web Publishing</th>\n",
       "      <td>5</td>\n",
       "      <td>0.02</td>\n",
       "      <td>6,952.00</td>\n",
       "      <td>0.01</td>\n",
       "      <td>1,390.00</td>\n",
       "      <td>1.21</td>\n",
       "    </tr>\n",
       "    <tr>\n",
       "      <th>Video Production</th>\n",
       "      <td>4</td>\n",
       "      <td>0.01</td>\n",
       "      <td>5,842.00</td>\n",
       "      <td>0.01</td>\n",
       "      <td>1,460.00</td>\n",
       "      <td>1.27</td>\n",
       "    </tr>\n",
       "    <tr>\n",
       "      <th>Education</th>\n",
       "      <td>4</td>\n",
       "      <td>0.01</td>\n",
       "      <td>0.00</td>\n",
       "      <td>0.00</td>\n",
       "      <td>0.00</td>\n",
       "      <td>0.00</td>\n",
       "    </tr>\n",
       "    <tr>\n",
       "      <th>Audio Production</th>\n",
       "      <td>3</td>\n",
       "      <td>0.01</td>\n",
       "      <td>672.00</td>\n",
       "      <td>0.00</td>\n",
       "      <td>224.00</td>\n",
       "      <td>0.20</td>\n",
       "    </tr>\n",
       "    <tr>\n",
       "      <th>Short</th>\n",
       "      <td>2</td>\n",
       "      <td>0.01</td>\n",
       "      <td>0.00</td>\n",
       "      <td>0.00</td>\n",
       "      <td>0.00</td>\n",
       "      <td>0.00</td>\n",
       "    </tr>\n",
       "    <tr>\n",
       "      <th>Episodic</th>\n",
       "      <td>2</td>\n",
       "      <td>0.01</td>\n",
       "      <td>0.00</td>\n",
       "      <td>0.00</td>\n",
       "      <td>0.00</td>\n",
       "      <td>0.00</td>\n",
       "    </tr>\n",
       "    <tr>\n",
       "      <th>Game Development</th>\n",
       "      <td>2</td>\n",
       "      <td>0.01</td>\n",
       "      <td>143.00</td>\n",
       "      <td>0.00</td>\n",
       "      <td>72.00</td>\n",
       "      <td>0.06</td>\n",
       "    </tr>\n",
       "    <tr>\n",
       "      <th>Software Training</th>\n",
       "      <td>1</td>\n",
       "      <td>0.00</td>\n",
       "      <td>0.00</td>\n",
       "      <td>0.00</td>\n",
       "      <td>0.00</td>\n",
       "      <td>0.00</td>\n",
       "    </tr>\n",
       "  </tbody>\n",
       "</table>\n",
       "</div>"
      ],
      "text/plain": [
       "                       Count     %  Total recommendations  Recommendation %  \\\n",
       "Indie                   7496 26.53          10,552,382.00             16.32   \n",
       "Action                  4791 16.95          17,611,594.00             27.24   \n",
       "Adventure               4274 15.12           9,548,637.00             14.77   \n",
       "Casual                  3379 11.96           2,212,479.00              3.42   \n",
       "Strategy                2147  7.60           4,150,542.00              6.42   \n",
       "RPG                     2055  7.27           6,463,734.00             10.00   \n",
       "Simulation              1710  6.05           4,741,217.00              7.33   \n",
       "Early Access             498  1.76             510,639.00              0.79   \n",
       "Free to Play             475  1.68           3,666,340.00              5.67   \n",
       "Sports                   348  1.23             638,325.00              0.99   \n",
       "Racing                   343  1.21             675,436.00              1.04   \n",
       "Massively Multiplayer    341  1.21           2,836,026.00              4.39   \n",
       "Violent                  125  0.44              42,973.00              0.07   \n",
       "Gore                      84  0.30              33,825.00              0.05   \n",
       "Sexual Content            48  0.17              41,997.00              0.06   \n",
       "Nudity                    47  0.17              40,560.00              0.06   \n",
       "Design & Illustration     20  0.07             224,359.00              0.35   \n",
       "Utilities                 19  0.07             219,355.00              0.34   \n",
       "Animation & Modeling      11  0.04             213,389.00              0.33   \n",
       "Movie                     11  0.04               3,147.00              0.00   \n",
       "Photo Editing              7  0.02             207,593.00              0.32   \n",
       "Documentary                6  0.02               1,586.00              0.00   \n",
       "Web Publishing             5  0.02               6,952.00              0.01   \n",
       "Video Production           4  0.01               5,842.00              0.01   \n",
       "Education                  4  0.01                   0.00              0.00   \n",
       "Audio Production           3  0.01                 672.00              0.00   \n",
       "Short                      2  0.01                   0.00              0.00   \n",
       "Episodic                   2  0.01                   0.00              0.00   \n",
       "Game Development           2  0.01                 143.00              0.00   \n",
       "Software Training          1  0.00                   0.00              0.00   \n",
       "\n",
       "                       Average Recommendation  Average Recommendation %  \n",
       "Indie                                1,408.00                      1.23  \n",
       "Action                               3,676.00                      3.21  \n",
       "Adventure                            2,234.00                      1.95  \n",
       "Casual                                 655.00                      0.57  \n",
       "Strategy                             1,933.00                      1.69  \n",
       "RPG                                  3,145.00                      2.74  \n",
       "Simulation                           2,773.00                      2.42  \n",
       "Early Access                         1,025.00                      0.89  \n",
       "Free to Play                         7,719.00                      6.73  \n",
       "Sports                               1,834.00                      1.60  \n",
       "Racing                               1,969.00                      1.72  \n",
       "Massively Multiplayer                8,317.00                      7.25  \n",
       "Violent                                344.00                      0.30  \n",
       "Gore                                   403.00                      0.35  \n",
       "Sexual Content                         875.00                      0.76  \n",
       "Nudity                                 863.00                      0.75  \n",
       "Design & Illustration               11,218.00                      9.78  \n",
       "Utilities                           11,545.00                     10.07  \n",
       "Animation & Modeling                19,399.00                     16.91  \n",
       "Movie                                  286.00                      0.25  \n",
       "Photo Editing                       29,656.00                     25.86  \n",
       "Documentary                            264.00                      0.23  \n",
       "Web Publishing                       1,390.00                      1.21  \n",
       "Video Production                     1,460.00                      1.27  \n",
       "Education                                0.00                      0.00  \n",
       "Audio Production                       224.00                      0.20  \n",
       "Short                                    0.00                      0.00  \n",
       "Episodic                                 0.00                      0.00  \n",
       "Game Development                        72.00                      0.06  \n",
       "Software Training                        0.00                      0.00  "
      ]
     },
     "execution_count": 20,
     "metadata": {},
     "output_type": "execute_result"
    }
   ],
   "source": [
    "## Genre count and percentage\n",
    "append_genre = pd.Series(dtype=str)\n",
    "for i in Genre_Columns:\n",
    "    append_genre = append_genre.append(data[i])\n",
    "Unique_genre = append_genre.unique()\n",
    "Genre_stat = pd.DataFrame(append_genre.value_counts(),columns=[\"Count\"])\n",
    "Genre_stat[\"%\"] = Genre_stat[\"Count\"]/sum(Genre_stat[\"Count\"])*100\n",
    "\n",
    "## Recommendation sum of each genre\n",
    "df1 = data[[\"Genre1\",\"Recommendations\"]].groupby(by=\"Genre1\").sum().reset_index().rename(columns= {\"Genre1\":\"Genre\",\"Recommendations\":\"R1\"}) \n",
    "df2 = data[[\"Genre2\",\"Recommendations\"]].groupby(by=\"Genre2\").sum().reset_index().rename(columns= {\"Genre2\":\"Genre\",\"Recommendations\":\"R2\"})\n",
    "df3 = data[[\"Genre3\",\"Recommendations\"]].groupby(by=\"Genre3\").sum().reset_index().rename(columns= {\"Genre3\":\"Genre\",\"Recommendations\":\"R3\"})\n",
    "df4 = data[[\"Genre4\",\"Recommendations\"]].groupby(by=\"Genre4\").sum().reset_index().rename(columns= {\"Genre4\":\"Genre\",\"Recommendations\":\"R4\"})\n",
    "df5 = data[[\"Genre5\",\"Recommendations\"]].groupby(by=\"Genre5\").sum().reset_index().rename(columns= {\"Genre5\":\"Genre\",\"Recommendations\":\"R5\"})\n",
    "df6 = data[[\"Genre6\",\"Recommendations\"]].groupby(by=\"Genre6\").sum().reset_index().rename(columns= {\"Genre6\":\"Genre\",\"Recommendations\":\"R6\"})\n",
    "df7 = data[[\"Genre7\",\"Recommendations\"]].groupby(by=\"Genre7\").sum().reset_index().rename(columns= {\"Genre7\":\"Genre\",\"Recommendations\":\"R7\"})\n",
    "df8 = data[[\"Genre8\",\"Recommendations\"]].groupby(by=\"Genre8\").sum().reset_index().rename(columns= {\"Genre8\":\"Genre\",\"Recommendations\":\"R8\"})\n",
    "df9 = data[[\"Genre9\",\"Recommendations\"]].groupby(by=\"Genre9\").sum().reset_index().rename(columns= {\"Genre9\":\"Genre\",\"Recommendations\":\"R9\"})\n",
    "df10 = data[[\"Genre10\",\"Recommendations\"]].groupby(by=\"Genre10\").sum().reset_index().rename(columns= {\"Genre10\":\"Genre\",\"Recommendations\":\"R10\"})\n",
    "df11 = data[[\"Genre11\",\"Recommendations\"]].groupby(by=\"Genre11\").sum().reset_index().rename(columns= {\"Genre11\":\"Genre\",\"Recommendations\":\"R11\"})\n",
    "\n",
    "recom_by_genre = reduce(lambda  left,right: pd.merge(left,right,on=['Genre'],how='outer'), [df1,df2,df3,df4,df5,df6,df7,df8,df9,df10,df11])\n",
    "recom_by_genre = recom_by_genre.fillna(0)\n",
    "recom_by_genre[\"Total recommendations\"] = recom_by_genre[\"R1\"]+recom_by_genre[\"R2\"]+recom_by_genre[\"R3\"]+recom_by_genre[\"R4\"]+recom_by_genre[\"R5\"]+recom_by_genre[\"R6\"]+recom_by_genre[\"R7\"]+recom_by_genre[\"R8\"]+recom_by_genre[\"R9\"]+recom_by_genre[\"R10\"]+recom_by_genre[\"R11\"]\n",
    "total_recom_by_genre = recom_by_genre[[\"Genre\",\"Total recommendations\"]]\n",
    "total_recom_by_genre = total_recom_by_genre.sort_values(by=\"Total recommendations\", ascending=False).reset_index().drop(\"index\",axis=1)\n",
    "total_recom_by_genre = total_recom_by_genre.set_index(\"Genre\")\n",
    "Genre_stat = Genre_stat.join(total_recom_by_genre)\n",
    "Genre_stat[\"Recommendation %\"] = Genre_stat[\"Total recommendations\"]/sum(Genre_stat[\"Total recommendations\"])*100\n",
    "\n",
    "## Average recommendation for each genre\n",
    "Genre_stat[\"Average Recommendation\"] = round(Genre_stat[\"Total recommendations\"]/Genre_stat[\"Count\"],0)\n",
    "Genre_stat[\"Average Recommendation %\"] = Genre_stat[\"Average Recommendation\"]/sum(Genre_stat[\"Average Recommendation\"])*100\n",
    "\n",
    "Genre_stat"
   ]
  },
  {
   "cell_type": "code",
   "execution_count": 21,
   "metadata": {},
   "outputs": [
    {
     "data": {
      "application/vnd.plotly.v1+json": {
       "config": {
        "plotlyServerURL": "https://plot.ly"
       },
       "data": [
        {
         "domain": {
          "x": [
           0,
           0.2888888888888889
          ],
          "y": [
           0,
           1
          ]
         },
         "hole": 0.5,
         "hoverinfo": "label+percent+value",
         "labels": [
          "Indie",
          "Action",
          "Adventure",
          "Casual",
          "Strategy",
          "RPG",
          "Simulation",
          "Early Access",
          "Free to Play",
          "Sports",
          "Racing",
          "Massively Multiplayer",
          "Violent",
          "Gore",
          "Sexual Content",
          "Nudity",
          "Design & Illustration",
          "Utilities",
          "Animation & Modeling",
          "Movie",
          "Photo Editing",
          "Documentary",
          "Web Publishing",
          "Video Production",
          "Education",
          "Audio Production",
          "Short",
          "Episodic",
          "Game Development",
          "Software Training"
         ],
         "name": "Genre Count",
         "textinfo": "value",
         "textposition": "inside",
         "type": "pie",
         "values": [
          7496,
          4791,
          4274,
          3379,
          2147,
          2055,
          1710,
          498,
          475,
          348,
          343,
          341,
          125,
          84,
          48,
          47,
          20,
          19,
          11,
          11,
          7,
          6,
          5,
          4,
          4,
          3,
          2,
          2,
          2,
          1
         ]
        },
        {
         "domain": {
          "x": [
           0.35555555555555557,
           0.6444444444444445
          ],
          "y": [
           0,
           1
          ]
         },
         "hole": 0.5,
         "hoverinfo": "label+percent+value",
         "labels": [
          "Indie",
          "Action",
          "Adventure",
          "Casual",
          "Strategy",
          "RPG",
          "Simulation",
          "Early Access",
          "Free to Play",
          "Sports",
          "Racing",
          "Massively Multiplayer",
          "Violent",
          "Gore",
          "Sexual Content",
          "Nudity",
          "Design & Illustration",
          "Utilities",
          "Animation & Modeling",
          "Movie",
          "Photo Editing",
          "Documentary",
          "Web Publishing",
          "Video Production",
          "Education",
          "Audio Production",
          "Short",
          "Episodic",
          "Game Development",
          "Software Training"
         ],
         "name": "Total recommendations",
         "textinfo": "value",
         "textposition": "inside",
         "type": "pie",
         "values": [
          10552382,
          17611594,
          9548637,
          2212479,
          4150542,
          6463734,
          4741217,
          510639,
          3666340,
          638325,
          675436,
          2836026,
          42973,
          33825,
          41997,
          40560,
          224359,
          219355,
          213389,
          3147,
          207593,
          1586,
          6952,
          5842,
          0,
          672,
          0,
          0,
          143,
          0
         ]
        },
        {
         "domain": {
          "x": [
           0.7111111111111111,
           1
          ],
          "y": [
           0,
           1
          ]
         },
         "hole": 0.5,
         "hoverinfo": "label+percent+value",
         "labels": [
          "Indie",
          "Action",
          "Adventure",
          "Casual",
          "Strategy",
          "RPG",
          "Simulation",
          "Early Access",
          "Free to Play",
          "Sports",
          "Racing",
          "Massively Multiplayer",
          "Violent",
          "Gore",
          "Sexual Content",
          "Nudity",
          "Design & Illustration",
          "Utilities",
          "Animation & Modeling",
          "Movie",
          "Photo Editing",
          "Documentary",
          "Web Publishing",
          "Video Production",
          "Education",
          "Audio Production",
          "Short",
          "Episodic",
          "Game Development",
          "Software Training"
         ],
         "name": "Average Recommendation",
         "textinfo": "value",
         "textposition": "inside",
         "type": "pie",
         "values": [
          1408,
          3676,
          2234,
          655,
          1933,
          3145,
          2773,
          1025,
          7719,
          1834,
          1969,
          8317,
          344,
          403,
          875,
          863,
          11218,
          11545,
          19399,
          286,
          29656,
          264,
          1390,
          1460,
          0,
          224,
          0,
          0,
          72,
          0
         ]
        }
       ],
       "layout": {
        "annotations": [
         {
          "font": {
           "size": 14
          },
          "showarrow": false,
          "text": "Count",
          "x": 0.11,
          "y": 0.5
         },
         {
          "font": {
           "size": 14
          },
          "showarrow": false,
          "text": "Recommend",
          "x": 0.5,
          "y": 0.5
         },
         {
          "font": {
           "size": 14
          },
          "showarrow": false,
          "text": "Average",
          "x": 0.9,
          "y": 0.53
         },
         {
          "font": {
           "size": 14
          },
          "showarrow": false,
          "text": "Recommend",
          "x": 0.92,
          "y": 0.48
         }
        ],
        "template": {
         "data": {
          "bar": [
           {
            "error_x": {
             "color": "#2a3f5f"
            },
            "error_y": {
             "color": "#2a3f5f"
            },
            "marker": {
             "line": {
              "color": "#E5ECF6",
              "width": 0.5
             },
             "pattern": {
              "fillmode": "overlay",
              "size": 10,
              "solidity": 0.2
             }
            },
            "type": "bar"
           }
          ],
          "barpolar": [
           {
            "marker": {
             "line": {
              "color": "#E5ECF6",
              "width": 0.5
             },
             "pattern": {
              "fillmode": "overlay",
              "size": 10,
              "solidity": 0.2
             }
            },
            "type": "barpolar"
           }
          ],
          "carpet": [
           {
            "aaxis": {
             "endlinecolor": "#2a3f5f",
             "gridcolor": "white",
             "linecolor": "white",
             "minorgridcolor": "white",
             "startlinecolor": "#2a3f5f"
            },
            "baxis": {
             "endlinecolor": "#2a3f5f",
             "gridcolor": "white",
             "linecolor": "white",
             "minorgridcolor": "white",
             "startlinecolor": "#2a3f5f"
            },
            "type": "carpet"
           }
          ],
          "choropleth": [
           {
            "colorbar": {
             "outlinewidth": 0,
             "ticks": ""
            },
            "type": "choropleth"
           }
          ],
          "contour": [
           {
            "colorbar": {
             "outlinewidth": 0,
             "ticks": ""
            },
            "colorscale": [
             [
              0,
              "#0d0887"
             ],
             [
              0.1111111111111111,
              "#46039f"
             ],
             [
              0.2222222222222222,
              "#7201a8"
             ],
             [
              0.3333333333333333,
              "#9c179e"
             ],
             [
              0.4444444444444444,
              "#bd3786"
             ],
             [
              0.5555555555555556,
              "#d8576b"
             ],
             [
              0.6666666666666666,
              "#ed7953"
             ],
             [
              0.7777777777777778,
              "#fb9f3a"
             ],
             [
              0.8888888888888888,
              "#fdca26"
             ],
             [
              1,
              "#f0f921"
             ]
            ],
            "type": "contour"
           }
          ],
          "contourcarpet": [
           {
            "colorbar": {
             "outlinewidth": 0,
             "ticks": ""
            },
            "type": "contourcarpet"
           }
          ],
          "heatmap": [
           {
            "colorbar": {
             "outlinewidth": 0,
             "ticks": ""
            },
            "colorscale": [
             [
              0,
              "#0d0887"
             ],
             [
              0.1111111111111111,
              "#46039f"
             ],
             [
              0.2222222222222222,
              "#7201a8"
             ],
             [
              0.3333333333333333,
              "#9c179e"
             ],
             [
              0.4444444444444444,
              "#bd3786"
             ],
             [
              0.5555555555555556,
              "#d8576b"
             ],
             [
              0.6666666666666666,
              "#ed7953"
             ],
             [
              0.7777777777777778,
              "#fb9f3a"
             ],
             [
              0.8888888888888888,
              "#fdca26"
             ],
             [
              1,
              "#f0f921"
             ]
            ],
            "type": "heatmap"
           }
          ],
          "heatmapgl": [
           {
            "colorbar": {
             "outlinewidth": 0,
             "ticks": ""
            },
            "colorscale": [
             [
              0,
              "#0d0887"
             ],
             [
              0.1111111111111111,
              "#46039f"
             ],
             [
              0.2222222222222222,
              "#7201a8"
             ],
             [
              0.3333333333333333,
              "#9c179e"
             ],
             [
              0.4444444444444444,
              "#bd3786"
             ],
             [
              0.5555555555555556,
              "#d8576b"
             ],
             [
              0.6666666666666666,
              "#ed7953"
             ],
             [
              0.7777777777777778,
              "#fb9f3a"
             ],
             [
              0.8888888888888888,
              "#fdca26"
             ],
             [
              1,
              "#f0f921"
             ]
            ],
            "type": "heatmapgl"
           }
          ],
          "histogram": [
           {
            "marker": {
             "pattern": {
              "fillmode": "overlay",
              "size": 10,
              "solidity": 0.2
             }
            },
            "type": "histogram"
           }
          ],
          "histogram2d": [
           {
            "colorbar": {
             "outlinewidth": 0,
             "ticks": ""
            },
            "colorscale": [
             [
              0,
              "#0d0887"
             ],
             [
              0.1111111111111111,
              "#46039f"
             ],
             [
              0.2222222222222222,
              "#7201a8"
             ],
             [
              0.3333333333333333,
              "#9c179e"
             ],
             [
              0.4444444444444444,
              "#bd3786"
             ],
             [
              0.5555555555555556,
              "#d8576b"
             ],
             [
              0.6666666666666666,
              "#ed7953"
             ],
             [
              0.7777777777777778,
              "#fb9f3a"
             ],
             [
              0.8888888888888888,
              "#fdca26"
             ],
             [
              1,
              "#f0f921"
             ]
            ],
            "type": "histogram2d"
           }
          ],
          "histogram2dcontour": [
           {
            "colorbar": {
             "outlinewidth": 0,
             "ticks": ""
            },
            "colorscale": [
             [
              0,
              "#0d0887"
             ],
             [
              0.1111111111111111,
              "#46039f"
             ],
             [
              0.2222222222222222,
              "#7201a8"
             ],
             [
              0.3333333333333333,
              "#9c179e"
             ],
             [
              0.4444444444444444,
              "#bd3786"
             ],
             [
              0.5555555555555556,
              "#d8576b"
             ],
             [
              0.6666666666666666,
              "#ed7953"
             ],
             [
              0.7777777777777778,
              "#fb9f3a"
             ],
             [
              0.8888888888888888,
              "#fdca26"
             ],
             [
              1,
              "#f0f921"
             ]
            ],
            "type": "histogram2dcontour"
           }
          ],
          "mesh3d": [
           {
            "colorbar": {
             "outlinewidth": 0,
             "ticks": ""
            },
            "type": "mesh3d"
           }
          ],
          "parcoords": [
           {
            "line": {
             "colorbar": {
              "outlinewidth": 0,
              "ticks": ""
             }
            },
            "type": "parcoords"
           }
          ],
          "pie": [
           {
            "automargin": true,
            "type": "pie"
           }
          ],
          "scatter": [
           {
            "marker": {
             "colorbar": {
              "outlinewidth": 0,
              "ticks": ""
             }
            },
            "type": "scatter"
           }
          ],
          "scatter3d": [
           {
            "line": {
             "colorbar": {
              "outlinewidth": 0,
              "ticks": ""
             }
            },
            "marker": {
             "colorbar": {
              "outlinewidth": 0,
              "ticks": ""
             }
            },
            "type": "scatter3d"
           }
          ],
          "scattercarpet": [
           {
            "marker": {
             "colorbar": {
              "outlinewidth": 0,
              "ticks": ""
             }
            },
            "type": "scattercarpet"
           }
          ],
          "scattergeo": [
           {
            "marker": {
             "colorbar": {
              "outlinewidth": 0,
              "ticks": ""
             }
            },
            "type": "scattergeo"
           }
          ],
          "scattergl": [
           {
            "marker": {
             "colorbar": {
              "outlinewidth": 0,
              "ticks": ""
             }
            },
            "type": "scattergl"
           }
          ],
          "scattermapbox": [
           {
            "marker": {
             "colorbar": {
              "outlinewidth": 0,
              "ticks": ""
             }
            },
            "type": "scattermapbox"
           }
          ],
          "scatterpolar": [
           {
            "marker": {
             "colorbar": {
              "outlinewidth": 0,
              "ticks": ""
             }
            },
            "type": "scatterpolar"
           }
          ],
          "scatterpolargl": [
           {
            "marker": {
             "colorbar": {
              "outlinewidth": 0,
              "ticks": ""
             }
            },
            "type": "scatterpolargl"
           }
          ],
          "scatterternary": [
           {
            "marker": {
             "colorbar": {
              "outlinewidth": 0,
              "ticks": ""
             }
            },
            "type": "scatterternary"
           }
          ],
          "surface": [
           {
            "colorbar": {
             "outlinewidth": 0,
             "ticks": ""
            },
            "colorscale": [
             [
              0,
              "#0d0887"
             ],
             [
              0.1111111111111111,
              "#46039f"
             ],
             [
              0.2222222222222222,
              "#7201a8"
             ],
             [
              0.3333333333333333,
              "#9c179e"
             ],
             [
              0.4444444444444444,
              "#bd3786"
             ],
             [
              0.5555555555555556,
              "#d8576b"
             ],
             [
              0.6666666666666666,
              "#ed7953"
             ],
             [
              0.7777777777777778,
              "#fb9f3a"
             ],
             [
              0.8888888888888888,
              "#fdca26"
             ],
             [
              1,
              "#f0f921"
             ]
            ],
            "type": "surface"
           }
          ],
          "table": [
           {
            "cells": {
             "fill": {
              "color": "#EBF0F8"
             },
             "line": {
              "color": "white"
             }
            },
            "header": {
             "fill": {
              "color": "#C8D4E3"
             },
             "line": {
              "color": "white"
             }
            },
            "type": "table"
           }
          ]
         },
         "layout": {
          "annotationdefaults": {
           "arrowcolor": "#2a3f5f",
           "arrowhead": 0,
           "arrowwidth": 1
          },
          "autotypenumbers": "strict",
          "coloraxis": {
           "colorbar": {
            "outlinewidth": 0,
            "ticks": ""
           }
          },
          "colorscale": {
           "diverging": [
            [
             0,
             "#8e0152"
            ],
            [
             0.1,
             "#c51b7d"
            ],
            [
             0.2,
             "#de77ae"
            ],
            [
             0.3,
             "#f1b6da"
            ],
            [
             0.4,
             "#fde0ef"
            ],
            [
             0.5,
             "#f7f7f7"
            ],
            [
             0.6,
             "#e6f5d0"
            ],
            [
             0.7,
             "#b8e186"
            ],
            [
             0.8,
             "#7fbc41"
            ],
            [
             0.9,
             "#4d9221"
            ],
            [
             1,
             "#276419"
            ]
           ],
           "sequential": [
            [
             0,
             "#0d0887"
            ],
            [
             0.1111111111111111,
             "#46039f"
            ],
            [
             0.2222222222222222,
             "#7201a8"
            ],
            [
             0.3333333333333333,
             "#9c179e"
            ],
            [
             0.4444444444444444,
             "#bd3786"
            ],
            [
             0.5555555555555556,
             "#d8576b"
            ],
            [
             0.6666666666666666,
             "#ed7953"
            ],
            [
             0.7777777777777778,
             "#fb9f3a"
            ],
            [
             0.8888888888888888,
             "#fdca26"
            ],
            [
             1,
             "#f0f921"
            ]
           ],
           "sequentialminus": [
            [
             0,
             "#0d0887"
            ],
            [
             0.1111111111111111,
             "#46039f"
            ],
            [
             0.2222222222222222,
             "#7201a8"
            ],
            [
             0.3333333333333333,
             "#9c179e"
            ],
            [
             0.4444444444444444,
             "#bd3786"
            ],
            [
             0.5555555555555556,
             "#d8576b"
            ],
            [
             0.6666666666666666,
             "#ed7953"
            ],
            [
             0.7777777777777778,
             "#fb9f3a"
            ],
            [
             0.8888888888888888,
             "#fdca26"
            ],
            [
             1,
             "#f0f921"
            ]
           ]
          },
          "colorway": [
           "#636efa",
           "#EF553B",
           "#00cc96",
           "#ab63fa",
           "#FFA15A",
           "#19d3f3",
           "#FF6692",
           "#B6E880",
           "#FF97FF",
           "#FECB52"
          ],
          "font": {
           "color": "#2a3f5f"
          },
          "geo": {
           "bgcolor": "white",
           "lakecolor": "white",
           "landcolor": "#E5ECF6",
           "showlakes": true,
           "showland": true,
           "subunitcolor": "white"
          },
          "hoverlabel": {
           "align": "left"
          },
          "hovermode": "closest",
          "mapbox": {
           "style": "light"
          },
          "paper_bgcolor": "white",
          "plot_bgcolor": "#E5ECF6",
          "polar": {
           "angularaxis": {
            "gridcolor": "white",
            "linecolor": "white",
            "ticks": ""
           },
           "bgcolor": "#E5ECF6",
           "radialaxis": {
            "gridcolor": "white",
            "linecolor": "white",
            "ticks": ""
           }
          },
          "scene": {
           "xaxis": {
            "backgroundcolor": "#E5ECF6",
            "gridcolor": "white",
            "gridwidth": 2,
            "linecolor": "white",
            "showbackground": true,
            "ticks": "",
            "zerolinecolor": "white"
           },
           "yaxis": {
            "backgroundcolor": "#E5ECF6",
            "gridcolor": "white",
            "gridwidth": 2,
            "linecolor": "white",
            "showbackground": true,
            "ticks": "",
            "zerolinecolor": "white"
           },
           "zaxis": {
            "backgroundcolor": "#E5ECF6",
            "gridcolor": "white",
            "gridwidth": 2,
            "linecolor": "white",
            "showbackground": true,
            "ticks": "",
            "zerolinecolor": "white"
           }
          },
          "shapedefaults": {
           "line": {
            "color": "#2a3f5f"
           }
          },
          "ternary": {
           "aaxis": {
            "gridcolor": "white",
            "linecolor": "white",
            "ticks": ""
           },
           "baxis": {
            "gridcolor": "white",
            "linecolor": "white",
            "ticks": ""
           },
           "bgcolor": "#E5ECF6",
           "caxis": {
            "gridcolor": "white",
            "linecolor": "white",
            "ticks": ""
           }
          },
          "title": {
           "x": 0.05
          },
          "xaxis": {
           "automargin": true,
           "gridcolor": "white",
           "linecolor": "white",
           "ticks": "",
           "title": {
            "standoff": 15
           },
           "zerolinecolor": "white",
           "zerolinewidth": 2
          },
          "yaxis": {
           "automargin": true,
           "gridcolor": "white",
           "linecolor": "white",
           "ticks": "",
           "title": {
            "standoff": 15
           },
           "zerolinecolor": "white",
           "zerolinewidth": 2
          }
         }
        },
        "title": {
         "text": "Count and Recommendation by Genre of Games"
        },
        "uniformtext": {
         "minsize": 12,
         "mode": "hide"
        }
       }
      }
     },
     "metadata": {},
     "output_type": "display_data"
    }
   ],
   "source": [
    "labels = list(Genre_stat.index)\n",
    "count = list(Genre_stat.Count)\n",
    "total_r = list(Genre_stat[\"Total recommendations\"])\n",
    "avg_r = list(Genre_stat[\"Average Recommendation\"])\n",
    "\n",
    "# Create subplots: use 'domain' type for Pie subplot\n",
    "fig = make_subplots(rows=1, cols=3, specs=[[{'type':'domain'}, {'type':'domain'}, {'type':'domain'}]])\n",
    "fig.add_trace(go.Pie(labels=labels, values=count, name=\"Genre Count\"),\n",
    "              1, 1)\n",
    "fig.add_trace(go.Pie(labels=labels, values=total_r, name=\"Total recommendations\"),\n",
    "              1, 2)\n",
    "fig.add_trace(go.Pie(labels=labels, values=avg_r, name=\"Average Recommendation\"),\n",
    "              1, 3)\n",
    "                        \n",
    "# Use `hole` to create a donut-like pie chart\n",
    "fig.update_traces(hole=.5, textposition='inside', hoverinfo=\"label+percent+value\",textinfo='value')\n",
    "\n",
    "fig.update_layout(\n",
    "    title_text=\"Count and Recommendation by Genre of Games\",\n",
    "    uniformtext_minsize=12, uniformtext_mode='hide',\n",
    "    # Add annotations in the center of the donut pies.\n",
    "    annotations=[dict(text='Count', x=0.11, y=0.5, font_size=14, showarrow=False),\n",
    "                 dict(text='Recommend', x=0.5, y=0.5, font_size=14, showarrow=False),\n",
    "                 dict(text='Average', x=0.9, y=0.53, font_size=14, showarrow=False),\n",
    "                 dict(text='Recommend', x=0.92, y=0.48, font_size=14, showarrow=False)])\n",
    "fig.show()"
   ]
  },
  {
   "cell_type": "markdown",
   "metadata": {},
   "source": [
    "The results show that Indie games have the largest number, and Action games have the most total recommendations. Besides, the top 3 of both count and total recommendation are three major genres in Steam: Indie, Action and Adventure. \n",
    "\n",
    "It seems that the most popular genre should be one of these three, but the chart for average recommendations gives us a totally different result: the top 4 are even not the game! These four genres are all tools and software which are used instead of being played. By checking the number of recommendtions of each game in these four genres, we can easily find the reason for high average recommendations: an app called Wallpaper Engine, in which people can design, use and share self-made wallpapers. Belonging to all these genres, it has 206425 recommendation, which is at the 15th position among all games. With the small number of games in these genres, Wallpaper Engine drastically elevated their average recommendations. It is wise for the developer to publish such a software on a platform with numerous fanatics of games and animes. For other \"playable\" games, the most prevalent genre(the one with the highest average recommendations) is Massively Multiplayer, which can be easily explained by the extremely high popularity of H1Z1 and PUBG.\n",
    "\n",
    "There are also four genres that even don't have one single recommendation: Education, Episodic, Software training, and Short, which means that they are the least popular genres. A reasonable explanation is that, in contrast to Wallpaper Engine, these games or softwares' developers chose an inappropriate publishing platform. In other words, no one likes to watch series or learn how to code on steam: why doesn't he/she choose better platforms like Youtube or Udemy?"
   ]
  },
  {
   "cell_type": "markdown",
   "metadata": {},
   "source": [
    "### Developer"
   ]
  },
  {
   "cell_type": "code",
   "execution_count": 22,
   "metadata": {},
   "outputs": [
    {
     "name": "stdout",
     "output_type": "stream",
     "text": [
      "The mean is 1.13 with a standard deviation of 0.43.\n"
     ]
    },
    {
     "data": {
      "image/png": "[encoded data removed]",
      "text/plain": [
       "<Figure size 432x288 with 1 Axes>"
      ]
     },
     "metadata": {},
     "output_type": "display_data"
    }
   ],
   "source": [
    "print('The mean is {:0.2f} with a standard deviation of {:0.2f}.'\\\n",
    "      .format(data[\"Developer Count\"].mean(),data[\"Developer Count\"].std()))\n",
    "\n",
    "plt.hist(data[data[\"Developer Count\"] > 1][\"Developer Count\"],bins=7)\n",
    "plt.xlabel('Number of developers')\n",
    "plt.ylabel('Count')\n",
    "plt.title('Developer count outliers distribution')\n",
    "plt.show()"
   ]
  },
  {
   "cell_type": "code",
   "execution_count": 23,
   "metadata": {
    "scrolled": true
   },
   "outputs": [
    {
     "data": {
      "text/html": [
       "<div>\n",
       "<style scoped>\n",
       "    .dataframe tbody tr th:only-of-type {\n",
       "        vertical-align: middle;\n",
       "    }\n",
       "\n",
       "    .dataframe tbody tr th {\n",
       "        vertical-align: top;\n",
       "    }\n",
       "\n",
       "    .dataframe thead th {\n",
       "        text-align: right;\n",
       "    }\n",
       "</style>\n",
       "<table border=\"1\" class=\"dataframe\">\n",
       "  <thead>\n",
       "    <tr style=\"text-align: right;\">\n",
       "      <th></th>\n",
       "      <th>Count</th>\n",
       "      <th>%</th>\n",
       "      <th>Total recommendations</th>\n",
       "      <th>Recommendation %</th>\n",
       "      <th>Average Recommendation</th>\n",
       "      <th>Average Recommendation ‱</th>\n",
       "    </tr>\n",
       "  </thead>\n",
       "  <tbody>\n",
       "    <tr>\n",
       "      <th>Square Enix</th>\n",
       "      <td>33</td>\n",
       "      <td>0.30</td>\n",
       "      <td>138,596.00</td>\n",
       "      <td>0.43</td>\n",
       "      <td>4,200.00</td>\n",
       "      <td>2.80</td>\n",
       "    </tr>\n",
       "    <tr>\n",
       "      <th>EnsenaSoft</th>\n",
       "      <td>32</td>\n",
       "      <td>0.29</td>\n",
       "      <td>824.00</td>\n",
       "      <td>0.00</td>\n",
       "      <td>26.00</td>\n",
       "      <td>0.02</td>\n",
       "    </tr>\n",
       "    <tr>\n",
       "      <th>Warfare Studios</th>\n",
       "      <td>29</td>\n",
       "      <td>0.27</td>\n",
       "      <td>714.00</td>\n",
       "      <td>0.00</td>\n",
       "      <td>25.00</td>\n",
       "      <td>0.02</td>\n",
       "    </tr>\n",
       "    <tr>\n",
       "      <th>Alawar Entertainment</th>\n",
       "      <td>29</td>\n",
       "      <td>0.27</td>\n",
       "      <td>2,486.00</td>\n",
       "      <td>0.01</td>\n",
       "      <td>86.00</td>\n",
       "      <td>0.06</td>\n",
       "    </tr>\n",
       "    <tr>\n",
       "      <th>Winged Cloud</th>\n",
       "      <td>27</td>\n",
       "      <td>0.25</td>\n",
       "      <td>13,853.00</td>\n",
       "      <td>0.04</td>\n",
       "      <td>513.00</td>\n",
       "      <td>0.34</td>\n",
       "    </tr>\n",
       "    <tr>\n",
       "      <th>...</th>\n",
       "      <td>...</td>\n",
       "      <td>...</td>\n",
       "      <td>...</td>\n",
       "      <td>...</td>\n",
       "      <td>...</td>\n",
       "      <td>...</td>\n",
       "    </tr>\n",
       "    <tr>\n",
       "      <th>Soap Interactive</th>\n",
       "      <td>1</td>\n",
       "      <td>0.01</td>\n",
       "      <td>0.00</td>\n",
       "      <td>0.00</td>\n",
       "      <td>0.00</td>\n",
       "      <td>0.00</td>\n",
       "    </tr>\n",
       "    <tr>\n",
       "      <th>ImCyan</th>\n",
       "      <td>1</td>\n",
       "      <td>0.01</td>\n",
       "      <td>0.00</td>\n",
       "      <td>0.00</td>\n",
       "      <td>0.00</td>\n",
       "      <td>0.00</td>\n",
       "    </tr>\n",
       "    <tr>\n",
       "      <th>DOG HOGGLER</th>\n",
       "      <td>1</td>\n",
       "      <td>0.01</td>\n",
       "      <td>0.00</td>\n",
       "      <td>0.00</td>\n",
       "      <td>0.00</td>\n",
       "      <td>0.00</td>\n",
       "    </tr>\n",
       "    <tr>\n",
       "      <th>橙光游戏</th>\n",
       "      <td>1</td>\n",
       "      <td>0.01</td>\n",
       "      <td>249.00</td>\n",
       "      <td>0.00</td>\n",
       "      <td>249.00</td>\n",
       "      <td>0.17</td>\n",
       "    </tr>\n",
       "    <tr>\n",
       "      <th>枕</th>\n",
       "      <td>1</td>\n",
       "      <td>0.01</td>\n",
       "      <td>2,859.00</td>\n",
       "      <td>0.01</td>\n",
       "      <td>2,859.00</td>\n",
       "      <td>1.90</td>\n",
       "    </tr>\n",
       "  </tbody>\n",
       "</table>\n",
       "<p>6872 rows × 6 columns</p>\n",
       "</div>"
      ],
      "text/plain": [
       "                      Count    %  Total recommendations  Recommendation %  \\\n",
       "Square Enix              33 0.30             138,596.00              0.43   \n",
       "EnsenaSoft               32 0.29                 824.00              0.00   \n",
       "Warfare Studios          29 0.27                 714.00              0.00   \n",
       "Alawar Entertainment     29 0.27               2,486.00              0.01   \n",
       "Winged Cloud             27 0.25              13,853.00              0.04   \n",
       "...                     ...  ...                    ...               ...   \n",
       "Soap Interactive          1 0.01                   0.00              0.00   \n",
       "ImCyan                    1 0.01                   0.00              0.00   \n",
       "DOG HOGGLER               1 0.01                   0.00              0.00   \n",
       "橙光游戏                      1 0.01                 249.00              0.00   \n",
       "枕                         1 0.01               2,859.00              0.01   \n",
       "\n",
       "                      Average Recommendation  Average Recommendation ‱  \n",
       "Square Enix                         4,200.00                      2.80  \n",
       "EnsenaSoft                             26.00                      0.02  \n",
       "Warfare Studios                        25.00                      0.02  \n",
       "Alawar Entertainment                   86.00                      0.06  \n",
       "Winged Cloud                          513.00                      0.34  \n",
       "...                                      ...                       ...  \n",
       "Soap Interactive                        0.00                      0.00  \n",
       "ImCyan                                  0.00                      0.00  \n",
       "DOG HOGGLER                             0.00                      0.00  \n",
       "橙光游戏                                  249.00                      0.17  \n",
       "枕                                   2,859.00                      1.90  \n",
       "\n",
       "[6872 rows x 6 columns]"
      ]
     },
     "execution_count": 23,
     "metadata": {},
     "output_type": "execute_result"
    }
   ],
   "source": [
    "## Developer count and percentage\n",
    "append_developer = data[\"Developer Major\"].append(data[\"Developer 2\"])\n",
    "Unique_developer = append_developer.unique()\n",
    "Developer_stat = pd.DataFrame(append_developer.value_counts(),columns=[\"Count\"])\n",
    "Developer_stat = Developer_stat.drop(labels=[\"Inc.\",\"LLC\",\"Ltd.\",\"LTD.\",\"Feral Interactive (Linux)\"])\n",
    "Developer_stat[\"%\"] = round(Developer_stat[\"Count\"]/sum(Developer_stat[\"Count\"])*100,2)\n",
    "\n",
    "## Recommendation sum of each developer\n",
    "df1 = data[[\"Developer Major\",\"Recommendations\"]].groupby(by=\"Developer Major\").sum().reset_index().rename(columns= {\"Developer Major\":\"Developer\",\"Recommendations\":\"R1\"}) \n",
    "df2 = data[[\"Developer 2\",\"Recommendations\"]].groupby(by=\"Developer 2\").sum().reset_index().rename(columns= {\"Developer 2\":\"Developer\",\"Recommendations\":\"R2\"})\n",
    "recom_by_dvlpr = reduce(lambda  left,right: pd.merge(left,right,on=['Developer'],how='outer'), [df1,df2])\n",
    "recom_by_dvlpr = recom_by_dvlpr.fillna(0)\n",
    "recom_by_dvlpr[\"Total recommendations\"] = recom_by_dvlpr[\"R1\"]+recom_by_dvlpr[\"R2\"]\n",
    "total_recom_by_dvlpr = recom_by_dvlpr[[\"Developer\",\"Total recommendations\"]]\n",
    "total_recom_by_dvlpr = total_recom_by_dvlpr.sort_values(by=\"Total recommendations\", ascending=False).reset_index().drop(\"index\",axis=1)\n",
    "total_recom_by_dvlpr = total_recom_by_dvlpr.set_index(\"Developer\")\n",
    "Developer_stat = Developer_stat.join(total_recom_by_dvlpr)\n",
    "Developer_stat[\"Recommendation %\"] = round(Developer_stat[\"Total recommendations\"]/sum(Developer_stat[\"Total recommendations\"])*100,2)\n",
    "\n",
    "## Average recommendation for each developer\n",
    "Developer_stat[\"Average Recommendation\"] = round(Developer_stat[\"Total recommendations\"]/Developer_stat[\"Count\"],0)\n",
    "Developer_stat[\"Average Recommendation ‱\"] = Developer_stat[\"Average Recommendation\"]/sum(Developer_stat[\"Average Recommendation\"])*10000\n",
    "\n",
    "Developer_stat"
   ]
  },
  {
   "cell_type": "markdown",
   "metadata": {},
   "source": [
    "In order to explor the performance of the game developers on Steam, we kept focusing on the game count and recommendation data. From the chart above, we can see that the top five developers with the most games developed do not generate comparable recommendation results. To better view the top performancers, we selected the Top20 developers in each data point and create a series of bar charts below:"
   ]
  },
  {
   "cell_type": "code",
   "execution_count": 24,
   "metadata": {
    "scrolled": false
   },
   "outputs": [
    {
     "data": {
      "application/vnd.plotly.v1+json": {
       "config": {
        "plotlyServerURL": "https://plot.ly"
       },
       "data": [
        {
         "name": "Developer Count",
         "orientation": "h",
         "text": [
          33,
          32,
          29,
          29,
          27,
          23,
          23,
          21,
          21,
          21,
          21,
          21,
          20,
          20,
          19,
          19,
          19,
          19,
          18,
          18
         ],
         "type": "bar",
         "x": [
          33,
          32,
          29,
          29,
          27,
          23,
          23,
          21,
          21,
          21,
          21,
          21,
          20,
          20,
          19,
          19,
          19,
          19,
          18,
          18
         ],
         "xaxis": "x",
         "y": [
          "Square Enix",
          "EnsenaSoft",
          "Warfare Studios",
          "Alawar Entertainment",
          "Winged Cloud",
          "Idea Factory",
          "Winter Wolves",
          "Arc System Works",
          "Zonitron Productions",
          "Quiet River",
          "Creobit",
          "NedoStudio",
          "Daedalic Entertainment",
          "Feral Interactive (Mac)",
          "Brave Giant LTD",
          "Nihon Falcom",
          "Frontwing",
          "Milestone S.r.l.",
          "Aldorlea Games",
          "Dharker Studio"
         ],
         "yaxis": "y"
        },
        {
         "name": "Total recommendations",
         "orientation": "h",
         "text": [
          3420050,
          2922818,
          1295198,
          871592,
          866842,
          500026,
          457853,
          434510,
          414917,
          333485,
          316729,
          316443,
          297163,
          285281,
          284600,
          284600,
          271448,
          268929,
          244666,
          237860
         ],
         "type": "bar",
         "x": [
          3420050,
          2922818,
          1295198,
          871592,
          866842,
          500026,
          457853,
          434510,
          414917,
          333485,
          316729,
          316443,
          297163,
          285281,
          284600,
          284600,
          271448,
          268929,
          244666,
          237860
         ],
         "xaxis": "x2",
         "y": [
          "Valve",
          "Hidden Path Entertainment",
          "PUBG Corporation",
          "Facepunch Studios",
          "Ubisoft Montreal",
          "Feral Interactive (Mac)",
          "Re-Logic",
          "CD PROJEKT RED",
          "Aspyr (Mac)",
          "Psyonix LLC",
          "Bethesda Game Studios",
          "CAPCOM Co.",
          "SCS Software",
          "OVERKILL - a Starbreeze Studio.",
          "Instinct Games",
          "Studio Wildcard",
          "Firaxis Games",
          "Behaviour Interactive Inc.",
          "Paradox Development Studio",
          "CREATIVE ASSEMBLY"
         ],
         "yaxis": "y2"
        },
        {
         "name": "Average Recommendation",
         "orientation": "h",
         "text": [
          1295198,
          730704,
          457853,
          333485,
          310914,
          284600,
          284600,
          224104,
          217898,
          206425,
          171057,
          148582,
          144474,
          142640,
          114951,
          108628,
          107189,
          96190,
          94294,
          89643
         ],
         "type": "bar",
         "x": [
          1295198,
          730704,
          457853,
          333485,
          310914,
          284600,
          284600,
          224104,
          217898,
          206425,
          171057,
          148582,
          144474,
          142640,
          114951,
          108628,
          107189,
          96190,
          94294,
          89643
         ],
         "xaxis": "x3",
         "y": [
          "PUBG Corporation",
          "Hidden Path Entertainment",
          "Re-Logic",
          "Psyonix LLC",
          "Valve",
          "Studio Wildcard",
          "Instinct Games",
          "ConcernedApe",
          "Facepunch Studios",
          "Wallpaper Engine Team",
          "Endnight Games Ltd",
          "SCS Software",
          "Ubisoft Montreal",
          "OVERKILL - a Starbreeze Studio.",
          "tobyfox",
          "CD PROJEKT RED",
          "Daybreak Game Company",
          "Team Cherry",
          "The Fun Pimps",
          "Behaviour Interactive Inc."
         ],
         "yaxis": "y3"
        }
       ],
       "layout": {
        "legend": {
         "orientation": "h"
        },
        "template": {
         "data": {
          "bar": [
           {
            "error_x": {
             "color": "#2a3f5f"
            },
            "error_y": {
             "color": "#2a3f5f"
            },
            "marker": {
             "line": {
              "color": "#E5ECF6",
              "width": 0.5
             },
             "pattern": {
              "fillmode": "overlay",
              "size": 10,
              "solidity": 0.2
             }
            },
            "type": "bar"
           }
          ],
          "barpolar": [
           {
            "marker": {
             "line": {
              "color": "#E5ECF6",
              "width": 0.5
             },
             "pattern": {
              "fillmode": "overlay",
              "size": 10,
              "solidity": 0.2
             }
            },
            "type": "barpolar"
           }
          ],
          "carpet": [
           {
            "aaxis": {
             "endlinecolor": "#2a3f5f",
             "gridcolor": "white",
             "linecolor": "white",
             "minorgridcolor": "white",
             "startlinecolor": "#2a3f5f"
            },
            "baxis": {
             "endlinecolor": "#2a3f5f",
             "gridcolor": "white",
             "linecolor": "white",
             "minorgridcolor": "white",
             "startlinecolor": "#2a3f5f"
            },
            "type": "carpet"
           }
          ],
          "choropleth": [
           {
            "colorbar": {
             "outlinewidth": 0,
             "ticks": ""
            },
            "type": "choropleth"
           }
          ],
          "contour": [
           {
            "colorbar": {
             "outlinewidth": 0,
             "ticks": ""
            },
            "colorscale": [
             [
              0,
              "#0d0887"
             ],
             [
              0.1111111111111111,
              "#46039f"
             ],
             [
              0.2222222222222222,
              "#7201a8"
             ],
             [
              0.3333333333333333,
              "#9c179e"
             ],
             [
              0.4444444444444444,
              "#bd3786"
             ],
             [
              0.5555555555555556,
              "#d8576b"
             ],
             [
              0.6666666666666666,
              "#ed7953"
             ],
             [
              0.7777777777777778,
              "#fb9f3a"
             ],
             [
              0.8888888888888888,
              "#fdca26"
             ],
             [
              1,
              "#f0f921"
             ]
            ],
            "type": "contour"
           }
          ],
          "contourcarpet": [
           {
            "colorbar": {
             "outlinewidth": 0,
             "ticks": ""
            },
            "type": "contourcarpet"
           }
          ],
          "heatmap": [
           {
            "colorbar": {
             "outlinewidth": 0,
             "ticks": ""
            },
            "colorscale": [
             [
              0,
              "#0d0887"
             ],
             [
              0.1111111111111111,
              "#46039f"
             ],
             [
              0.2222222222222222,
              "#7201a8"
             ],
             [
              0.3333333333333333,
              "#9c179e"
             ],
             [
              0.4444444444444444,
              "#bd3786"
             ],
             [
              0.5555555555555556,
              "#d8576b"
             ],
             [
              0.6666666666666666,
              "#ed7953"
             ],
             [
              0.7777777777777778,
              "#fb9f3a"
             ],
             [
              0.8888888888888888,
              "#fdca26"
             ],
             [
              1,
              "#f0f921"
             ]
            ],
            "type": "heatmap"
           }
          ],
          "heatmapgl": [
           {
            "colorbar": {
             "outlinewidth": 0,
             "ticks": ""
            },
            "colorscale": [
             [
              0,
              "#0d0887"
             ],
             [
              0.1111111111111111,
              "#46039f"
             ],
             [
              0.2222222222222222,
              "#7201a8"
             ],
             [
              0.3333333333333333,
              "#9c179e"
             ],
             [
              0.4444444444444444,
              "#bd3786"
             ],
             [
              0.5555555555555556,
              "#d8576b"
             ],
             [
              0.6666666666666666,
              "#ed7953"
             ],
             [
              0.7777777777777778,
              "#fb9f3a"
             ],
             [
              0.8888888888888888,
              "#fdca26"
             ],
             [
              1,
              "#f0f921"
             ]
            ],
            "type": "heatmapgl"
           }
          ],
          "histogram": [
           {
            "marker": {
             "pattern": {
              "fillmode": "overlay",
              "size": 10,
              "solidity": 0.2
             }
            },
            "type": "histogram"
           }
          ],
          "histogram2d": [
           {
            "colorbar": {
             "outlinewidth": 0,
             "ticks": ""
            },
            "colorscale": [
             [
              0,
              "#0d0887"
             ],
             [
              0.1111111111111111,
              "#46039f"
             ],
             [
              0.2222222222222222,
              "#7201a8"
             ],
             [
              0.3333333333333333,
              "#9c179e"
             ],
             [
              0.4444444444444444,
              "#bd3786"
             ],
             [
              0.5555555555555556,
              "#d8576b"
             ],
             [
              0.6666666666666666,
              "#ed7953"
             ],
             [
              0.7777777777777778,
              "#fb9f3a"
             ],
             [
              0.8888888888888888,
              "#fdca26"
             ],
             [
              1,
              "#f0f921"
             ]
            ],
            "type": "histogram2d"
           }
          ],
          "histogram2dcontour": [
           {
            "colorbar": {
             "outlinewidth": 0,
             "ticks": ""
            },
            "colorscale": [
             [
              0,
              "#0d0887"
             ],
             [
              0.1111111111111111,
              "#46039f"
             ],
             [
              0.2222222222222222,
              "#7201a8"
             ],
             [
              0.3333333333333333,
              "#9c179e"
             ],
             [
              0.4444444444444444,
              "#bd3786"
             ],
             [
              0.5555555555555556,
              "#d8576b"
             ],
             [
              0.6666666666666666,
              "#ed7953"
             ],
             [
              0.7777777777777778,
              "#fb9f3a"
             ],
             [
              0.8888888888888888,
              "#fdca26"
             ],
             [
              1,
              "#f0f921"
             ]
            ],
            "type": "histogram2dcontour"
           }
          ],
          "mesh3d": [
           {
            "colorbar": {
             "outlinewidth": 0,
             "ticks": ""
            },
            "type": "mesh3d"
           }
          ],
          "parcoords": [
           {
            "line": {
             "colorbar": {
              "outlinewidth": 0,
              "ticks": ""
             }
            },
            "type": "parcoords"
           }
          ],
          "pie": [
           {
            "automargin": true,
            "type": "pie"
           }
          ],
          "scatter": [
           {
            "marker": {
             "colorbar": {
              "outlinewidth": 0,
              "ticks": ""
             }
            },
            "type": "scatter"
           }
          ],
          "scatter3d": [
           {
            "line": {
             "colorbar": {
              "outlinewidth": 0,
              "ticks": ""
             }
            },
            "marker": {
             "colorbar": {
              "outlinewidth": 0,
              "ticks": ""
             }
            },
            "type": "scatter3d"
           }
          ],
          "scattercarpet": [
           {
            "marker": {
             "colorbar": {
              "outlinewidth": 0,
              "ticks": ""
             }
            },
            "type": "scattercarpet"
           }
          ],
          "scattergeo": [
           {
            "marker": {
             "colorbar": {
              "outlinewidth": 0,
              "ticks": ""
             }
            },
            "type": "scattergeo"
           }
          ],
          "scattergl": [
           {
            "marker": {
             "colorbar": {
              "outlinewidth": 0,
              "ticks": ""
             }
            },
            "type": "scattergl"
           }
          ],
          "scattermapbox": [
           {
            "marker": {
             "colorbar": {
              "outlinewidth": 0,
              "ticks": ""
             }
            },
            "type": "scattermapbox"
           }
          ],
          "scatterpolar": [
           {
            "marker": {
             "colorbar": {
              "outlinewidth": 0,
              "ticks": ""
             }
            },
            "type": "scatterpolar"
           }
          ],
          "scatterpolargl": [
           {
            "marker": {
             "colorbar": {
              "outlinewidth": 0,
              "ticks": ""
             }
            },
            "type": "scatterpolargl"
           }
          ],
          "scatterternary": [
           {
            "marker": {
             "colorbar": {
              "outlinewidth": 0,
              "ticks": ""
             }
            },
            "type": "scatterternary"
           }
          ],
          "surface": [
           {
            "colorbar": {
             "outlinewidth": 0,
             "ticks": ""
            },
            "colorscale": [
             [
              0,
              "#0d0887"
             ],
             [
              0.1111111111111111,
              "#46039f"
             ],
             [
              0.2222222222222222,
              "#7201a8"
             ],
             [
              0.3333333333333333,
              "#9c179e"
             ],
             [
              0.4444444444444444,
              "#bd3786"
             ],
             [
              0.5555555555555556,
              "#d8576b"
             ],
             [
              0.6666666666666666,
              "#ed7953"
             ],
             [
              0.7777777777777778,
              "#fb9f3a"
             ],
             [
              0.8888888888888888,
              "#fdca26"
             ],
             [
              1,
              "#f0f921"
             ]
            ],
            "type": "surface"
           }
          ],
          "table": [
           {
            "cells": {
             "fill": {
              "color": "#EBF0F8"
             },
             "line": {
              "color": "white"
             }
            },
            "header": {
             "fill": {
              "color": "#C8D4E3"
             },
             "line": {
              "color": "white"
             }
            },
            "type": "table"
           }
          ]
         },
         "layout": {
          "annotationdefaults": {
           "arrowcolor": "#2a3f5f",
           "arrowhead": 0,
           "arrowwidth": 1
          },
          "autotypenumbers": "strict",
          "coloraxis": {
           "colorbar": {
            "outlinewidth": 0,
            "ticks": ""
           }
          },
          "colorscale": {
           "diverging": [
            [
             0,
             "#8e0152"
            ],
            [
             0.1,
             "#c51b7d"
            ],
            [
             0.2,
             "#de77ae"
            ],
            [
             0.3,
             "#f1b6da"
            ],
            [
             0.4,
             "#fde0ef"
            ],
            [
             0.5,
             "#f7f7f7"
            ],
            [
             0.6,
             "#e6f5d0"
            ],
            [
             0.7,
             "#b8e186"
            ],
            [
             0.8,
             "#7fbc41"
            ],
            [
             0.9,
             "#4d9221"
            ],
            [
             1,
             "#276419"
            ]
           ],
           "sequential": [
            [
             0,
             "#0d0887"
            ],
            [
             0.1111111111111111,
             "#46039f"
            ],
            [
             0.2222222222222222,
             "#7201a8"
            ],
            [
             0.3333333333333333,
             "#9c179e"
            ],
            [
             0.4444444444444444,
             "#bd3786"
            ],
            [
             0.5555555555555556,
             "#d8576b"
            ],
            [
             0.6666666666666666,
             "#ed7953"
            ],
            [
             0.7777777777777778,
             "#fb9f3a"
            ],
            [
             0.8888888888888888,
             "#fdca26"
            ],
            [
             1,
             "#f0f921"
            ]
           ],
           "sequentialminus": [
            [
             0,
             "#0d0887"
            ],
            [
             0.1111111111111111,
             "#46039f"
            ],
            [
             0.2222222222222222,
             "#7201a8"
            ],
            [
             0.3333333333333333,
             "#9c179e"
            ],
            [
             0.4444444444444444,
             "#bd3786"
            ],
            [
             0.5555555555555556,
             "#d8576b"
            ],
            [
             0.6666666666666666,
             "#ed7953"
            ],
            [
             0.7777777777777778,
             "#fb9f3a"
            ],
            [
             0.8888888888888888,
             "#fdca26"
            ],
            [
             1,
             "#f0f921"
            ]
           ]
          },
          "colorway": [
           "#636efa",
           "#EF553B",
           "#00cc96",
           "#ab63fa",
           "#FFA15A",
           "#19d3f3",
           "#FF6692",
           "#B6E880",
           "#FF97FF",
           "#FECB52"
          ],
          "font": {
           "color": "#2a3f5f"
          },
          "geo": {
           "bgcolor": "white",
           "lakecolor": "white",
           "landcolor": "#E5ECF6",
           "showlakes": true,
           "showland": true,
           "subunitcolor": "white"
          },
          "hoverlabel": {
           "align": "left"
          },
          "hovermode": "closest",
          "mapbox": {
           "style": "light"
          },
          "paper_bgcolor": "white",
          "plot_bgcolor": "#E5ECF6",
          "polar": {
           "angularaxis": {
            "gridcolor": "white",
            "linecolor": "white",
            "ticks": ""
           },
           "bgcolor": "#E5ECF6",
           "radialaxis": {
            "gridcolor": "white",
            "linecolor": "white",
            "ticks": ""
           }
          },
          "scene": {
           "xaxis": {
            "backgroundcolor": "#E5ECF6",
            "gridcolor": "white",
            "gridwidth": 2,
            "linecolor": "white",
            "showbackground": true,
            "ticks": "",
            "zerolinecolor": "white"
           },
           "yaxis": {
            "backgroundcolor": "#E5ECF6",
            "gridcolor": "white",
            "gridwidth": 2,
            "linecolor": "white",
            "showbackground": true,
            "ticks": "",
            "zerolinecolor": "white"
           },
           "zaxis": {
            "backgroundcolor": "#E5ECF6",
            "gridcolor": "white",
            "gridwidth": 2,
            "linecolor": "white",
            "showbackground": true,
            "ticks": "",
            "zerolinecolor": "white"
           }
          },
          "shapedefaults": {
           "line": {
            "color": "#2a3f5f"
           }
          },
          "ternary": {
           "aaxis": {
            "gridcolor": "white",
            "linecolor": "white",
            "ticks": ""
           },
           "baxis": {
            "gridcolor": "white",
            "linecolor": "white",
            "ticks": ""
           },
           "bgcolor": "#E5ECF6",
           "caxis": {
            "gridcolor": "white",
            "linecolor": "white",
            "ticks": ""
           }
          },
          "title": {
           "x": 0.05
          },
          "xaxis": {
           "automargin": true,
           "gridcolor": "white",
           "linecolor": "white",
           "ticks": "",
           "title": {
            "standoff": 15
           },
           "zerolinecolor": "white",
           "zerolinewidth": 2
          },
          "yaxis": {
           "automargin": true,
           "gridcolor": "white",
           "linecolor": "white",
           "ticks": "",
           "title": {
            "standoff": 15
           },
           "zerolinecolor": "white",
           "zerolinewidth": 2
          }
         }
        },
        "title": {
         "text": "Count and Recommendation by Developer of Games"
        },
        "uniformtext": {
         "minsize": 2,
         "mode": "hide"
        },
        "xaxis": {
         "anchor": "y",
         "domain": [
          0,
          0.18000000000000002
         ]
        },
        "xaxis2": {
         "anchor": "y2",
         "domain": [
          0.41000000000000003,
          0.5900000000000001
         ]
        },
        "xaxis3": {
         "anchor": "y3",
         "domain": [
          0.8200000000000001,
          1
         ]
        },
        "yaxis": {
         "anchor": "x",
         "domain": [
          0,
          1
         ]
        },
        "yaxis2": {
         "anchor": "x2",
         "domain": [
          0,
          1
         ]
        },
        "yaxis3": {
         "anchor": "x3",
         "domain": [
          0,
          1
         ]
        }
       }
      }
     },
     "metadata": {},
     "output_type": "display_data"
    }
   ],
   "source": [
    "Dev_c = Developer_stat.sort_values(by=\"Count\", ascending=False)[:20]\n",
    "Dev_t = Developer_stat.sort_values(by=\"Total recommendations\", ascending=False)[:20]\n",
    "Dev_a = Developer_stat.sort_values(by=\"Average Recommendation\", ascending=False)[:20]\n",
    "\n",
    "labels_c = list(Dev_c.index)\n",
    "labels_t = list(Dev_t.index)\n",
    "labels_a = list(Dev_a.index)\n",
    "count = Dev_c[\"Count\"]\n",
    "total_r = Dev_t[\"Total recommendations\"]\n",
    "avg_r = Dev_a[\"Average Recommendation\"]\n",
    "\n",
    "fig = make_subplots(rows=1, cols=3, specs=[[{}, {}, {}]], vertical_spacing=0.01, horizontal_spacing=0.23)\n",
    "fig.add_trace(go.Bar(y=labels_c, x=count, orientation='h',text=count,name=\"Developer Count\"),\n",
    "              1, 1)\n",
    "fig.add_trace(go.Bar(y=labels_t, x=total_r, orientation='h',text=total_r, name=\"Total recommendations\"),\n",
    "              1, 2)\n",
    "fig.add_trace(go.Bar(y=labels_a, x=avg_r, orientation='h',text=avg_r, name=\"Average Recommendation\"),\n",
    "              1, 3)\n",
    "\n",
    "fig.update_layout(\n",
    "    title_text=\"Count and Recommendation by Developer of Games\",\n",
    "    uniformtext_minsize=2,uniformtext_mode='hide',legend_orientation=\"h\")\n",
    "fig.show()"
   ]
  },
  {
   "cell_type": "code",
   "execution_count": 25,
   "metadata": {},
   "outputs": [
    {
     "name": "stdout",
     "output_type": "stream",
     "text": [
      "Developers with both high numbers of released games and total recommendations:  {'Feral Interactive (Mac)'}\n",
      "Developers with both high numbers of released games and average recommendations:  set()\n",
      "Developers with both high numbers of total and average recommendations:  {'Ubisoft Montreal', 'Re-Logic', 'Valve', 'CD PROJEKT RED', 'Studio Wildcard', 'Facepunch Studios', 'OVERKILL - a Starbreeze Studio.', 'Instinct Games', 'SCS Software', 'Hidden Path Entertainment', 'Behaviour Interactive Inc.', 'PUBG Corporation', 'Psyonix LLC'}\n"
     ]
    }
   ],
   "source": [
    "print(\"Developers with both high numbers of released games and total recommendations: \", set(labels_c).intersection(labels_t))\n",
    "print(\"Developers with both high numbers of released games and average recommendations: \", set(labels_c).intersection(labels_a))\n",
    "print(\"Developers with both high numbers of total and average recommendations: \",set(labels_t).intersection(labels_a))"
   ]
  },
  {
   "cell_type": "markdown",
   "metadata": {},
   "source": [
    "### Category"
   ]
  },
  {
   "cell_type": "markdown",
   "metadata": {},
   "source": [
    "Apart from the proportions of different categories, we want to see if there is a time trend of each categorie on Steam.The following chart illustrates the number of new games with a certain category by time."
   ]
  },
  {
   "cell_type": "code",
   "execution_count": 26,
   "metadata": {},
   "outputs": [
    {
     "data": {
      "image/png": "[encoded data removed]",
      "text/plain": [
       "<Figure size 720x504 with 8 Axes>"
      ]
     },
     "metadata": {},
     "output_type": "display_data"
    }
   ],
   "source": [
    "data[\"Year\"] = data[\"Date\"].dt.year\n",
    "Cate_stat = data.pivot_table(index=\"Year\",values=Category_Columns,aggfunc=sum).reset_index()[7:]\n",
    "\n",
    "fig, ax = plt.subplots(2, 4, figsize=(10,7))\n",
    "fig.tight_layout()\n",
    "\n",
    "for i in range(8):\n",
    "    if i <4:\n",
    "        ax[0,i].bar(\"Year\", Category_Columns[i], data=Cate_stat)\n",
    "        ylim = Cate_stat[Category_Columns[i]].max()*1.1\n",
    "        plt.xlim(2010, 2021)\n",
    "        plt.ylim(0, ylim)\n",
    "        ax[0,i].set_title(Category_Columns[i])\n",
    "    else:\n",
    "        ax[1,i-4].bar(\"Year\", Category_Columns[i], data=Cate_stat)\n",
    "        ylim = Cate_stat[Category_Columns[i]].max()*1.1\n",
    "        plt.xlim(2010, 2021)\n",
    "        plt.ylim(0, ylim)\n",
    "        ax[1,i-4].set_title(Category_Columns[i])\n",
    "\n",
    "plt.show()"
   ]
  },
  {
   "cell_type": "markdown",
   "metadata": {},
   "source": [
    "Patterns showed by the categories of participation form of players are simillar and align with the trend of total games released. However, \"Remote Play on Phone\" game had a different pattern, keeping up with a steady expansion since 2016. This trend is supported by the popularity of mobile game market."
   ]
  },
  {
   "cell_type": "markdown",
   "metadata": {},
   "source": [
    "### Price"
   ]
  },
  {
   "cell_type": "markdown",
   "metadata": {},
   "source": [
    "Prices of games are showing a discrete manner, usually set to be 9.99, 4.99, 14,99 and so on. Such prices are reasonable and familiar to players. The convention may also prevent price competitions among developers."
   ]
  },
  {
   "cell_type": "code",
   "execution_count": 27,
   "metadata": {
    "scrolled": false
   },
   "outputs": [
    {
     "data": {
      "image/png": "[encoded data removed]",
      "text/plain": [
       "<Figure size 432x288 with 1 Axes>"
      ]
     },
     "metadata": {},
     "output_type": "display_data"
    },
    {
     "data": {
      "text/html": [
       "<div>\n",
       "<style scoped>\n",
       "    .dataframe tbody tr th:only-of-type {\n",
       "        vertical-align: middle;\n",
       "    }\n",
       "\n",
       "    .dataframe tbody tr th {\n",
       "        vertical-align: top;\n",
       "    }\n",
       "\n",
       "    .dataframe thead th {\n",
       "        text-align: right;\n",
       "    }\n",
       "</style>\n",
       "<table border=\"1\" class=\"dataframe\">\n",
       "  <thead>\n",
       "    <tr style=\"text-align: right;\">\n",
       "      <th></th>\n",
       "      <th>Price</th>\n",
       "      <th>Count</th>\n",
       "    </tr>\n",
       "  </thead>\n",
       "  <tbody>\n",
       "    <tr>\n",
       "      <th>0</th>\n",
       "      <td>9.99</td>\n",
       "      <td>1526</td>\n",
       "    </tr>\n",
       "    <tr>\n",
       "      <th>1</th>\n",
       "      <td>4.99</td>\n",
       "      <td>1166</td>\n",
       "    </tr>\n",
       "    <tr>\n",
       "      <th>2</th>\n",
       "      <td>14.99</td>\n",
       "      <td>935</td>\n",
       "    </tr>\n",
       "    <tr>\n",
       "      <th>3</th>\n",
       "      <td>0.99</td>\n",
       "      <td>897</td>\n",
       "    </tr>\n",
       "    <tr>\n",
       "      <th>4</th>\n",
       "      <td>19.99</td>\n",
       "      <td>844</td>\n",
       "    </tr>\n",
       "    <tr>\n",
       "      <th>...</th>\n",
       "      <td>...</td>\n",
       "      <td>...</td>\n",
       "    </tr>\n",
       "    <tr>\n",
       "      <th>57</th>\n",
       "      <td>1.20</td>\n",
       "      <td>1</td>\n",
       "    </tr>\n",
       "    <tr>\n",
       "      <th>58</th>\n",
       "      <td>2.79</td>\n",
       "      <td>1</td>\n",
       "    </tr>\n",
       "    <tr>\n",
       "      <th>59</th>\n",
       "      <td>28.99</td>\n",
       "      <td>1</td>\n",
       "    </tr>\n",
       "    <tr>\n",
       "      <th>60</th>\n",
       "      <td>45.00</td>\n",
       "      <td>1</td>\n",
       "    </tr>\n",
       "    <tr>\n",
       "      <th>61</th>\n",
       "      <td>9.95</td>\n",
       "      <td>1</td>\n",
       "    </tr>\n",
       "  </tbody>\n",
       "</table>\n",
       "<p>62 rows × 2 columns</p>\n",
       "</div>"
      ],
      "text/plain": [
       "    Price  Count\n",
       "0    9.99   1526\n",
       "1    4.99   1166\n",
       "2   14.99    935\n",
       "3    0.99    897\n",
       "4   19.99    844\n",
       "..    ...    ...\n",
       "57   1.20      1\n",
       "58   2.79      1\n",
       "59  28.99      1\n",
       "60  45.00      1\n",
       "61   9.95      1\n",
       "\n",
       "[62 rows x 2 columns]"
      ]
     },
     "execution_count": 27,
     "metadata": {},
     "output_type": "execute_result"
    }
   ],
   "source": [
    "## Price Distribution\n",
    "Price_stat = pd.DataFrame(data[\"Final price\"].astype(float).value_counts()).reset_index().rename(columns={\"index\":\"Price\",\"Final price\":\"Count\"})\n",
    "\n",
    "plt.xlim(0, Price_stat.Price.max())\n",
    "plt.ylim(0, Price_stat.Count.max())\n",
    "plt.bar(\"Price\", \"Count\", data=Price_stat)\n",
    "plt.show()\n",
    "\n",
    "Price_stat"
   ]
  },
  {
   "cell_type": "code",
   "execution_count": 28,
   "metadata": {},
   "outputs": [
    {
     "name": "stdout",
     "output_type": "stream",
     "text": [
      "0 of games had a price drop, 827 of game's prices increased and 0 of games became free.\n",
      "Only 8.17% of games changed the price.\n"
     ]
    }
   ],
   "source": [
    "drop = len(data[data[\"Initial price\"] > data[\"Final price\"]]) # price drop\n",
    "increase = len(data[data[\"Initial price\"] < data[\"Final price\"]]) # price increase\n",
    "free = len(data[(data[\"Initial price\"] != 0) & (data[\"Final price\"] == 0)]) # made free\n",
    "\n",
    "print(\"{} of games had a price drop, {} of game's prices increased and {} of games became free.\"\\\n",
    "     .format(drop,increase,free))\n",
    "print(\"Only {:0.2f}% of games changed the price.\".format((drop+increase)/len(data)*100))"
   ]
  },
  {
   "cell_type": "markdown",
   "metadata": {},
   "source": [
    "We avoided the sales season to collect our data in order to observe the original prices set by developers. As for changes in pricing, 8% of the games had increased their prices over time. The price comparison distribution is shown below:"
   ]
  },
  {
   "cell_type": "code",
   "execution_count": 29,
   "metadata": {},
   "outputs": [
    {
     "data": {
      "image/png": "[encoded data removed]",
      "text/plain": [
       "<Figure size 432x288 with 1 Axes>"
      ]
     },
     "metadata": {},
     "output_type": "display_data"
    }
   ],
   "source": [
    "plt.hist([data[\"Initial price\"], data[\"Final price\"]], bins=30, range=(0,60), label=['PriceInitial', 'PriceFinal'])\n",
    "plt.legend(loc='upper right')\n",
    "plt.xlabel('Price')\n",
    "plt.ylabel('Count')\n",
    "plt.title('Price comparison distribution')\n",
    "plt.show()"
   ]
  },
  {
   "cell_type": "markdown",
   "metadata": {},
   "source": [
    "### Correlation"
   ]
  },
  {
   "cell_type": "markdown",
   "metadata": {},
   "source": [
    "Finally, let's have a look at the correlation between all our numerical attributes.It's also a nice part to get organised and conclude all the previous analysis of this project.\n",
    "\n",
    "To answer the characteristics that make a favorable game, we analysed the distributions of recommendations on genre and developers. We also compared the propotions of categories of the total and the recommended subgroup. Combining these and the correlation chart, we believe that:\n",
    "+ The participation form of players plays an important role to make the game attractive and playful. Action games are currently the most preferred type of game. There are also certain instrumental games(or apps) that has very good reputation\n",
    "+ Recommended games usually has more developers and less genres\n",
    "+ Players consider remote play on phones as a bonus when recommending games to others\n",
    "+ \n",
    "\n",
    "However, drawing conclusions from statistical data and correlations may not be sufficient enough. Further steps of regression models and model training awaits. As our data is properly scaled and ready, it's possible to train a model and make predictions after we learn more about implications of machine learning."
   ]
  },
  {
   "cell_type": "code",
   "execution_count": 30,
   "metadata": {
    "scrolled": true
   },
   "outputs": [
    {
     "data": {
      "text/html": [
       "<style type=\"text/css\">\n",
       "#T_742da_row0_col0, #T_742da_row1_col1, #T_742da_row2_col2, #T_742da_row3_col3, #T_742da_row4_col4, #T_742da_row5_col5, #T_742da_row6_col6, #T_742da_row7_col7, #T_742da_row8_col8, #T_742da_row9_col9, #T_742da_row10_col10, #T_742da_row11_col11, #T_742da_row12_col12, #T_742da_row13_col13, #T_742da_row14_col14, #T_742da_row15_col15, #T_742da_row16_col16, #T_742da_row17_col17, #T_742da_row18_col18, #T_742da_row19_col19, #T_742da_row20_col20, #T_742da_row21_col21, #T_742da_row22_col22, #T_742da_row23_col23, #T_742da_row24_col24, #T_742da_row25_col25, #T_742da_row26_col26, #T_742da_row27_col27, #T_742da_row28_col28, #T_742da_row29_col29, #T_742da_row30_col30, #T_742da_row31_col31, #T_742da_row32_col32, #T_742da_row33_col33, #T_742da_row34_col34, #T_742da_row35_col35, #T_742da_row36_col36, #T_742da_row37_col37, #T_742da_row38_col38, #T_742da_row39_col39, #T_742da_row40_col40 {\n",
       "  background-color: #008000;\n",
       "  color: #f1f1f1;\n",
       "}\n",
       "#T_742da_row0_col1, #T_742da_row0_col28, #T_742da_row1_col27, #T_742da_row1_col28, #T_742da_row2_col13, #T_742da_row3_col10, #T_742da_row3_col20, #T_742da_row3_col39, #T_742da_row4_col2, #T_742da_row4_col20, #T_742da_row4_col25, #T_742da_row4_col40, #T_742da_row8_col35, #T_742da_row11_col4, #T_742da_row12_col8, #T_742da_row13_col28, #T_742da_row15_col2, #T_742da_row17_col24, #T_742da_row18_col28, #T_742da_row19_col2, #T_742da_row21_col28, #T_742da_row24_col1, #T_742da_row24_col28, #T_742da_row26_col28, #T_742da_row27_col8, #T_742da_row28_col8, #T_742da_row29_col28, #T_742da_row30_col28, #T_742da_row31_col28, #T_742da_row33_col3, #T_742da_row33_col6, #T_742da_row35_col24, #T_742da_row38_col24 {\n",
       "  background-color: #d6e9d6;\n",
       "  color: #000000;\n",
       "}\n",
       "#T_742da_row0_col2, #T_742da_row0_col5, #T_742da_row6_col35, #T_742da_row11_col12, #T_742da_row13_col5, #T_742da_row13_col17, #T_742da_row18_col5, #T_742da_row19_col17, #T_742da_row21_col5, #T_742da_row25_col4, #T_742da_row25_col17, #T_742da_row29_col5, #T_742da_row31_col3, #T_742da_row31_col7, #T_742da_row32_col5, #T_742da_row33_col5, #T_742da_row34_col2, #T_742da_row38_col2 {\n",
       "  background-color: #c8e2c8;\n",
       "  color: #000000;\n",
       "}\n",
       "#T_742da_row0_col3, #T_742da_row2_col3, #T_742da_row3_col17, #T_742da_row10_col17, #T_742da_row15_col4, #T_742da_row16_col3, #T_742da_row17_col35, #T_742da_row25_col28, #T_742da_row36_col5 {\n",
       "  background-color: #c0dec0;\n",
       "  color: #000000;\n",
       "}\n",
       "#T_742da_row0_col4, #T_742da_row2_col5, #T_742da_row9_col3, #T_742da_row18_col4, #T_742da_row19_col10, #T_742da_row29_col4, #T_742da_row32_col4, #T_742da_row35_col14, #T_742da_row39_col2, #T_742da_row40_col5, #T_742da_row40_col35 {\n",
       "  background-color: #c3e0c3;\n",
       "  color: #000000;\n",
       "}\n",
       "#T_742da_row0_col6, #T_742da_row2_col6, #T_742da_row2_col24, #T_742da_row3_col6, #T_742da_row3_col22, #T_742da_row4_col17, #T_742da_row5_col21, #T_742da_row6_col2, #T_742da_row7_col17, #T_742da_row7_col20, #T_742da_row12_col5, #T_742da_row13_col6, #T_742da_row14_col2, #T_742da_row16_col35, #T_742da_row18_col2, #T_742da_row18_col6, #T_742da_row20_col2, #T_742da_row20_col35, #T_742da_row24_col6, #T_742da_row26_col6, #T_742da_row28_col1, #T_742da_row28_col6, #T_742da_row29_col6, #T_742da_row30_col6, #T_742da_row31_col2, #T_742da_row31_col6, #T_742da_row31_col8, #T_742da_row32_col2, #T_742da_row32_col6, #T_742da_row34_col21, #T_742da_row35_col20, #T_742da_row35_col25, #T_742da_row37_col14, #T_742da_row37_col40, #T_742da_row38_col7, #T_742da_row38_col20, #T_742da_row38_col25, #T_742da_row39_col17, #T_742da_row40_col25 {\n",
       "  background-color: #d3e7d3;\n",
       "  color: #000000;\n",
       "}\n",
       "#T_742da_row0_col7, #T_742da_row0_col17, #T_742da_row1_col25, #T_742da_row2_col7, #T_742da_row2_col14, #T_742da_row2_col21, #T_742da_row3_col40, #T_742da_row11_col8, #T_742da_row11_col22, #T_742da_row14_col3, #T_742da_row15_col14, #T_742da_row15_col17, #T_742da_row17_col6, #T_742da_row19_col14, #T_742da_row20_col1, #T_742da_row20_col11, #T_742da_row20_col17, #T_742da_row21_col11, #T_742da_row21_col17, #T_742da_row22_col3, #T_742da_row22_col17, #T_742da_row23_col6, #T_742da_row23_col21, #T_742da_row25_col3, #T_742da_row31_col14, #T_742da_row34_col0, #T_742da_row35_col22, #T_742da_row38_col22, #T_742da_row38_col39, #T_742da_row40_col14, #T_742da_row40_col39 {\n",
       "  background-color: #cee5ce;\n",
       "  color: #000000;\n",
       "}\n",
       "#T_742da_row0_col8, #T_742da_row0_col13, #T_742da_row2_col29, #T_742da_row3_col28, #T_742da_row4_col28, #T_742da_row4_col39, #T_742da_row6_col27, #T_742da_row7_col12, #T_742da_row9_col27, #T_742da_row10_col12, #T_742da_row10_col13, #T_742da_row12_col27, #T_742da_row14_col0, #T_742da_row15_col13, #T_742da_row16_col13, #T_742da_row17_col27, #T_742da_row18_col13, #T_742da_row19_col13, #T_742da_row21_col13, #T_742da_row22_col12, #T_742da_row22_col13, #T_742da_row23_col27, #T_742da_row24_col13, #T_742da_row25_col12, #T_742da_row25_col40, #T_742da_row26_col13, #T_742da_row27_col13, #T_742da_row28_col13, #T_742da_row29_col13, #T_742da_row31_col13, #T_742da_row32_col13, #T_742da_row36_col13, #T_742da_row36_col27, #T_742da_row37_col13, #T_742da_row39_col1, #T_742da_row39_col12, #T_742da_row39_col27, #T_742da_row40_col21 {\n",
       "  background-color: #dbebdb;\n",
       "  color: #000000;\n",
       "}\n",
       "#T_742da_row0_col9, #T_742da_row2_col33, #T_742da_row2_col36, #T_742da_row3_col35, #T_742da_row5_col33, #T_742da_row5_col34, #T_742da_row13_col23, #T_742da_row15_col23, #T_742da_row18_col23, #T_742da_row20_col23, #T_742da_row24_col23, #T_742da_row25_col23, #T_742da_row26_col23, #T_742da_row27_col23, #T_742da_row27_col32, #T_742da_row28_col23, #T_742da_row29_col23, #T_742da_row30_col23, #T_742da_row32_col23, #T_742da_row37_col23 {\n",
       "  background-color: #a2cfa2;\n",
       "  color: #000000;\n",
       "}\n",
       "#T_742da_row0_col10, #T_742da_row0_col16, #T_742da_row0_col19, #T_742da_row0_col37, #T_742da_row2_col15, #T_742da_row2_col37, #T_742da_row5_col15, #T_742da_row6_col10, #T_742da_row7_col35, #T_742da_row8_col26, #T_742da_row8_col30, #T_742da_row9_col16, #T_742da_row12_col19, #T_742da_row13_col37, #T_742da_row18_col37, #T_742da_row20_col16, #T_742da_row20_col37, #T_742da_row21_col16, #T_742da_row21_col37, #T_742da_row22_col16, #T_742da_row22_col19, #T_742da_row23_col37, #T_742da_row24_col37, #T_742da_row25_col19, #T_742da_row26_col37, #T_742da_row27_col37, #T_742da_row28_col37, #T_742da_row29_col37, #T_742da_row30_col37, #T_742da_row31_col37, #T_742da_row32_col37, #T_742da_row35_col15, #T_742da_row36_col39 {\n",
       "  background-color: #e4f0e4;\n",
       "  color: #000000;\n",
       "}\n",
       "#T_742da_row0_col11, #T_742da_row1_col22, #T_742da_row4_col3, #T_742da_row5_col35, #T_742da_row8_col11, #T_742da_row9_col7, #T_742da_row10_col5, #T_742da_row12_col17, #T_742da_row13_col22, #T_742da_row15_col5, #T_742da_row16_col25, #T_742da_row17_col25, #T_742da_row18_col22, #T_742da_row21_col7, #T_742da_row21_col22, #T_742da_row22_col5, #T_742da_row24_col3, #T_742da_row24_col7, #T_742da_row24_col22, #T_742da_row25_col5, #T_742da_row28_col2, #T_742da_row28_col3, #T_742da_row29_col22, #T_742da_row31_col22, #T_742da_row36_col11, #T_742da_row37_col17, #T_742da_row38_col11, #T_742da_row39_col14 {\n",
       "  background-color: #cae3ca;\n",
       "  color: #000000;\n",
       "}\n",
       "#T_742da_row0_col12, #T_742da_row1_col24, #T_742da_row4_col24, #T_742da_row5_col28, #T_742da_row8_col6, #T_742da_row13_col12, #T_742da_row14_col28, #T_742da_row18_col12, #T_742da_row20_col0, #T_742da_row20_col8, #T_742da_row21_col8, #T_742da_row29_col12, #T_742da_row31_col12, #T_742da_row32_col12, #T_742da_row33_col12, #T_742da_row34_col28, #T_742da_row40_col1 {\n",
       "  background-color: #d9ead9;\n",
       "  color: #000000;\n",
       "}\n",
       "#T_742da_row0_col14, #T_742da_row2_col25, #T_742da_row6_col22, #T_742da_row7_col5, #T_742da_row9_col11, #T_742da_row9_col22, #T_742da_row10_col8, #T_742da_row10_col25, #T_742da_row12_col22, #T_742da_row13_col11, #T_742da_row17_col22, #T_742da_row18_col11, #T_742da_row20_col3, #T_742da_row23_col22, #T_742da_row26_col11, #T_742da_row29_col11, #T_742da_row30_col11, #T_742da_row32_col11, #T_742da_row39_col22 {\n",
       "  background-color: #cce4cc;\n",
       "  color: #000000;\n",
       "}\n",
       "#T_742da_row0_col15, #T_742da_row1_col0, #T_742da_row1_col29, #T_742da_row3_col18, #T_742da_row3_col29, #T_742da_row3_col32, #T_742da_row4_col18, #T_742da_row4_col26, #T_742da_row4_col29, #T_742da_row4_col30, #T_742da_row4_col32, #T_742da_row7_col26, #T_742da_row7_col30, #T_742da_row8_col12, #T_742da_row8_col15, #T_742da_row14_col15, #T_742da_row20_col15, #T_742da_row20_col39, #T_742da_row21_col15, #T_742da_row21_col39, #T_742da_row22_col15, #T_742da_row22_col39, #T_742da_row23_col10, #T_742da_row23_col15, #T_742da_row25_col15, #T_742da_row25_col39, #T_742da_row27_col15, #T_742da_row38_col10, #T_742da_row40_col27, #T_742da_row40_col37 {\n",
       "  background-color: #e0eee0;\n",
       "  color: #000000;\n",
       "}\n",
       "#T_742da_row0_col18, #T_742da_row0_col26, #T_742da_row0_col29, #T_742da_row0_col32, #T_742da_row1_col2, #T_742da_row4_col13, #T_742da_row6_col0, #T_742da_row6_col26, #T_742da_row6_col30, #T_742da_row7_col13, #T_742da_row7_col19, #T_742da_row8_col16, #T_742da_row8_col24, #T_742da_row9_col26, #T_742da_row9_col30, #T_742da_row10_col0, #T_742da_row10_col18, #T_742da_row10_col26, #T_742da_row10_col29, #T_742da_row10_col30, #T_742da_row10_col32, #T_742da_row12_col26, #T_742da_row12_col30, #T_742da_row13_col18, #T_742da_row13_col29, #T_742da_row13_col32, #T_742da_row15_col18, #T_742da_row15_col26, #T_742da_row15_col29, #T_742da_row15_col30, #T_742da_row15_col32, #T_742da_row16_col0, #T_742da_row16_col18, #T_742da_row16_col26, #T_742da_row16_col29, #T_742da_row16_col30, #T_742da_row16_col32, #T_742da_row16_col40, #T_742da_row17_col19, #T_742da_row17_col26, #T_742da_row17_col30, #T_742da_row18_col29, #T_742da_row18_col32, #T_742da_row19_col18, #T_742da_row19_col26, #T_742da_row19_col29, #T_742da_row19_col30, #T_742da_row19_col32, #T_742da_row20_col18, #T_742da_row20_col29, #T_742da_row21_col18, #T_742da_row21_col29, #T_742da_row21_col32, #T_742da_row22_col8, #T_742da_row22_col18, #T_742da_row22_col29, #T_742da_row23_col26, #T_742da_row23_col30, #T_742da_row24_col18, #T_742da_row24_col32, #T_742da_row25_col18, #T_742da_row25_col29, #T_742da_row26_col18, #T_742da_row26_col29, #T_742da_row27_col18, #T_742da_row27_col29, #T_742da_row28_col18, #T_742da_row28_col29, #T_742da_row29_col18, #T_742da_row29_col32, #T_742da_row30_col18, #T_742da_row30_col29, #T_742da_row30_col32, #T_742da_row31_col18, #T_742da_row31_col29, #T_742da_row31_col32, #T_742da_row32_col18, #T_742da_row32_col29, #T_742da_row33_col15, #T_742da_row34_col27, #T_742da_row36_col18, #T_742da_row36_col26, #T_742da_row36_col29, #T_742da_row36_col30, #T_742da_row36_col32, #T_742da_row37_col18, #T_742da_row37_col26, #T_742da_row37_col29, #T_742da_row37_col30, #T_742da_row37_col32, #T_742da_row38_col8, #T_742da_row39_col26, #T_742da_row39_col30, #T_742da_row40_col24 {\n",
       "  background-color: #deedde;\n",
       "  color: #000000;\n",
       "}\n",
       "#T_742da_row0_col20, #T_742da_row0_col25, #T_742da_row1_col19, #T_742da_row2_col11, #T_742da_row5_col7, #T_742da_row7_col6, #T_742da_row7_col34, #T_742da_row9_col6, #T_742da_row13_col2, #T_742da_row16_col5, #T_742da_row17_col7, #T_742da_row18_col17, #T_742da_row22_col2, #T_742da_row23_col2, #T_742da_row24_col11, #T_742da_row24_col17, #T_742da_row26_col17, #T_742da_row27_col11, #T_742da_row27_col17, #T_742da_row28_col11, #T_742da_row28_col17, #T_742da_row29_col17, #T_742da_row30_col17, #T_742da_row31_col17, #T_742da_row32_col1, #T_742da_row32_col17, #T_742da_row34_col11, #T_742da_row35_col4, #T_742da_row37_col7, #T_742da_row38_col33, #T_742da_row40_col6 {\n",
       "  background-color: #cde5cd;\n",
       "  color: #000000;\n",
       "}\n",
       "#T_742da_row0_col21, #T_742da_row2_col20, #T_742da_row5_col8, #T_742da_row6_col25, #T_742da_row9_col4, #T_742da_row9_col25, #T_742da_row10_col14, #T_742da_row10_col20, #T_742da_row10_col21, #T_742da_row12_col4, #T_742da_row12_col25, #T_742da_row13_col21, #T_742da_row14_col11, #T_742da_row15_col20, #T_742da_row15_col21, #T_742da_row16_col20, #T_742da_row16_col21, #T_742da_row18_col35, #T_742da_row19_col20, #T_742da_row19_col21, #T_742da_row20_col14, #T_742da_row20_col21, #T_742da_row21_col14, #T_742da_row21_col20, #T_742da_row21_col35, #T_742da_row22_col21, #T_742da_row23_col25, #T_742da_row24_col20, #T_742da_row25_col21, #T_742da_row26_col21, #T_742da_row27_col21, #T_742da_row28_col21, #T_742da_row29_col35, #T_742da_row30_col21, #T_742da_row31_col35, #T_742da_row32_col35, #T_742da_row34_col14, #T_742da_row35_col0, #T_742da_row35_col21, #T_742da_row36_col25, #T_742da_row37_col6, #T_742da_row37_col20, #T_742da_row37_col21, #T_742da_row38_col21, #T_742da_row39_col25 {\n",
       "  background-color: #d1e6d1;\n",
       "  color: #000000;\n",
       "}\n",
       "#T_742da_row0_col22, #T_742da_row6_col17, #T_742da_row8_col5, #T_742da_row12_col7, #T_742da_row13_col7, #T_742da_row15_col11, #T_742da_row18_col3, #T_742da_row18_col7, #T_742da_row20_col7, #T_742da_row22_col4, #T_742da_row24_col5, #T_742da_row26_col5, #T_742da_row27_col5, #T_742da_row27_col7, #T_742da_row28_col5, #T_742da_row29_col3, #T_742da_row29_col7, #T_742da_row30_col5, #T_742da_row32_col3, #T_742da_row32_col7 {\n",
       "  background-color: #c9e2c8;\n",
       "  color: #000000;\n",
       "}\n",
       "#T_742da_row0_col23, #T_742da_row3_col1, #T_742da_row3_col38, #T_742da_row6_col12, #T_742da_row11_col33, #T_742da_row17_col36, #T_742da_row20_col28 {\n",
       "  background-color: #9ccd9c;\n",
       "  color: #000000;\n",
       "}\n",
       "#T_742da_row0_col24, #T_742da_row0_col27, #T_742da_row3_col0, #T_742da_row3_col14, #T_742da_row3_col21, #T_742da_row6_col8, #T_742da_row6_col24, #T_742da_row7_col15, #T_742da_row9_col0, #T_742da_row9_col24, #T_742da_row10_col2, #T_742da_row10_col24, #T_742da_row12_col24, #T_742da_row15_col24, #T_742da_row16_col24, #T_742da_row17_col10, #T_742da_row17_col13, #T_742da_row19_col24, #T_742da_row23_col0, #T_742da_row23_col24, #T_742da_row26_col8, #T_742da_row29_col1, #T_742da_row30_col8, #T_742da_row35_col8, #T_742da_row36_col24, #T_742da_row37_col24, #T_742da_row39_col24 {\n",
       "  background-color: #d5e9d5;\n",
       "  color: #000000;\n",
       "}\n",
       "#T_742da_row0_col30, #T_742da_row1_col26, #T_742da_row1_col30, #T_742da_row1_col40, #T_742da_row3_col16, #T_742da_row4_col35, #T_742da_row5_col13, #T_742da_row5_col27, #T_742da_row8_col25, #T_742da_row11_col13, #T_742da_row11_col15, #T_742da_row11_col27, #T_742da_row12_col0, #T_742da_row12_col14, #T_742da_row13_col0, #T_742da_row13_col26, #T_742da_row14_col13, #T_742da_row14_col27, #T_742da_row15_col0, #T_742da_row16_col12, #T_742da_row18_col0, #T_742da_row18_col26, #T_742da_row18_col30, #T_742da_row19_col0, #T_742da_row19_col40, #T_742da_row21_col0, #T_742da_row21_col26, #T_742da_row21_col30, #T_742da_row24_col0, #T_742da_row24_col26, #T_742da_row24_col30, #T_742da_row25_col8, #T_742da_row26_col0, #T_742da_row26_col30, #T_742da_row27_col26, #T_742da_row27_col40, #T_742da_row28_col0, #T_742da_row28_col26, #T_742da_row28_col30, #T_742da_row28_col40, #T_742da_row29_col0, #T_742da_row29_col26, #T_742da_row29_col30, #T_742da_row30_col0, #T_742da_row30_col26, #T_742da_row31_col0, #T_742da_row31_col30, #T_742da_row32_col0, #T_742da_row32_col30, #T_742da_row33_col39, #T_742da_row34_col13, #T_742da_row37_col0, #T_742da_row40_col17, #T_742da_row40_col28 {\n",
       "  background-color: #ddecdd;\n",
       "  color: #000000;\n",
       "}\n",
       "#T_742da_row0_col31, #T_742da_row3_col26, #T_742da_row3_col30, #T_742da_row3_col37, #T_742da_row4_col11, #T_742da_row4_col19, #T_742da_row6_col31, #T_742da_row8_col13, #T_742da_row8_col27, #T_742da_row9_col15, #T_742da_row9_col37, #T_742da_row9_col39, #T_742da_row10_col31, #T_742da_row11_col19, #T_742da_row12_col31, #T_742da_row12_col39, #T_742da_row13_col31, #T_742da_row14_col6, #T_742da_row15_col31, #T_742da_row15_col39, #T_742da_row16_col31, #T_742da_row17_col15, #T_742da_row17_col37, #T_742da_row18_col31, #T_742da_row19_col31, #T_742da_row19_col39, #T_742da_row20_col31, #T_742da_row21_col31, #T_742da_row21_col40, #T_742da_row22_col31, #T_742da_row23_col31, #T_742da_row24_col31, #T_742da_row25_col31, #T_742da_row27_col31, #T_742da_row28_col31, #T_742da_row29_col31, #T_742da_row30_col31, #T_742da_row32_col31, #T_742da_row33_col19, #T_742da_row34_col7, #T_742da_row36_col31, #T_742da_row36_col37, #T_742da_row37_col15, #T_742da_row37_col31, #T_742da_row39_col31 {\n",
       "  background-color: #e1eee1;\n",
       "  color: #000000;\n",
       "}\n",
       "#T_742da_row0_col33, #T_742da_row2_col34, #T_742da_row13_col20, #T_742da_row33_col4, #T_742da_row36_col14, #T_742da_row36_col35 {\n",
       "  background-color: #acd4ac;\n",
       "  color: #000000;\n",
       "}\n",
       "#T_742da_row0_col34, #T_742da_row7_col23, #T_742da_row11_col9, #T_742da_row15_col9, #T_742da_row22_col9, #T_742da_row25_col9, #T_742da_row39_col9 {\n",
       "  background-color: #a9d3a9;\n",
       "  color: #000000;\n",
       "}\n",
       "#T_742da_row0_col35, #T_742da_row2_col22, #T_742da_row3_col4, #T_742da_row4_col7, #T_742da_row8_col40, #T_742da_row14_col35, #T_742da_row23_col11, #T_742da_row34_col39, #T_742da_row37_col11, #T_742da_row39_col40 {\n",
       "  background-color: #c6e1c6;\n",
       "  color: #000000;\n",
       "}\n",
       "#T_742da_row0_col36, #T_742da_row10_col33, #T_742da_row19_col23, #T_742da_row22_col23, #T_742da_row37_col36 {\n",
       "  background-color: #a3d0a3;\n",
       "  color: #000000;\n",
       "}\n",
       "#T_742da_row0_col38, #T_742da_row16_col1, #T_742da_row24_col33, #T_742da_row34_col5 {\n",
       "  background-color: #b2d7b1;\n",
       "  color: #000000;\n",
       "}\n",
       "#T_742da_row0_col39, #T_742da_row1_col10, #T_742da_row12_col11, #T_742da_row15_col34, #T_742da_row19_col34, #T_742da_row20_col38, #T_742da_row22_col33, #T_742da_row23_col17 {\n",
       "  background-color: #bbdcbb;\n",
       "  color: #000000;\n",
       "}\n",
       "#T_742da_row0_col40, #T_742da_row1_col21, #T_742da_row4_col21, #T_742da_row4_col38, #T_742da_row5_col6, #T_742da_row5_col20, #T_742da_row5_col25, #T_742da_row5_col40, #T_742da_row7_col21, #T_742da_row7_col25, #T_742da_row10_col6, #T_742da_row10_col35, #T_742da_row11_col2, #T_742da_row11_col14, #T_742da_row11_col20, #T_742da_row11_col21, #T_742da_row11_col25, #T_742da_row11_col35, #T_742da_row12_col2, #T_742da_row12_col40, #T_742da_row13_col8, #T_742da_row13_col24, #T_742da_row14_col8, #T_742da_row14_col20, #T_742da_row14_col21, #T_742da_row14_col25, #T_742da_row15_col6, #T_742da_row15_col35, #T_742da_row16_col2, #T_742da_row16_col6, #T_742da_row18_col8, #T_742da_row18_col24, #T_742da_row19_col6, #T_742da_row19_col35, #T_742da_row20_col6, #T_742da_row20_col24, #T_742da_row21_col6, #T_742da_row22_col6, #T_742da_row22_col24, #T_742da_row22_col35, #T_742da_row23_col12, #T_742da_row25_col6, #T_742da_row25_col24, #T_742da_row25_col35, #T_742da_row26_col2, #T_742da_row26_col24, #T_742da_row27_col2, #T_742da_row27_col6, #T_742da_row27_col24, #T_742da_row28_col24, #T_742da_row29_col8, #T_742da_row30_col2, #T_742da_row30_col24, #T_742da_row31_col1, #T_742da_row31_col24, #T_742da_row32_col8, #T_742da_row32_col24, #T_742da_row33_col2, #T_742da_row33_col14, #T_742da_row34_col20, #T_742da_row34_col25, #T_742da_row37_col1, #T_742da_row37_col12, #T_742da_row38_col0, #T_742da_row40_col20, #T_742da_row40_col22 {\n",
       "  background-color: #d4e8d4;\n",
       "  color: #000000;\n",
       "}\n",
       "#T_742da_row1_col3, #T_742da_row9_col38, #T_742da_row17_col23, #T_742da_row22_col26 {\n",
       "  background-color: #93c893;\n",
       "  color: #000000;\n",
       "}\n",
       "#T_742da_row1_col4, #T_742da_row25_col13 {\n",
       "  background-color: #84c084;\n",
       "  color: #000000;\n",
       "}\n",
       "#T_742da_row1_col5, #T_742da_row4_col1, #T_742da_row4_col33, #T_742da_row11_col1, #T_742da_row20_col27, #T_742da_row25_col27, #T_742da_row26_col32, #T_742da_row32_col26, #T_742da_row40_col33 {\n",
       "  background-color: #8fc68f;\n",
       "  color: #000000;\n",
       "}\n",
       "#T_742da_row1_col6, #T_742da_row2_col38, #T_742da_row6_col1, #T_742da_row14_col5, #T_742da_row20_col32 {\n",
       "  background-color: #afd6af;\n",
       "  color: #000000;\n",
       "}\n",
       "#T_742da_row1_col7, #T_742da_row8_col33 {\n",
       "  background-color: #8ec58e;\n",
       "  color: #000000;\n",
       "}\n",
       "#T_742da_row1_col8, #T_742da_row13_col25 {\n",
       "  background-color: #7dbd7d;\n",
       "  color: #000000;\n",
       "}\n",
       "#T_742da_row1_col9 {\n",
       "  background-color: #83c083;\n",
       "  color: #000000;\n",
       "}\n",
       "#T_742da_row1_col11, #T_742da_row23_col38, #T_742da_row27_col20 {\n",
       "  background-color: #89c389;\n",
       "  color: #000000;\n",
       "}\n",
       "#T_742da_row1_col12, #T_742da_row1_col35, #T_742da_row10_col3, #T_742da_row10_col4, #T_742da_row17_col11, #T_742da_row20_col26, #T_742da_row22_col38, #T_742da_row25_col38, #T_742da_row38_col1 {\n",
       "  background-color: #bcdcbc;\n",
       "  color: #000000;\n",
       "}\n",
       "#T_742da_row1_col13, #T_742da_row2_col12, #T_742da_row3_col24, #T_742da_row7_col2, #T_742da_row7_col28, #T_742da_row8_col20, #T_742da_row8_col21, #T_742da_row10_col27, #T_742da_row11_col40, #T_742da_row13_col27, #T_742da_row15_col27, #T_742da_row15_col40, #T_742da_row16_col27, #T_742da_row18_col27, #T_742da_row19_col12, #T_742da_row19_col27, #T_742da_row20_col12, #T_742da_row20_col40, #T_742da_row21_col12, #T_742da_row21_col27, #T_742da_row22_col0, #T_742da_row24_col12, #T_742da_row24_col27, #T_742da_row25_col0, #T_742da_row26_col12, #T_742da_row26_col27, #T_742da_row27_col12, #T_742da_row28_col12, #T_742da_row29_col27, #T_742da_row30_col12, #T_742da_row31_col27, #T_742da_row31_col40, #T_742da_row35_col7, #T_742da_row36_col0, #T_742da_row37_col27, #T_742da_row39_col8, #T_742da_row40_col0 {\n",
       "  background-color: #daebda;\n",
       "  color: #000000;\n",
       "}\n",
       "#T_742da_row1_col14, #T_742da_row27_col25, #T_742da_row35_col36, #T_742da_row38_col36 {\n",
       "  background-color: #87c287;\n",
       "  color: #000000;\n",
       "}\n",
       "#T_742da_row1_col15, #T_742da_row1_col20, #T_742da_row3_col2, #T_742da_row10_col7, #T_742da_row10_col11, #T_742da_row10_col22, #T_742da_row15_col22, #T_742da_row16_col15, #T_742da_row16_col22, #T_742da_row19_col3, #T_742da_row19_col5, #T_742da_row19_col22, #T_742da_row21_col3, #T_742da_row22_col7, #T_742da_row25_col7, #T_742da_row27_col3, #T_742da_row31_col11, #T_742da_row36_col22, #T_742da_row37_col8, #T_742da_row39_col5, #T_742da_row40_col2 {\n",
       "  background-color: #cbe4cb;\n",
       "  color: #000000;\n",
       "}\n",
       "#T_742da_row1_col16, #T_742da_row4_col8, #T_742da_row7_col4, #T_742da_row15_col1, #T_742da_row19_col4, #T_742da_row40_col8 {\n",
       "  background-color: #bfdebf;\n",
       "  color: #000000;\n",
       "}\n",
       "#T_742da_row1_col17, #T_742da_row32_col28 {\n",
       "  background-color: #92c892;\n",
       "  color: #000000;\n",
       "}\n",
       "#T_742da_row1_col18, #T_742da_row2_col31, #T_742da_row5_col31, #T_742da_row6_col15, #T_742da_row6_col37, #T_742da_row9_col10, #T_742da_row9_col31, #T_742da_row9_col33, #T_742da_row11_col10, #T_742da_row11_col31, #T_742da_row12_col15, #T_742da_row14_col31, #T_742da_row16_col39, #T_742da_row17_col31, #T_742da_row18_col10, #T_742da_row29_col10, #T_742da_row31_col10, #T_742da_row32_col10, #T_742da_row33_col16, #T_742da_row33_col37, #T_742da_row34_col31, #T_742da_row34_col37, #T_742da_row35_col31, #T_742da_row38_col31, #T_742da_row38_col37, #T_742da_row39_col15, #T_742da_row40_col26, #T_742da_row40_col30 {\n",
       "  background-color: #e2efe2;\n",
       "  color: #000000;\n",
       "}\n",
       "#T_742da_row1_col23 {\n",
       "  background-color: #75b975;\n",
       "  color: #f1f1f1;\n",
       "}\n",
       "#T_742da_row1_col31, #T_742da_row3_col31, #T_742da_row4_col31, #T_742da_row5_col4, #T_742da_row7_col31, #T_742da_row8_col18, #T_742da_row8_col29, #T_742da_row8_col32, #T_742da_row10_col39, #T_742da_row11_col39, #T_742da_row13_col10, #T_742da_row13_col16, #T_742da_row13_col19, #T_742da_row14_col7, #T_742da_row14_col19, #T_742da_row18_col16, #T_742da_row18_col19, #T_742da_row20_col10, #T_742da_row20_col19, #T_742da_row21_col10, #T_742da_row21_col19, #T_742da_row22_col10, #T_742da_row23_col8, #T_742da_row23_col16, #T_742da_row23_col39, #T_742da_row24_col10, #T_742da_row24_col16, #T_742da_row24_col19, #T_742da_row26_col10, #T_742da_row26_col16, #T_742da_row26_col19, #T_742da_row27_col10, #T_742da_row27_col16, #T_742da_row27_col19, #T_742da_row28_col10, #T_742da_row28_col16, #T_742da_row28_col19, #T_742da_row29_col16, #T_742da_row29_col19, #T_742da_row30_col10, #T_742da_row30_col16, #T_742da_row30_col19, #T_742da_row31_col16, #T_742da_row31_col19, #T_742da_row32_col16, #T_742da_row32_col19, #T_742da_row35_col37, #T_742da_row37_col39, #T_742da_row38_col16, #T_742da_row40_col15, #T_742da_row40_col18, #T_742da_row40_col29, #T_742da_row40_col32 {\n",
       "  background-color: #e3efe3;\n",
       "  color: #000000;\n",
       "}\n",
       "#T_742da_row1_col32, #T_742da_row4_col16, #T_742da_row6_col4, #T_742da_row7_col24, #T_742da_row8_col22, #T_742da_row9_col12, #T_742da_row11_col28, #T_742da_row17_col16, #T_742da_row27_col0, #T_742da_row34_col24, #T_742da_row35_col12, #T_742da_row35_col28, #T_742da_row36_col12, #T_742da_row38_col28 {\n",
       "  background-color: #d8ead8;\n",
       "  color: #000000;\n",
       "}\n",
       "#T_742da_row1_col33, #T_742da_row27_col30, #T_742da_row30_col22, #T_742da_row34_col17, #T_742da_row37_col34, #T_742da_row38_col17 {\n",
       "  background-color: #b3d8b3;\n",
       "  color: #000000;\n",
       "}\n",
       "#T_742da_row1_col34, #T_742da_row10_col36, #T_742da_row14_col33, #T_742da_row16_col36, #T_742da_row21_col9 {\n",
       "  background-color: #a6d2a6;\n",
       "  color: #000000;\n",
       "}\n",
       "#T_742da_row1_col36, #T_742da_row22_col28 {\n",
       "  background-color: #81bf81;\n",
       "  color: #000000;\n",
       "}\n",
       "#T_742da_row1_col37, #T_742da_row2_col10, #T_742da_row6_col16, #T_742da_row6_col19, #T_742da_row8_col19, #T_742da_row10_col37, #T_742da_row11_col3, #T_742da_row14_col10, #T_742da_row14_col16, #T_742da_row16_col37, #T_742da_row23_col19, #T_742da_row35_col10, #T_742da_row35_col16, #T_742da_row36_col16, #T_742da_row36_col33, #T_742da_row39_col19 {\n",
       "  background-color: #e6f1e6;\n",
       "  color: #000000;\n",
       "}\n",
       "#T_742da_row1_col38, #T_742da_row4_col23, #T_742da_row6_col9, #T_742da_row6_col36, #T_742da_row9_col1, #T_742da_row11_col36, #T_742da_row12_col36, #T_742da_row32_col20, #T_742da_row39_col23 {\n",
       "  background-color: #a4d0a4;\n",
       "  color: #000000;\n",
       "}\n",
       "#T_742da_row1_col39, #T_742da_row5_col10, #T_742da_row5_col12, #T_742da_row7_col16, #T_742da_row9_col19, #T_742da_row9_col40, #T_742da_row12_col16, #T_742da_row17_col40, #T_742da_row34_col8, #T_742da_row34_col10, #T_742da_row39_col10, #T_742da_row39_col16 {\n",
       "  background-color: #e7f1e7;\n",
       "  color: #000000;\n",
       "}\n",
       "#T_742da_row2_col0, #T_742da_row2_col17, #T_742da_row4_col22, #T_742da_row6_col20, #T_742da_row6_col21, #T_742da_row6_col40, #T_742da_row8_col14, #T_742da_row9_col20, #T_742da_row12_col20, #T_742da_row12_col21, #T_742da_row13_col1, #T_742da_row13_col35, #T_742da_row17_col20, #T_742da_row17_col21, #T_742da_row19_col8, #T_742da_row22_col1, #T_742da_row22_col14, #T_742da_row23_col20, #T_742da_row24_col35, #T_742da_row25_col1, #T_742da_row25_col14, #T_742da_row26_col1, #T_742da_row26_col35, #T_742da_row27_col35, #T_742da_row28_col35, #T_742da_row30_col1, #T_742da_row30_col35, #T_742da_row34_col33, #T_742da_row36_col6, #T_742da_row36_col7, #T_742da_row36_col20, #T_742da_row36_col21, #T_742da_row37_col2, #T_742da_row38_col14, #T_742da_row38_col40, #T_742da_row39_col20, #T_742da_row39_col21 {\n",
       "  background-color: #d2e7d2;\n",
       "  color: #000000;\n",
       "}\n",
       "#T_742da_row2_col1, #T_742da_row2_col18, #T_742da_row2_col26, #T_742da_row2_col30, #T_742da_row2_col32, #T_742da_row3_col13, #T_742da_row4_col0, #T_742da_row4_col27, #T_742da_row5_col0, #T_742da_row6_col18, #T_742da_row6_col29, #T_742da_row6_col32, #T_742da_row8_col28, #T_742da_row9_col18, #T_742da_row9_col29, #T_742da_row9_col32, #T_742da_row10_col40, #T_742da_row11_col18, #T_742da_row11_col26, #T_742da_row11_col29, #T_742da_row11_col30, #T_742da_row11_col32, #T_742da_row11_col37, #T_742da_row12_col18, #T_742da_row12_col29, #T_742da_row12_col32, #T_742da_row17_col0, #T_742da_row17_col18, #T_742da_row17_col29, #T_742da_row17_col32, #T_742da_row23_col18, #T_742da_row23_col29, #T_742da_row23_col32, #T_742da_row25_col10, #T_742da_row25_col16, #T_742da_row35_col18, #T_742da_row35_col26, #T_742da_row35_col29, #T_742da_row35_col30, #T_742da_row35_col32, #T_742da_row38_col4, #T_742da_row38_col18, #T_742da_row38_col26, #T_742da_row38_col29, #T_742da_row38_col30, #T_742da_row38_col32, #T_742da_row39_col18, #T_742da_row39_col29, #T_742da_row39_col32 {\n",
       "  background-color: #dfeddf;\n",
       "  color: #000000;\n",
       "}\n",
       "#T_742da_row2_col4, #T_742da_row8_col38, #T_742da_row17_col8, #T_742da_row17_col14, #T_742da_row21_col4, #T_742da_row22_col30, #T_742da_row24_col4, #T_742da_row27_col4, #T_742da_row28_col4, #T_742da_row33_col11, #T_742da_row37_col3 {\n",
       "  background-color: #c5e0c5;\n",
       "  color: #000000;\n",
       "}\n",
       "#T_742da_row2_col8, #T_742da_row2_col19, #T_742da_row5_col37, #T_742da_row7_col39, #T_742da_row34_col15, #T_742da_row34_col16, #T_742da_row39_col37 {\n",
       "  background-color: #e8f2e8;\n",
       "  color: #000000;\n",
       "}\n",
       "#T_742da_row2_col9, #T_742da_row3_col9, #T_742da_row19_col36, #T_742da_row22_col36, #T_742da_row25_col36, #T_742da_row36_col1, #T_742da_row37_col9 {\n",
       "  background-color: #a6d1a6;\n",
       "  color: #000000;\n",
       "}\n",
       "#T_742da_row2_col16, #T_742da_row4_col37, #T_742da_row5_col39, #T_742da_row7_col0, #T_742da_row8_col31, #T_742da_row12_col10, #T_742da_row15_col37, #T_742da_row17_col39, #T_742da_row19_col37, #T_742da_row25_col37, #T_742da_row33_col10, #T_742da_row36_col8, #T_742da_row36_col10, #T_742da_row36_col19, #T_742da_row37_col10, #T_742da_row37_col16, #T_742da_row37_col19, #T_742da_row38_col15, #T_742da_row40_col31 {\n",
       "  background-color: #e5f0e5;\n",
       "  color: #000000;\n",
       "}\n",
       "#T_742da_row2_col23, #T_742da_row11_col23, #T_742da_row12_col34, #T_742da_row13_col30, #T_742da_row24_col29 {\n",
       "  background-color: #9dcd9d;\n",
       "  color: #000000;\n",
       "}\n",
       "#T_742da_row2_col27, #T_742da_row4_col10, #T_742da_row4_col34, #T_742da_row6_col13, #T_742da_row6_col14, #T_742da_row6_col39, #T_742da_row7_col27, #T_742da_row9_col13, #T_742da_row11_col0, #T_742da_row12_col13, #T_742da_row14_col39, #T_742da_row15_col12, #T_742da_row18_col40, #T_742da_row23_col13, #T_742da_row26_col40, #T_742da_row29_col40, #T_742da_row30_col40, #T_742da_row32_col40, #T_742da_row35_col13, #T_742da_row35_col27, #T_742da_row38_col13, #T_742da_row38_col27, #T_742da_row39_col13, #T_742da_row40_col13 {\n",
       "  background-color: #dcecdc;\n",
       "  color: #000000;\n",
       "}\n",
       "#T_742da_row2_col28, #T_742da_row2_col39, #T_742da_row3_col12, #T_742da_row5_col2, #T_742da_row5_col22, #T_742da_row7_col22, #T_742da_row9_col21, #T_742da_row13_col14, #T_742da_row14_col22, #T_742da_row15_col8, #T_742da_row15_col16, #T_742da_row18_col14, #T_742da_row18_col25, #T_742da_row21_col25, #T_742da_row22_col11, #T_742da_row24_col25, #T_742da_row25_col2, #T_742da_row25_col11, #T_742da_row27_col1, #T_742da_row29_col2, #T_742da_row29_col14, #T_742da_row29_col25, #T_742da_row31_col25, #T_742da_row32_col14, #T_742da_row36_col2, #T_742da_row37_col35, #T_742da_row39_col6, #T_742da_row39_col7, #T_742da_row39_col11, #T_742da_row40_col11 {\n",
       "  background-color: #cfe5cf;\n",
       "  color: #000000;\n",
       "}\n",
       "#T_742da_row2_col35, #T_742da_row5_col17, #T_742da_row7_col38, #T_742da_row10_col15, #T_742da_row10_col19, #T_742da_row13_col4, #T_742da_row14_col17, #T_742da_row16_col19, #T_742da_row19_col16, #T_742da_row23_col4, #T_742da_row26_col4, #T_742da_row30_col4, #T_742da_row35_col39 {\n",
       "  background-color: #c4e0c4;\n",
       "  color: #000000;\n",
       "}\n",
       "#T_742da_row2_col40, #T_742da_row9_col2, #T_742da_row12_col35, #T_742da_row15_col3, #T_742da_row15_col25, #T_742da_row16_col11, #T_742da_row16_col14, #T_742da_row18_col20, #T_742da_row18_col21, #T_742da_row19_col25, #T_742da_row21_col2, #T_742da_row23_col7, #T_742da_row24_col2, #T_742da_row24_col14, #T_742da_row26_col14, #T_742da_row27_col14, #T_742da_row28_col14, #T_742da_row29_col20, #T_742da_row29_col21, #T_742da_row30_col14, #T_742da_row31_col20, #T_742da_row31_col21, #T_742da_row32_col21, #T_742da_row34_col22, #T_742da_row34_col40, #T_742da_row35_col11, #T_742da_row37_col25, #T_742da_row40_col7 {\n",
       "  background-color: #d0e6d0;\n",
       "  color: #000000;\n",
       "}\n",
       "#T_742da_row3_col5, #T_742da_row3_col7, #T_742da_row3_col11, #T_742da_row3_col15, #T_742da_row4_col6, #T_742da_row4_col12, #T_742da_row5_col3, #T_742da_row5_col16, #T_742da_row7_col3, #T_742da_row7_col14, #T_742da_row7_col37, #T_742da_row8_col2, #T_742da_row8_col39, #T_742da_row9_col8, #T_742da_row23_col33, #T_742da_row23_col40, #T_742da_row33_col0, #T_742da_row33_col1, #T_742da_row33_col9, #T_742da_row33_col13, #T_742da_row33_col17, #T_742da_row33_col18, #T_742da_row33_col20, #T_742da_row33_col21, #T_742da_row33_col22, #T_742da_row33_col23, #T_742da_row33_col24, #T_742da_row33_col25, #T_742da_row33_col26, #T_742da_row33_col27, #T_742da_row33_col28, #T_742da_row33_col29, #T_742da_row33_col30, #T_742da_row33_col31, #T_742da_row33_col32, #T_742da_row33_col34, #T_742da_row33_col35, #T_742da_row33_col36, #T_742da_row33_col38, #T_742da_row34_col4, #T_742da_row34_col19, #T_742da_row36_col40, #T_742da_row40_col10, #T_742da_row40_col16 {\n",
       "  background-color: #ebf3eb;\n",
       "  color: #000000;\n",
       "}\n",
       "#T_742da_row3_col8, #T_742da_row9_col17, #T_742da_row12_col3, #T_742da_row15_col7, #T_742da_row19_col1, #T_742da_row19_col38, #T_742da_row23_col5, #T_742da_row33_col40, #T_742da_row35_col1, #T_742da_row35_col17, #T_742da_row39_col4 {\n",
       "  background-color: #bdddbd;\n",
       "  color: #000000;\n",
       "}\n",
       "#T_742da_row3_col19, #T_742da_row4_col5, #T_742da_row14_col37, #T_742da_row38_col19, #T_742da_row40_col19 {\n",
       "  background-color: #eaf2ea;\n",
       "  color: #000000;\n",
       "}\n",
       "#T_742da_row3_col23, #T_742da_row6_col38, #T_742da_row22_col32, #T_742da_row28_col20, #T_742da_row28_col32, #T_742da_row36_col38 {\n",
       "  background-color: #98ca98;\n",
       "  color: #000000;\n",
       "}\n",
       "#T_742da_row3_col25, #T_742da_row5_col24, #T_742da_row6_col28, #T_742da_row9_col28, #T_742da_row10_col28, #T_742da_row11_col24, #T_742da_row12_col28, #T_742da_row13_col40, #T_742da_row14_col24, #T_742da_row14_col40, #T_742da_row15_col28, #T_742da_row16_col28, #T_742da_row17_col2, #T_742da_row17_col12, #T_742da_row17_col28, #T_742da_row18_col1, #T_742da_row19_col28, #T_742da_row21_col1, #T_742da_row23_col28, #T_742da_row24_col8, #T_742da_row36_col28, #T_742da_row37_col28, #T_742da_row39_col28, #T_742da_row40_col12 {\n",
       "  background-color: #d7e9d7;\n",
       "  color: #000000;\n",
       "}\n",
       "#T_742da_row3_col27, #T_742da_row4_col15, #T_742da_row5_col18, #T_742da_row5_col26, #T_742da_row5_col29, #T_742da_row5_col30, #T_742da_row5_col32, #T_742da_row7_col18, #T_742da_row7_col29, #T_742da_row7_col32, #T_742da_row7_col40, #T_742da_row8_col10, #T_742da_row8_col37, #T_742da_row12_col37, #T_742da_row13_col15, #T_742da_row13_col39, #T_742da_row14_col18, #T_742da_row14_col26, #T_742da_row14_col29, #T_742da_row14_col30, #T_742da_row14_col32, #T_742da_row18_col15, #T_742da_row18_col39, #T_742da_row22_col37, #T_742da_row22_col40, #T_742da_row24_col15, #T_742da_row24_col39, #T_742da_row24_col40, #T_742da_row26_col15, #T_742da_row26_col39, #T_742da_row27_col39, #T_742da_row28_col15, #T_742da_row28_col39, #T_742da_row29_col15, #T_742da_row29_col39, #T_742da_row30_col15, #T_742da_row30_col39, #T_742da_row31_col15, #T_742da_row31_col39, #T_742da_row32_col15, #T_742da_row32_col39, #T_742da_row34_col18, #T_742da_row34_col26, #T_742da_row34_col29, #T_742da_row34_col30, #T_742da_row34_col32, #T_742da_row36_col15 {\n",
       "  background-color: #e0eedf;\n",
       "  color: #000000;\n",
       "}\n",
       "#T_742da_row3_col33, #T_742da_row7_col36, #T_742da_row27_col33, #T_742da_row34_col6 {\n",
       "  background-color: #aed5ae;\n",
       "  color: #000000;\n",
       "}\n",
       "#T_742da_row3_col34, #T_742da_row14_col1, #T_742da_row36_col34 {\n",
       "  background-color: #8bc48b;\n",
       "  color: #000000;\n",
       "}\n",
       "#T_742da_row3_col36, #T_742da_row10_col23, #T_742da_row12_col38, #T_742da_row37_col33, #T_742da_row39_col33, #T_742da_row39_col34 {\n",
       "  background-color: #a0cea0;\n",
       "  color: #000000;\n",
       "}\n",
       "#T_742da_row4_col9, #T_742da_row4_col14, #T_742da_row5_col14, #T_742da_row8_col7, #T_742da_row9_col5, #T_742da_row28_col27, #T_742da_row31_col34 {\n",
       "  background-color: #b5d9b5;\n",
       "  color: #000000;\n",
       "}\n",
       "#T_742da_row4_col36, #T_742da_row5_col11, #T_742da_row6_col33, #T_742da_row13_col36, #T_742da_row15_col36, #T_742da_row18_col36, #T_742da_row20_col36, #T_742da_row21_col36, #T_742da_row24_col36, #T_742da_row26_col36, #T_742da_row27_col36, #T_742da_row28_col36, #T_742da_row29_col36, #T_742da_row30_col36, #T_742da_row31_col36, #T_742da_row32_col36 {\n",
       "  background-color: #a5d1a5;\n",
       "  color: #000000;\n",
       "}\n",
       "#T_742da_row5_col1, #T_742da_row23_col1, #T_742da_row34_col3 {\n",
       "  background-color: #99cb99;\n",
       "  color: #000000;\n",
       "}\n",
       "#T_742da_row5_col9, #T_742da_row5_col23, #T_742da_row35_col3 {\n",
       "  background-color: #9acb9a;\n",
       "  color: #000000;\n",
       "}\n",
       "#T_742da_row5_col19, #T_742da_row7_col10, #T_742da_row8_col0, #T_742da_row11_col16, #T_742da_row14_col12, #T_742da_row35_col19 {\n",
       "  background-color: #e9f2e9;\n",
       "  color: #000000;\n",
       "}\n",
       "#T_742da_row5_col36, #T_742da_row15_col33, #T_742da_row19_col33, #T_742da_row21_col23, #T_742da_row26_col25, #T_742da_row30_col25, #T_742da_row32_col27 {\n",
       "  background-color: #9fce9f;\n",
       "  color: #000000;\n",
       "}\n",
       "#T_742da_row5_col38, #T_742da_row10_col9, #T_742da_row12_col9, #T_742da_row23_col35 {\n",
       "  background-color: #a7d2a7;\n",
       "  color: #000000;\n",
       "}\n",
       "#T_742da_row6_col3, #T_742da_row6_col5, #T_742da_row15_col10, #T_742da_row17_col4, #T_742da_row20_col4, #T_742da_row31_col5, #T_742da_row35_col2, #T_742da_row37_col22 {\n",
       "  background-color: #c7e1c7;\n",
       "  color: #000000;\n",
       "}\n",
       "#T_742da_row6_col7, #T_742da_row19_col7, #T_742da_row35_col5, #T_742da_row36_col3, #T_742da_row36_col4, #T_742da_row40_col4 {\n",
       "  background-color: #c1dfc1;\n",
       "  color: #000000;\n",
       "}\n",
       "#T_742da_row6_col11, #T_742da_row14_col4, #T_742da_row19_col9, #T_742da_row25_col26, #T_742da_row25_col30, #T_742da_row39_col38 {\n",
       "  background-color: #aad3aa;\n",
       "  color: #000000;\n",
       "}\n",
       "#T_742da_row6_col23, #T_742da_row12_col23, #T_742da_row17_col34 {\n",
       "  background-color: #9ece9e;\n",
       "  color: #000000;\n",
       "}\n",
       "#T_742da_row6_col34, #T_742da_row7_col33 {\n",
       "  background-color: #95c995;\n",
       "  color: #000000;\n",
       "}\n",
       "#T_742da_row7_col1, #T_742da_row25_col32 {\n",
       "  background-color: #96c996;\n",
       "  color: #000000;\n",
       "}\n",
       "#T_742da_row7_col8, #T_742da_row11_col17, #T_742da_row14_col38, #T_742da_row15_col38, #T_742da_row34_col12, #T_742da_row38_col12 {\n",
       "  background-color: #bddcbd;\n",
       "  color: #000000;\n",
       "}\n",
       "#T_742da_row7_col9, #T_742da_row18_col33, #T_742da_row26_col33, #T_742da_row29_col33, #T_742da_row30_col33, #T_742da_row32_col33 {\n",
       "  background-color: #abd4ab;\n",
       "  color: #000000;\n",
       "}\n",
       "#T_742da_row7_col11, #T_742da_row8_col9, #T_742da_row9_col14, #T_742da_row17_col5, #T_742da_row39_col3, #T_742da_row40_col3 {\n",
       "  background-color: #beddbe;\n",
       "  color: #000000;\n",
       "}\n",
       "#T_742da_row8_col1 {\n",
       "  background-color: #7fbe7f;\n",
       "  color: #000000;\n",
       "}\n",
       "#T_742da_row8_col3, #T_742da_row8_col36, #T_742da_row11_col34, #T_742da_row12_col1, #T_742da_row13_col34, #T_742da_row18_col34, #T_742da_row20_col33, #T_742da_row21_col33, #T_742da_row29_col34, #T_742da_row32_col34, #T_742da_row33_col8, #T_742da_row35_col33 {\n",
       "  background-color: #b6d9b6;\n",
       "  color: #000000;\n",
       "}\n",
       "#T_742da_row8_col4, #T_742da_row23_col14, #T_742da_row27_col28 {\n",
       "  background-color: #b2d7b2;\n",
       "  color: #000000;\n",
       "}\n",
       "#T_742da_row8_col17, #T_742da_row16_col17, #T_742da_row31_col4, #T_742da_row34_col1, #T_742da_row36_col17, #T_742da_row37_col4 {\n",
       "  background-color: #c2dfc2;\n",
       "  color: #000000;\n",
       "}\n",
       "#T_742da_row8_col23, #T_742da_row11_col6, #T_742da_row26_col20, #T_742da_row28_col33, #T_742da_row30_col27 {\n",
       "  background-color: #b1d7b1;\n",
       "  color: #000000;\n",
       "}\n",
       "#T_742da_row8_col34, #T_742da_row13_col3, #T_742da_row16_col7, #T_742da_row16_col8, #T_742da_row19_col11, #T_742da_row20_col5, #T_742da_row26_col3, #T_742da_row26_col7, #T_742da_row28_col7, #T_742da_row30_col3, #T_742da_row30_col7, #T_742da_row35_col6, #T_742da_row35_col40, #T_742da_row37_col5 {\n",
       "  background-color: #c9e3c9;\n",
       "  color: #000000;\n",
       "}\n",
       "#T_742da_row9_col23, #T_742da_row36_col9 {\n",
       "  background-color: #57ab57;\n",
       "  color: #f1f1f1;\n",
       "}\n",
       "#T_742da_row9_col34 {\n",
       "  background-color: #88c388;\n",
       "  color: #000000;\n",
       "}\n",
       "#T_742da_row9_col35, #T_742da_row20_col13, #T_742da_row38_col5, #T_742da_row40_col9, #T_742da_row40_col36, #T_742da_row40_col38 {\n",
       "  background-color: #b4d8b4;\n",
       "  color: #000000;\n",
       "}\n",
       "#T_742da_row9_col36, #T_742da_row10_col16, #T_742da_row16_col10 {\n",
       "  background-color: #56aa56;\n",
       "  color: #f1f1f1;\n",
       "}\n",
       "#T_742da_row10_col1, #T_742da_row13_col33, #T_742da_row38_col6 {\n",
       "  background-color: #add5ad;\n",
       "  color: #000000;\n",
       "}\n",
       "#T_742da_row10_col34, #T_742da_row16_col4, #T_742da_row16_col34, #T_742da_row16_col38, #T_742da_row20_col34, #T_742da_row39_col0 {\n",
       "  background-color: #b8dab8;\n",
       "  color: #000000;\n",
       "}\n",
       "#T_742da_row10_col38, #T_742da_row11_col38, #T_742da_row14_col34, #T_742da_row21_col34, #T_742da_row24_col34, #T_742da_row25_col33, #T_742da_row26_col34, #T_742da_row27_col34, #T_742da_row28_col34, #T_742da_row30_col34, #T_742da_row33_col7, #T_742da_row37_col38, #T_742da_row39_col35 {\n",
       "  background-color: #b7dab7;\n",
       "  color: #000000;\n",
       "}\n",
       "#T_742da_row11_col5, #T_742da_row12_col33, #T_742da_row16_col23, #T_742da_row16_col33, #T_742da_row17_col38, #T_742da_row31_col23 {\n",
       "  background-color: #a1cfa1;\n",
       "  color: #000000;\n",
       "}\n",
       "#T_742da_row11_col7, #T_742da_row13_col38, #T_742da_row17_col3, #T_742da_row22_col34, #T_742da_row23_col3, #T_742da_row24_col38, #T_742da_row26_col38, #T_742da_row27_col38, #T_742da_row28_col25, #T_742da_row28_col38, #T_742da_row30_col38 {\n",
       "  background-color: #badbba;\n",
       "  color: #000000;\n",
       "}\n",
       "#T_742da_row12_col6, #T_742da_row17_col1, #T_742da_row29_col24 {\n",
       "  background-color: #97ca97;\n",
       "  color: #000000;\n",
       "}\n",
       "#T_742da_row13_col9, #T_742da_row16_col9, #T_742da_row18_col9, #T_742da_row20_col9, #T_742da_row24_col9, #T_742da_row26_col9, #T_742da_row27_col9, #T_742da_row28_col9, #T_742da_row29_col9, #T_742da_row30_col9, #T_742da_row31_col9, #T_742da_row31_col33, #T_742da_row32_col9, #T_742da_row38_col3, #T_742da_row39_col36 {\n",
       "  background-color: #a8d2a8;\n",
       "  color: #000000;\n",
       "}\n",
       "#T_742da_row14_col9, #T_742da_row17_col9, #T_742da_row30_col13 {\n",
       "  background-color: #9bcc9b;\n",
       "  color: #000000;\n",
       "}\n",
       "#T_742da_row14_col23, #T_742da_row32_col25 {\n",
       "  background-color: #8cc58c;\n",
       "  color: #000000;\n",
       "}\n",
       "#T_742da_row14_col36, #T_742da_row32_col22 {\n",
       "  background-color: #8ac48a;\n",
       "  color: #000000;\n",
       "}\n",
       "#T_742da_row15_col19 {\n",
       "  background-color: #62b062;\n",
       "  color: #f1f1f1;\n",
       "}\n",
       "#T_742da_row17_col33, #T_742da_row18_col38, #T_742da_row21_col38, #T_742da_row25_col34, #T_742da_row29_col38, #T_742da_row31_col38, #T_742da_row32_col38 {\n",
       "  background-color: #b9dbb9;\n",
       "  color: #000000;\n",
       "}\n",
       "#T_742da_row19_col15 {\n",
       "  background-color: #61af61;\n",
       "  color: #f1f1f1;\n",
       "}\n",
       "#T_742da_row20_col22 {\n",
       "  background-color: #4fa74f;\n",
       "  color: #f1f1f1;\n",
       "}\n",
       "#T_742da_row20_col25, #T_742da_row25_col20, #T_742da_row28_col22, #T_742da_row38_col35 {\n",
       "  background-color: #79bc79;\n",
       "  color: #000000;\n",
       "}\n",
       "#T_742da_row20_col30 {\n",
       "  background-color: #78bb78;\n",
       "  color: #000000;\n",
       "}\n",
       "#T_742da_row21_col24, #T_742da_row22_col27, #T_742da_row35_col38 {\n",
       "  background-color: #6cb56c;\n",
       "  color: #f1f1f1;\n",
       "}\n",
       "#T_742da_row22_col20 {\n",
       "  background-color: #52a852;\n",
       "  color: #f1f1f1;\n",
       "}\n",
       "#T_742da_row22_col25 {\n",
       "  background-color: #6fb76f;\n",
       "  color: #f1f1f1;\n",
       "}\n",
       "#T_742da_row23_col9 {\n",
       "  background-color: #5aac5a;\n",
       "  color: #f1f1f1;\n",
       "}\n",
       "#T_742da_row23_col34, #T_742da_row35_col23 {\n",
       "  background-color: #82c082;\n",
       "  color: #000000;\n",
       "}\n",
       "#T_742da_row23_col36 {\n",
       "  background-color: #269226;\n",
       "  color: #f1f1f1;\n",
       "}\n",
       "#T_742da_row24_col21 {\n",
       "  background-color: #6ab46a;\n",
       "  color: #f1f1f1;\n",
       "}\n",
       "#T_742da_row25_col22 {\n",
       "  background-color: #6db56d;\n",
       "  color: #f1f1f1;\n",
       "}\n",
       "#T_742da_row26_col22 {\n",
       "  background-color: #86c286;\n",
       "  color: #000000;\n",
       "}\n",
       "#T_742da_row26_col31 {\n",
       "  background-color: #70b770;\n",
       "  color: #f1f1f1;\n",
       "}\n",
       "#T_742da_row27_col22 {\n",
       "  background-color: #63b163;\n",
       "  color: #f1f1f1;\n",
       "}\n",
       "#T_742da_row30_col20 {\n",
       "  background-color: #72b872;\n",
       "  color: #f1f1f1;\n",
       "}\n",
       "#T_742da_row31_col26 {\n",
       "  background-color: #6eb66e;\n",
       "  color: #f1f1f1;\n",
       "}\n",
       "#T_742da_row34_col9, #T_742da_row34_col36 {\n",
       "  background-color: #7ebe7e;\n",
       "  color: #000000;\n",
       "}\n",
       "#T_742da_row34_col23 {\n",
       "  background-color: #74b974;\n",
       "  color: #f1f1f1;\n",
       "}\n",
       "#T_742da_row34_col35 {\n",
       "  background-color: #4da64d;\n",
       "  color: #f1f1f1;\n",
       "}\n",
       "#T_742da_row34_col38 {\n",
       "  background-color: #40a040;\n",
       "  color: #f1f1f1;\n",
       "}\n",
       "#T_742da_row35_col9 {\n",
       "  background-color: #91c791;\n",
       "  color: #000000;\n",
       "}\n",
       "#T_742da_row35_col34 {\n",
       "  background-color: #43a143;\n",
       "  color: #f1f1f1;\n",
       "}\n",
       "#T_742da_row36_col23 {\n",
       "  background-color: #259225;\n",
       "  color: #f1f1f1;\n",
       "}\n",
       "#T_742da_row38_col9 {\n",
       "  background-color: #85c185;\n",
       "  color: #000000;\n",
       "}\n",
       "#T_742da_row38_col23 {\n",
       "  background-color: #78bb78;\n",
       "  color: #f1f1f1;\n",
       "}\n",
       "#T_742da_row38_col34 {\n",
       "  background-color: #3f9f3f;\n",
       "  color: #f1f1f1;\n",
       "}\n",
       "#T_742da_row40_col23, #T_742da_row40_col34 {\n",
       "  background-color: #b0d6b0;\n",
       "  color: #000000;\n",
       "}\n",
       "</style>\n",
       "<table id=\"T_742da_\">\n",
       "  <thead>\n",
       "    <tr>\n",
       "      <th class=\"blank level0\" >&nbsp;</th>\n",
       "      <th class=\"col_heading level0 col0\" >Recommendations</th>\n",
       "      <th class=\"col_heading level0 col1\" >Genre Count</th>\n",
       "      <th class=\"col_heading level0 col2\" >Developer Count</th>\n",
       "      <th class=\"col_heading level0 col3\" >Action</th>\n",
       "      <th class=\"col_heading level0 col4\" >Adventure</th>\n",
       "      <th class=\"col_heading level0 col5\" >Strategy</th>\n",
       "      <th class=\"col_heading level0 col6\" >Sports</th>\n",
       "      <th class=\"col_heading level0 col7\" >Casual</th>\n",
       "      <th class=\"col_heading level0 col8\" >Indie</th>\n",
       "      <th class=\"col_heading level0 col9\" >Free to Play</th>\n",
       "      <th class=\"col_heading level0 col10\" >Violent</th>\n",
       "      <th class=\"col_heading level0 col11\" >Simulation</th>\n",
       "      <th class=\"col_heading level0 col12\" >Racing</th>\n",
       "      <th class=\"col_heading level0 col13\" >Audio Production</th>\n",
       "      <th class=\"col_heading level0 col14\" >RPG</th>\n",
       "      <th class=\"col_heading level0 col15\" >Sexual Content</th>\n",
       "      <th class=\"col_heading level0 col16\" >Gore</th>\n",
       "      <th class=\"col_heading level0 col17\" >Early Access</th>\n",
       "      <th class=\"col_heading level0 col18\" >Short</th>\n",
       "      <th class=\"col_heading level0 col19\" >Nudity</th>\n",
       "      <th class=\"col_heading level0 col20\" >Animation & Modeling</th>\n",
       "      <th class=\"col_heading level0 col21\" >Movie</th>\n",
       "      <th class=\"col_heading level0 col22\" >Design & Illustration</th>\n",
       "      <th class=\"col_heading level0 col23\" >Massively Multiplayer</th>\n",
       "      <th class=\"col_heading level0 col24\" >Documentary</th>\n",
       "      <th class=\"col_heading level0 col25\" >Utilities</th>\n",
       "      <th class=\"col_heading level0 col26\" >Education</th>\n",
       "      <th class=\"col_heading level0 col27\" >Photo Editing</th>\n",
       "      <th class=\"col_heading level0 col28\" >Web Publishing</th>\n",
       "      <th class=\"col_heading level0 col29\" >Episodic</th>\n",
       "      <th class=\"col_heading level0 col30\" >Video Production</th>\n",
       "      <th class=\"col_heading level0 col31\" >Software Training</th>\n",
       "      <th class=\"col_heading level0 col32\" >Game Development</th>\n",
       "      <th class=\"col_heading level0 col33\" >Single-player</th>\n",
       "      <th class=\"col_heading level0 col34\" >Multi-player</th>\n",
       "      <th class=\"col_heading level0 col35\" >Co-op</th>\n",
       "      <th class=\"col_heading level0 col36\" >MMO</th>\n",
       "      <th class=\"col_heading level0 col37\" >VR Support</th>\n",
       "      <th class=\"col_heading level0 col38\" >PvP</th>\n",
       "      <th class=\"col_heading level0 col39\" >Remote Play on Phone</th>\n",
       "      <th class=\"col_heading level0 col40\" >Steam Achievements</th>\n",
       "    </tr>\n",
       "  </thead>\n",
       "  <tbody>\n",
       "    <tr>\n",
       "      <th id=\"T_742da_level0_row0\" class=\"row_heading level0 row0\" >Recommendations</th>\n",
       "      <td id=\"T_742da_row0_col0\" class=\"data row0 col0\" >1.000000</td>\n",
       "      <td id=\"T_742da_row0_col1\" class=\"data row0 col1\" >-0.019719</td>\n",
       "      <td id=\"T_742da_row0_col2\" class=\"data row0 col2\" >0.047057</td>\n",
       "      <td id=\"T_742da_row0_col3\" class=\"data row0 col3\" >0.029768</td>\n",
       "      <td id=\"T_742da_row0_col4\" class=\"data row0 col4\" >-0.008709</td>\n",
       "      <td id=\"T_742da_row0_col5\" class=\"data row0 col5\" >-0.009790</td>\n",
       "      <td id=\"T_742da_row0_col6\" class=\"data row0 col6\" >-0.004099</td>\n",
       "      <td id=\"T_742da_row0_col7\" class=\"data row0 col7\" >-0.039460</td>\n",
       "      <td id=\"T_742da_row0_col8\" class=\"data row0 col8\" >-0.057471</td>\n",
       "      <td id=\"T_742da_row0_col9\" class=\"data row0 col9\" >0.032844</td>\n",
       "      <td id=\"T_742da_row0_col10\" class=\"data row0 col10\" >-0.007237</td>\n",
       "      <td id=\"T_742da_row0_col11\" class=\"data row0 col11\" >0.002410</td>\n",
       "      <td id=\"T_742da_row0_col12\" class=\"data row0 col12\" >-0.003339</td>\n",
       "      <td id=\"T_742da_row0_col13\" class=\"data row0 col13\" >-0.001174</td>\n",
       "      <td id=\"T_742da_row0_col14\" class=\"data row0 col14\" >0.008125</td>\n",
       "      <td id=\"T_742da_row0_col15\" class=\"data row0 col15\" >-0.003410</td>\n",
       "      <td id=\"T_742da_row0_col16\" class=\"data row0 col16\" >-0.005765</td>\n",
       "      <td id=\"T_742da_row0_col17\" class=\"data row0 col17\" >-0.010249</td>\n",
       "      <td id=\"T_742da_row0_col18\" class=\"data row0 col18\" >-0.001049</td>\n",
       "      <td id=\"T_742da_row0_col19\" class=\"data row0 col19\" >-0.003397</td>\n",
       "      <td id=\"T_742da_row0_col20\" class=\"data row0 col20\" >0.015995</td>\n",
       "      <td id=\"T_742da_row0_col21\" class=\"data row0 col21\" >-0.002189</td>\n",
       "      <td id=\"T_742da_row0_col22\" class=\"data row0 col22\" >0.011077</td>\n",
       "      <td id=\"T_742da_row0_col23\" class=\"data row0 col23\" >0.030859</td>\n",
       "      <td id=\"T_742da_row0_col24\" class=\"data row0 col24\" >-0.001632</td>\n",
       "      <td id=\"T_742da_row0_col25\" class=\"data row0 col25\" >0.011205</td>\n",
       "      <td id=\"T_742da_row0_col26\" class=\"data row0 col26\" >-0.001484</td>\n",
       "      <td id=\"T_742da_row0_col27\" class=\"data row0 col27\" >0.020541</td>\n",
       "      <td id=\"T_742da_row0_col28\" class=\"data row0 col28\" >-0.000768</td>\n",
       "      <td id=\"T_742da_row0_col29\" class=\"data row0 col29\" >-0.001049</td>\n",
       "      <td id=\"T_742da_row0_col30\" class=\"data row0 col30\" >-0.000646</td>\n",
       "      <td id=\"T_742da_row0_col31\" class=\"data row0 col31\" >-0.000742</td>\n",
       "      <td id=\"T_742da_row0_col32\" class=\"data row0 col32\" >-0.001020</td>\n",
       "      <td id=\"T_742da_row0_col33\" class=\"data row0 col33\" >-0.066515</td>\n",
       "      <td id=\"T_742da_row0_col34\" class=\"data row0 col34\" >0.064683</td>\n",
       "      <td id=\"T_742da_row0_col35\" class=\"data row0 col35\" >0.050351</td>\n",
       "      <td id=\"T_742da_row0_col36\" class=\"data row0 col36\" >0.010249</td>\n",
       "      <td id=\"T_742da_row0_col37\" class=\"data row0 col37\" >-0.001822</td>\n",
       "      <td id=\"T_742da_row0_col38\" class=\"data row0 col38\" >0.034713</td>\n",
       "      <td id=\"T_742da_row0_col39\" class=\"data row0 col39\" >0.162827</td>\n",
       "      <td id=\"T_742da_row0_col40\" class=\"data row0 col40\" >0.010156</td>\n",
       "    </tr>\n",
       "    <tr>\n",
       "      <th id=\"T_742da_level0_row1\" class=\"row_heading level0 row1\" >Genre Count</th>\n",
       "      <td id=\"T_742da_row1_col0\" class=\"data row1 col0\" >-0.019719</td>\n",
       "      <td id=\"T_742da_row1_col1\" class=\"data row1 col1\" >1.000000</td>\n",
       "      <td id=\"T_742da_row1_col2\" class=\"data row1 col2\" >-0.055715</td>\n",
       "      <td id=\"T_742da_row1_col3\" class=\"data row1 col3\" >0.257465</td>\n",
       "      <td id=\"T_742da_row1_col4\" class=\"data row1 col4\" >0.316535</td>\n",
       "      <td id=\"T_742da_row1_col5\" class=\"data row1 col5\" >0.274733</td>\n",
       "      <td id=\"T_742da_row1_col6\" class=\"data row1 col6\" >0.169218</td>\n",
       "      <td id=\"T_742da_row1_col7\" class=\"data row1 col7\" >0.287020</td>\n",
       "      <td id=\"T_742da_row1_col8\" class=\"data row1 col8\" >0.395444</td>\n",
       "      <td id=\"T_742da_row1_col9\" class=\"data row1 col9\" >0.220094</td>\n",
       "      <td id=\"T_742da_row1_col10\" class=\"data row1 col10\" >0.176360</td>\n",
       "      <td id=\"T_742da_row1_col11\" class=\"data row1 col11\" >0.322757</td>\n",
       "      <td id=\"T_742da_row1_col12\" class=\"data row1 col12\" >0.135559</td>\n",
       "      <td id=\"T_742da_row1_col13\" class=\"data row1 col13\" >0.002940</td>\n",
       "      <td id=\"T_742da_row1_col14\" class=\"data row1 col14\" >0.339014</td>\n",
       "      <td id=\"T_742da_row1_col15\" class=\"data row1 col15\" >0.089395</td>\n",
       "      <td id=\"T_742da_row1_col16\" class=\"data row1 col16\" >0.157206</td>\n",
       "      <td id=\"T_742da_row1_col17\" class=\"data row1 col17\" >0.282365</td>\n",
       "      <td id=\"T_742da_row1_col18\" class=\"data row1 col18\" >-0.020590</td>\n",
       "      <td id=\"T_742da_row1_col19\" class=\"data row1 col19\" >0.098406</td>\n",
       "      <td id=\"T_742da_row1_col20\" class=\"data row1 col20\" >0.022795</td>\n",
       "      <td id=\"T_742da_row1_col21\" class=\"data row1 col21\" >-0.021339</td>\n",
       "      <td id=\"T_742da_row1_col22\" class=\"data row1 col22\" >0.002140</td>\n",
       "      <td id=\"T_742da_row1_col23\" class=\"data row1 col23\" >0.276344</td>\n",
       "      <td id=\"T_742da_row1_col24\" class=\"data row1 col24\" >-0.019075</td>\n",
       "      <td id=\"T_742da_row1_col25\" class=\"data row1 col25\" >0.003672</td>\n",
       "      <td id=\"T_742da_row1_col26\" class=\"data row1 col26\" >0.003395</td>\n",
       "      <td id=\"T_742da_row1_col27\" class=\"data row1 col27\" >0.016784</td>\n",
       "      <td id=\"T_742da_row1_col28\" class=\"data row1 col28\" >0.000160</td>\n",
       "      <td id=\"T_742da_row1_col29\" class=\"data row1 col29\" >-0.014842</td>\n",
       "      <td id=\"T_742da_row1_col30\" class=\"data row1 col30\" >0.003395</td>\n",
       "      <td id=\"T_742da_row1_col31\" class=\"data row1 col31\" >-0.006431</td>\n",
       "      <td id=\"T_742da_row1_col32\" class=\"data row1 col32\" >0.025391</td>\n",
       "      <td id=\"T_742da_row1_col33\" class=\"data row1 col33\" >-0.115878</td>\n",
       "      <td id=\"T_742da_row1_col34\" class=\"data row1 col34\" >0.076399</td>\n",
       "      <td id=\"T_742da_row1_col35\" class=\"data row1 col35\" >0.099243</td>\n",
       "      <td id=\"T_742da_row1_col36\" class=\"data row1 col36\" >0.212656</td>\n",
       "      <td id=\"T_742da_row1_col37\" class=\"data row1 col37\" >-0.009251</td>\n",
       "      <td id=\"T_742da_row1_col38\" class=\"data row1 col38\" >0.108871</td>\n",
       "      <td id=\"T_742da_row1_col39\" class=\"data row1 col39\" >-0.038104</td>\n",
       "      <td id=\"T_742da_row1_col40\" class=\"data row1 col40\" >-0.029911</td>\n",
       "    </tr>\n",
       "    <tr>\n",
       "      <th id=\"T_742da_level0_row2\" class=\"row_heading level0 row2\" >Developer Count</th>\n",
       "      <td id=\"T_742da_row2_col0\" class=\"data row2 col0\" >0.047057</td>\n",
       "      <td id=\"T_742da_row2_col1\" class=\"data row2 col1\" >-0.055715</td>\n",
       "      <td id=\"T_742da_row2_col2\" class=\"data row2 col2\" >1.000000</td>\n",
       "      <td id=\"T_742da_row2_col3\" class=\"data row2 col3\" >0.030450</td>\n",
       "      <td id=\"T_742da_row2_col4\" class=\"data row2 col4\" >-0.020677</td>\n",
       "      <td id=\"T_742da_row2_col5\" class=\"data row2 col5\" >0.015942</td>\n",
       "      <td id=\"T_742da_row2_col6\" class=\"data row2 col6\" >-0.003237</td>\n",
       "      <td id=\"T_742da_row2_col7\" class=\"data row2 col7\" >-0.038554</td>\n",
       "      <td id=\"T_742da_row2_col8\" class=\"data row2 col8\" >-0.119087</td>\n",
       "      <td id=\"T_742da_row2_col9\" class=\"data row2 col9\" >0.008968</td>\n",
       "      <td id=\"T_742da_row2_col10\" class=\"data row2 col10\" >-0.016770</td>\n",
       "      <td id=\"T_742da_row2_col11\" class=\"data row2 col11\" >-0.011676</td>\n",
       "      <td id=\"T_742da_row2_col12\" class=\"data row2 col12\" >-0.006279</td>\n",
       "      <td id=\"T_742da_row2_col13\" class=\"data row2 col13\" >0.021729</td>\n",
       "      <td id=\"T_742da_row2_col14\" class=\"data row2 col14\" >-0.002915</td>\n",
       "      <td id=\"T_742da_row2_col15\" class=\"data row2 col15\" >-0.020702</td>\n",
       "      <td id=\"T_742da_row2_col16\" class=\"data row2 col16\" >-0.007024</td>\n",
       "      <td id=\"T_742da_row2_col17\" class=\"data row2 col17\" >-0.024346</td>\n",
       "      <td id=\"T_742da_row2_col18\" class=\"data row2 col18\" >-0.004216</td>\n",
       "      <td id=\"T_742da_row2_col19\" class=\"data row2 col19\" >-0.020484</td>\n",
       "      <td id=\"T_742da_row2_col20\" class=\"data row2 col20\" >-0.002867</td>\n",
       "      <td id=\"T_742da_row2_col21\" class=\"data row2 col21\" >0.011183</td>\n",
       "      <td id=\"T_742da_row2_col22\" class=\"data row2 col22\" >0.023141</td>\n",
       "      <td id=\"T_742da_row2_col23\" class=\"data row2 col23\" >0.020971</td>\n",
       "      <td id=\"T_742da_row2_col24\" class=\"data row2 col24\" >0.011715</td>\n",
       "      <td id=\"T_742da_row2_col25\" class=\"data row2 col25\" >0.013731</td>\n",
       "      <td id=\"T_742da_row2_col26\" class=\"data row2 col26\" >-0.005963</td>\n",
       "      <td id=\"T_742da_row2_col27\" class=\"data row2 col27\" >-0.007890</td>\n",
       "      <td id=\"T_742da_row2_col28\" class=\"data row2 col28\" >0.034999</td>\n",
       "      <td id=\"T_742da_row2_col29\" class=\"data row2 col29\" >0.012252</td>\n",
       "      <td id=\"T_742da_row2_col30\" class=\"data row2 col30\" >-0.005963</td>\n",
       "      <td id=\"T_742da_row2_col31\" class=\"data row2 col31\" >-0.002981</td>\n",
       "      <td id=\"T_742da_row2_col32\" class=\"data row2 col32\" >-0.004216</td>\n",
       "      <td id=\"T_742da_row2_col33\" class=\"data row2 col33\" >-0.006886</td>\n",
       "      <td id=\"T_742da_row2_col34\" class=\"data row2 col34\" >0.047876</td>\n",
       "      <td id=\"T_742da_row2_col35\" class=\"data row2 col35\" >0.055699</td>\n",
       "      <td id=\"T_742da_row2_col36\" class=\"data row2 col36\" >0.013747</td>\n",
       "      <td id=\"T_742da_row2_col37\" class=\"data row2 col37\" >-0.000427</td>\n",
       "      <td id=\"T_742da_row2_col38\" class=\"data row2 col38\" >0.050238</td>\n",
       "      <td id=\"T_742da_row2_col39\" class=\"data row2 col39\" >0.068990</td>\n",
       "      <td id=\"T_742da_row2_col40\" class=\"data row2 col40\" >0.029925</td>\n",
       "    </tr>\n",
       "    <tr>\n",
       "      <th id=\"T_742da_level0_row3\" class=\"row_heading level0 row3\" >Action</th>\n",
       "      <td id=\"T_742da_row3_col0\" class=\"data row3 col0\" >0.029768</td>\n",
       "      <td id=\"T_742da_row3_col1\" class=\"data row3 col1\" >0.257465</td>\n",
       "      <td id=\"T_742da_row3_col2\" class=\"data row3 col2\" >0.030450</td>\n",
       "      <td id=\"T_742da_row3_col3\" class=\"data row3 col3\" >1.000000</td>\n",
       "      <td id=\"T_742da_row3_col4\" class=\"data row3 col4\" >-0.023470</td>\n",
       "      <td id=\"T_742da_row3_col5\" class=\"data row3 col5\" >-0.185858</td>\n",
       "      <td id=\"T_742da_row3_col6\" class=\"data row3 col6\" >-0.002915</td>\n",
       "      <td id=\"T_742da_row3_col7\" class=\"data row3 col7\" >-0.183358</td>\n",
       "      <td id=\"T_742da_row3_col8\" class=\"data row3 col8\" >0.081973</td>\n",
       "      <td id=\"T_742da_row3_col9\" class=\"data row3 col9\" >0.014234</td>\n",
       "      <td id=\"T_742da_row3_col10\" class=\"data row3 col10\" >0.053470</td>\n",
       "      <td id=\"T_742da_row3_col11\" class=\"data row3 col11\" >-0.158527</td>\n",
       "      <td id=\"T_742da_row3_col12\" class=\"data row3 col12\" >0.044485</td>\n",
       "      <td id=\"T_742da_row3_col13\" class=\"data row3 col13\" >-0.016318</td>\n",
       "      <td id=\"T_742da_row3_col14\" class=\"data row3 col14\" >-0.038607</td>\n",
       "      <td id=\"T_742da_row3_col15\" class=\"data row3 col15\" >-0.051019</td>\n",
       "      <td id=\"T_742da_row3_col16\" class=\"data row3 col16\" >0.028894</td>\n",
       "      <td id=\"T_742da_row3_col17\" class=\"data row3 col17\" >0.059763</td>\n",
       "      <td id=\"T_742da_row3_col18\" class=\"data row3 col18\" >-0.013323</td>\n",
       "      <td id=\"T_742da_row3_col19\" class=\"data row3 col19\" >-0.026897</td>\n",
       "      <td id=\"T_742da_row3_col20\" class=\"data row3 col20\" >-0.031260</td>\n",
       "      <td id=\"T_742da_row3_col21\" class=\"data row3 col21\" >-0.025255</td>\n",
       "      <td id=\"T_742da_row3_col22\" class=\"data row3 col22\" >-0.042169</td>\n",
       "      <td id=\"T_742da_row3_col23\" class=\"data row3 col23\" >0.059904</td>\n",
       "      <td id=\"T_742da_row3_col24\" class=\"data row3 col24\" >-0.023081</td>\n",
       "      <td id=\"T_742da_row3_col25\" class=\"data row3 col25\" >-0.041099</td>\n",
       "      <td id=\"T_742da_row3_col26\" class=\"data row3 col26\" >-0.018844</td>\n",
       "      <td id=\"T_742da_row3_col27\" class=\"data row3 col27\" >-0.024932</td>\n",
       "      <td id=\"T_742da_row3_col28\" class=\"data row3 col28\" >-0.021069</td>\n",
       "      <td id=\"T_742da_row3_col29\" class=\"data row3 col29\" >-0.013323</td>\n",
       "      <td id=\"T_742da_row3_col30\" class=\"data row3 col30\" >-0.018844</td>\n",
       "      <td id=\"T_742da_row3_col31\" class=\"data row3 col31\" >-0.009420</td>\n",
       "      <td id=\"T_742da_row3_col32\" class=\"data row3 col32\" >-0.013323</td>\n",
       "      <td id=\"T_742da_row3_col33\" class=\"data row3 col33\" >-0.080190</td>\n",
       "      <td id=\"T_742da_row3_col34\" class=\"data row3 col34\" >0.230538</td>\n",
       "      <td id=\"T_742da_row3_col35\" class=\"data row3 col35\" >0.222551</td>\n",
       "      <td id=\"T_742da_row3_col36\" class=\"data row3 col36\" >0.024138</td>\n",
       "      <td id=\"T_742da_row3_col37\" class=\"data row3 col37\" >0.008393</td>\n",
       "      <td id=\"T_742da_row3_col38\" class=\"data row3 col38\" >0.149595</td>\n",
       "      <td id=\"T_742da_row3_col39\" class=\"data row3 col39\" >0.039808</td>\n",
       "      <td id=\"T_742da_row3_col40\" class=\"data row3 col40\" >0.039443</td>\n",
       "    </tr>\n",
       "    <tr>\n",
       "      <th id=\"T_742da_level0_row4\" class=\"row_heading level0 row4\" >Adventure</th>\n",
       "      <td id=\"T_742da_row4_col0\" class=\"data row4 col0\" >-0.008709</td>\n",
       "      <td id=\"T_742da_row4_col1\" class=\"data row4 col1\" >0.316535</td>\n",
       "      <td id=\"T_742da_row4_col2\" class=\"data row4 col2\" >-0.020677</td>\n",
       "      <td id=\"T_742da_row4_col3\" class=\"data row4 col3\" >-0.023470</td>\n",
       "      <td id=\"T_742da_row4_col4\" class=\"data row4 col4\" >1.000000</td>\n",
       "      <td id=\"T_742da_row4_col5\" class=\"data row4 col5\" >-0.177295</td>\n",
       "      <td id=\"T_742da_row4_col6\" class=\"data row4 col6\" >-0.118457</td>\n",
       "      <td id=\"T_742da_row4_col7\" class=\"data row4 col7\" >0.005727</td>\n",
       "      <td id=\"T_742da_row4_col8\" class=\"data row4 col8\" >0.072737</td>\n",
       "      <td id=\"T_742da_row4_col9\" class=\"data row4 col9\" >-0.081833</td>\n",
       "      <td id=\"T_742da_row4_col10\" class=\"data row4 col10\" >0.029392</td>\n",
       "      <td id=\"T_742da_row4_col11\" class=\"data row4 col11\" >-0.110439</td>\n",
       "      <td id=\"T_742da_row4_col12\" class=\"data row4 col12\" >-0.083792</td>\n",
       "      <td id=\"T_742da_row4_col13\" class=\"data row4 col13\" >-0.014716</td>\n",
       "      <td id=\"T_742da_row4_col14\" class=\"data row4 col14\" >0.118063</td>\n",
       "      <td id=\"T_742da_row4_col15\" class=\"data row4 col15\" >0.002143</td>\n",
       "      <td id=\"T_742da_row4_col16\" class=\"data row4 col16\" >0.047485</td>\n",
       "      <td id=\"T_742da_row4_col17\" class=\"data row4 col17\" >-0.031661</td>\n",
       "      <td id=\"T_742da_row4_col18\" class=\"data row4 col18\" >-0.012015</td>\n",
       "      <td id=\"T_742da_row4_col19\" class=\"data row4 col19\" >0.009292</td>\n",
       "      <td id=\"T_742da_row4_col20\" class=\"data row4 col20\" >-0.028190</td>\n",
       "      <td id=\"T_742da_row4_col21\" class=\"data row4 col21\" >-0.022120</td>\n",
       "      <td id=\"T_742da_row4_col22\" class=\"data row4 col22\" >-0.038028</td>\n",
       "      <td id=\"T_742da_row4_col23\" class=\"data row4 col23\" >-0.015473</td>\n",
       "      <td id=\"T_742da_row4_col24\" class=\"data row4 col24\" >-0.020815</td>\n",
       "      <td id=\"T_742da_row4_col25\" class=\"data row4 col25\" >-0.037064</td>\n",
       "      <td id=\"T_742da_row4_col26\" class=\"data row4 col26\" >-0.016993</td>\n",
       "      <td id=\"T_742da_row4_col27\" class=\"data row4 col27\" >-0.022483</td>\n",
       "      <td id=\"T_742da_row4_col28\" class=\"data row4 col28\" >-0.019000</td>\n",
       "      <td id=\"T_742da_row4_col29\" class=\"data row4 col29\" >-0.012015</td>\n",
       "      <td id=\"T_742da_row4_col30\" class=\"data row4 col30\" >-0.016993</td>\n",
       "      <td id=\"T_742da_row4_col31\" class=\"data row4 col31\" >-0.008495</td>\n",
       "      <td id=\"T_742da_row4_col32\" class=\"data row4 col32\" >-0.012015</td>\n",
       "      <td id=\"T_742da_row4_col33\" class=\"data row4 col33\" >0.106193</td>\n",
       "      <td id=\"T_742da_row4_col34\" class=\"data row4 col34\" >-0.218013</td>\n",
       "      <td id=\"T_742da_row4_col35\" class=\"data row4 col35\" >-0.061514</td>\n",
       "      <td id=\"T_742da_row4_col36\" class=\"data row4 col36\" >-0.003038</td>\n",
       "      <td id=\"T_742da_row4_col37\" class=\"data row4 col37\" >-0.006941</td>\n",
       "      <td id=\"T_742da_row4_col38\" class=\"data row4 col38\" >-0.155084</td>\n",
       "      <td id=\"T_742da_row4_col39\" class=\"data row4 col39\" >0.016792</td>\n",
       "      <td id=\"T_742da_row4_col40\" class=\"data row4 col40\" >-0.001780</td>\n",
       "    </tr>\n",
       "    <tr>\n",
       "      <th id=\"T_742da_level0_row5\" class=\"row_heading level0 row5\" >Strategy</th>\n",
       "      <td id=\"T_742da_row5_col0\" class=\"data row5 col0\" >-0.009790</td>\n",
       "      <td id=\"T_742da_row5_col1\" class=\"data row5 col1\" >0.274733</td>\n",
       "      <td id=\"T_742da_row5_col2\" class=\"data row5 col2\" >0.015942</td>\n",
       "      <td id=\"T_742da_row5_col3\" class=\"data row5 col3\" >-0.185858</td>\n",
       "      <td id=\"T_742da_row5_col4\" class=\"data row5 col4\" >-0.177295</td>\n",
       "      <td id=\"T_742da_row5_col5\" class=\"data row5 col5\" >1.000000</td>\n",
       "      <td id=\"T_742da_row5_col6\" class=\"data row5 col6\" >-0.005041</td>\n",
       "      <td id=\"T_742da_row5_col7\" class=\"data row5 col7\" >-0.031046</td>\n",
       "      <td id=\"T_742da_row5_col8\" class=\"data row5 col8\" >-0.010295</td>\n",
       "      <td id=\"T_742da_row5_col9\" class=\"data row5 col9\" >0.083721</td>\n",
       "      <td id=\"T_742da_row5_col10\" class=\"data row5 col10\" >-0.020807</td>\n",
       "      <td id=\"T_742da_row5_col11\" class=\"data row5 col11\" >0.188553</td>\n",
       "      <td id=\"T_742da_row5_col12\" class=\"data row5 col12\" >-0.065097</td>\n",
       "      <td id=\"T_742da_row5_col13\" class=\"data row5 col13\" >-0.008932</td>\n",
       "      <td id=\"T_742da_row5_col14\" class=\"data row5 col14\" >0.118467</td>\n",
       "      <td id=\"T_742da_row5_col15\" class=\"data row5 col15\" >-0.021737</td>\n",
       "      <td id=\"T_742da_row5_col16\" class=\"data row5 col16\" >-0.034134</td>\n",
       "      <td id=\"T_742da_row5_col17\" class=\"data row5 col17\" >0.039541</td>\n",
       "      <td id=\"T_742da_row5_col18\" class=\"data row5 col18\" >-0.007293</td>\n",
       "      <td id=\"T_742da_row5_col19\" class=\"data row5 col19\" >-0.024767</td>\n",
       "      <td id=\"T_742da_row5_col20\" class=\"data row5 col20\" >-0.017110</td>\n",
       "      <td id=\"T_742da_row5_col21\" class=\"data row5 col21\" >-0.009775</td>\n",
       "      <td id=\"T_742da_row5_col22\" class=\"data row5 col22\" >-0.023082</td>\n",
       "      <td id=\"T_742da_row5_col23\" class=\"data row5 col23\" >0.045116</td>\n",
       "      <td id=\"T_742da_row5_col24\" class=\"data row5 col24\" >-0.012634</td>\n",
       "      <td id=\"T_742da_row5_col25\" class=\"data row5 col25\" >-0.022496</td>\n",
       "      <td id=\"T_742da_row5_col26\" class=\"data row5 col26\" >-0.010314</td>\n",
       "      <td id=\"T_742da_row5_col27\" class=\"data row5 col27\" >-0.013646</td>\n",
       "      <td id=\"T_742da_row5_col28\" class=\"data row5 col28\" >-0.011532</td>\n",
       "      <td id=\"T_742da_row5_col29\" class=\"data row5 col29\" >-0.007293</td>\n",
       "      <td id=\"T_742da_row5_col30\" class=\"data row5 col30\" >-0.010314</td>\n",
       "      <td id=\"T_742da_row5_col31\" class=\"data row5 col31\" >-0.005156</td>\n",
       "      <td id=\"T_742da_row5_col32\" class=\"data row5 col32\" >-0.007293</td>\n",
       "      <td id=\"T_742da_row5_col33\" class=\"data row5 col33\" >-0.006503</td>\n",
       "      <td id=\"T_742da_row5_col34\" class=\"data row5 col34\" >0.101557</td>\n",
       "      <td id=\"T_742da_row5_col35\" class=\"data row5 col35\" >0.026919</td>\n",
       "      <td id=\"T_742da_row5_col36\" class=\"data row5 col36\" >0.028742</td>\n",
       "      <td id=\"T_742da_row5_col37\" class=\"data row5 col37\" >-0.018886</td>\n",
       "      <td id=\"T_742da_row5_col38\" class=\"data row5 col38\" >0.091946</td>\n",
       "      <td id=\"T_742da_row5_col39\" class=\"data row5 col39\" >-0.028182</td>\n",
       "      <td id=\"T_742da_row5_col40\" class=\"data row5 col40\" >0.014852</td>\n",
       "    </tr>\n",
       "    <tr>\n",
       "      <th id=\"T_742da_level0_row6\" class=\"row_heading level0 row6\" >Sports</th>\n",
       "      <td id=\"T_742da_row6_col0\" class=\"data row6 col0\" >-0.004099</td>\n",
       "      <td id=\"T_742da_row6_col1\" class=\"data row6 col1\" >0.169218</td>\n",
       "      <td id=\"T_742da_row6_col2\" class=\"data row6 col2\" >-0.003237</td>\n",
       "      <td id=\"T_742da_row6_col3\" class=\"data row6 col3\" >-0.002915</td>\n",
       "      <td id=\"T_742da_row6_col4\" class=\"data row6 col4\" >-0.118457</td>\n",
       "      <td id=\"T_742da_row6_col5\" class=\"data row6 col5\" >-0.005041</td>\n",
       "      <td id=\"T_742da_row6_col6\" class=\"data row6 col6\" >1.000000</td>\n",
       "      <td id=\"T_742da_row6_col7\" class=\"data row6 col7\" >0.025123</td>\n",
       "      <td id=\"T_742da_row6_col8\" class=\"data row6 col8\" >-0.032977</td>\n",
       "      <td id=\"T_742da_row6_col9\" class=\"data row6 col9\" >0.024799</td>\n",
       "      <td id=\"T_742da_row6_col10\" class=\"data row6 col10\" >-0.006366</td>\n",
       "      <td id=\"T_742da_row6_col11\" class=\"data row6 col11\" >0.159495</td>\n",
       "      <td id=\"T_742da_row6_col12\" class=\"data row6 col12\" >0.279322</td>\n",
       "      <td id=\"T_742da_row6_col13\" class=\"data row6 col13\" >-0.003248</td>\n",
       "      <td id=\"T_742da_row6_col14\" class=\"data row6 col14\" >-0.070952</td>\n",
       "      <td id=\"T_742da_row6_col15\" class=\"data row6 col15\" >-0.013022</td>\n",
       "      <td id=\"T_742da_row6_col16\" class=\"data row6 col16\" >-0.011281</td>\n",
       "      <td id=\"T_742da_row6_col17\" class=\"data row6 col17\" >0.019759</td>\n",
       "      <td id=\"T_742da_row6_col18\" class=\"data row6 col18\" >-0.002652</td>\n",
       "      <td id=\"T_742da_row6_col19\" class=\"data row6 col19\" >-0.012885</td>\n",
       "      <td id=\"T_742da_row6_col20\" class=\"data row6 col20\" >-0.006223</td>\n",
       "      <td id=\"T_742da_row6_col21\" class=\"data row6 col21\" >-0.006223</td>\n",
       "      <td id=\"T_742da_row6_col22\" class=\"data row6 col22\" >-0.008394</td>\n",
       "      <td id=\"T_742da_row6_col23\" class=\"data row6 col23\" >0.018868</td>\n",
       "      <td id=\"T_742da_row6_col24\" class=\"data row6 col24\" >-0.004594</td>\n",
       "      <td id=\"T_742da_row6_col25\" class=\"data row6 col25\" >-0.008181</td>\n",
       "      <td id=\"T_742da_row6_col26\" class=\"data row6 col26\" >-0.003751</td>\n",
       "      <td id=\"T_742da_row6_col27\" class=\"data row6 col27\" >-0.004963</td>\n",
       "      <td id=\"T_742da_row6_col28\" class=\"data row6 col28\" >-0.004194</td>\n",
       "      <td id=\"T_742da_row6_col29\" class=\"data row6 col29\" >-0.002652</td>\n",
       "      <td id=\"T_742da_row6_col30\" class=\"data row6 col30\" >-0.003751</td>\n",
       "      <td id=\"T_742da_row6_col31\" class=\"data row6 col31\" >-0.001875</td>\n",
       "      <td id=\"T_742da_row6_col32\" class=\"data row6 col32\" >-0.002652</td>\n",
       "      <td id=\"T_742da_row6_col33\" class=\"data row6 col33\" >-0.020060</td>\n",
       "      <td id=\"T_742da_row6_col34\" class=\"data row6 col34\" >0.173799</td>\n",
       "      <td id=\"T_742da_row6_col35\" class=\"data row6 col35\" >0.040062</td>\n",
       "      <td id=\"T_742da_row6_col36\" class=\"data row6 col36\" >0.000595</td>\n",
       "      <td id=\"T_742da_row6_col37\" class=\"data row6 col37\" >0.007885</td>\n",
       "      <td id=\"T_742da_row6_col38\" class=\"data row6 col38\" >0.175818</td>\n",
       "      <td id=\"T_742da_row6_col39\" class=\"data row6 col39\" >0.013718</td>\n",
       "      <td id=\"T_742da_row6_col40\" class=\"data row6 col40\" >0.021465</td>\n",
       "    </tr>\n",
       "    <tr>\n",
       "      <th id=\"T_742da_level0_row7\" class=\"row_heading level0 row7\" >Casual</th>\n",
       "      <td id=\"T_742da_row7_col0\" class=\"data row7 col0\" >-0.039460</td>\n",
       "      <td id=\"T_742da_row7_col1\" class=\"data row7 col1\" >0.287020</td>\n",
       "      <td id=\"T_742da_row7_col2\" class=\"data row7 col2\" >-0.038554</td>\n",
       "      <td id=\"T_742da_row7_col3\" class=\"data row7 col3\" >-0.183358</td>\n",
       "      <td id=\"T_742da_row7_col4\" class=\"data row7 col4\" >0.005727</td>\n",
       "      <td id=\"T_742da_row7_col5\" class=\"data row7 col5\" >-0.031046</td>\n",
       "      <td id=\"T_742da_row7_col6\" class=\"data row7 col6\" >0.025123</td>\n",
       "      <td id=\"T_742da_row7_col7\" class=\"data row7 col7\" >1.000000</td>\n",
       "      <td id=\"T_742da_row7_col8\" class=\"data row7 col8\" >0.086062</td>\n",
       "      <td id=\"T_742da_row7_col9\" class=\"data row7 col9\" >-0.020343</td>\n",
       "      <td id=\"T_742da_row7_col10\" class=\"data row7 col10\" >-0.026025</td>\n",
       "      <td id=\"T_742da_row7_col11\" class=\"data row7 col11\" >0.062207</td>\n",
       "      <td id=\"T_742da_row7_col12\" class=\"data row7 col12\" >-0.010976</td>\n",
       "      <td id=\"T_742da_row7_col13\" class=\"data row7 col13\" >-0.012186</td>\n",
       "      <td id=\"T_742da_row7_col14\" class=\"data row7 col14\" >-0.143672</td>\n",
       "      <td id=\"T_742da_row7_col15\" class=\"data row7 col15\" >0.045677</td>\n",
       "      <td id=\"T_742da_row7_col16\" class=\"data row7 col16\" >-0.016247</td>\n",
       "      <td id=\"T_742da_row7_col17\" class=\"data row7 col17\" >-0.033138</td>\n",
       "      <td id=\"T_742da_row7_col18\" class=\"data row7 col18\" >-0.009949</td>\n",
       "      <td id=\"T_742da_row7_col19\" class=\"data row7 col19\" >0.025617</td>\n",
       "      <td id=\"T_742da_row7_col20\" class=\"data row7 col20\" >-0.010627</td>\n",
       "      <td id=\"T_742da_row7_col21\" class=\"data row7 col21\" >-0.016985</td>\n",
       "      <td id=\"T_742da_row7_col22\" class=\"data row7 col22\" >-0.022055</td>\n",
       "      <td id=\"T_742da_row7_col23\" class=\"data row7 col23\" >-0.048547</td>\n",
       "      <td id=\"T_742da_row7_col24\" class=\"data row7 col24\" >-0.017236</td>\n",
       "      <td id=\"T_742da_row7_col25\" class=\"data row7 col25\" >-0.025851</td>\n",
       "      <td id=\"T_742da_row7_col26\" class=\"data row7 col26\" >-0.014072</td>\n",
       "      <td id=\"T_742da_row7_col27\" class=\"data row7 col27\" >-0.010649</td>\n",
       "      <td id=\"T_742da_row7_col28\" class=\"data row7 col28\" >-0.015733</td>\n",
       "      <td id=\"T_742da_row7_col29\" class=\"data row7 col29\" >-0.009949</td>\n",
       "      <td id=\"T_742da_row7_col30\" class=\"data row7 col30\" >-0.014072</td>\n",
       "      <td id=\"T_742da_row7_col31\" class=\"data row7 col31\" >-0.007035</td>\n",
       "      <td id=\"T_742da_row7_col32\" class=\"data row7 col32\" >-0.009949</td>\n",
       "      <td id=\"T_742da_row7_col33\" class=\"data row7 col33\" >0.076195</td>\n",
       "      <td id=\"T_742da_row7_col34\" class=\"data row7 col34\" >-0.135733</td>\n",
       "      <td id=\"T_742da_row7_col35\" class=\"data row7 col35\" >-0.096468</td>\n",
       "      <td id=\"T_742da_row7_col36\" class=\"data row7 col36\" >-0.058021</td>\n",
       "      <td id=\"T_742da_row7_col37\" class=\"data row7 col37\" >-0.032098</td>\n",
       "      <td id=\"T_742da_row7_col38\" class=\"data row7 col38\" >-0.061871</td>\n",
       "      <td id=\"T_742da_row7_col39\" class=\"data row7 col39\" >-0.040432</td>\n",
       "      <td id=\"T_742da_row7_col40\" class=\"data row7 col40\" >-0.044829</td>\n",
       "    </tr>\n",
       "    <tr>\n",
       "      <th id=\"T_742da_level0_row8\" class=\"row_heading level0 row8\" >Indie</th>\n",
       "      <td id=\"T_742da_row8_col0\" class=\"data row8 col0\" >-0.057471</td>\n",
       "      <td id=\"T_742da_row8_col1\" class=\"data row8 col1\" >0.395444</td>\n",
       "      <td id=\"T_742da_row8_col2\" class=\"data row8 col2\" >-0.119087</td>\n",
       "      <td id=\"T_742da_row8_col3\" class=\"data row8 col3\" >0.081973</td>\n",
       "      <td id=\"T_742da_row8_col4\" class=\"data row8 col4\" >0.072737</td>\n",
       "      <td id=\"T_742da_row8_col5\" class=\"data row8 col5\" >-0.010295</td>\n",
       "      <td id=\"T_742da_row8_col6\" class=\"data row8 col6\" >-0.032977</td>\n",
       "      <td id=\"T_742da_row8_col7\" class=\"data row8 col7\" >0.086062</td>\n",
       "      <td id=\"T_742da_row8_col8\" class=\"data row8 col8\" >1.000000</td>\n",
       "      <td id=\"T_742da_row8_col9\" class=\"data row8 col9\" >-0.136058</td>\n",
       "      <td id=\"T_742da_row8_col10\" class=\"data row8 col10\" >0.013155</td>\n",
       "      <td id=\"T_742da_row8_col11\" class=\"data row8 col11\" >0.003538</td>\n",
       "      <td id=\"T_742da_row8_col12\" class=\"data row8 col12\" >-0.034824</td>\n",
       "      <td id=\"T_742da_row8_col13\" class=\"data row8 col13\" >-0.029077</td>\n",
       "      <td id=\"T_742da_row8_col14\" class=\"data row8 col14\" >-0.022720</td>\n",
       "      <td id=\"T_742da_row8_col15\" class=\"data row8 col15\" >-0.001771</td>\n",
       "      <td id=\"T_742da_row8_col16\" class=\"data row8 col16\" >0.024353</td>\n",
       "      <td id=\"T_742da_row8_col17\" class=\"data row8 col17\" >0.050289</td>\n",
       "      <td id=\"T_742da_row8_col18\" class=\"data row8 col18\" >-0.023740</td>\n",
       "      <td id=\"T_742da_row8_col19\" class=\"data row8 col19\" >-0.012594</td>\n",
       "      <td id=\"T_742da_row8_col20\" class=\"data row8 col20\" >-0.048861</td>\n",
       "      <td id=\"T_742da_row8_col21\" class=\"data row8 col21\" >-0.048861</td>\n",
       "      <td id=\"T_742da_row8_col22\" class=\"data row8 col22\" >-0.070066</td>\n",
       "      <td id=\"T_742da_row8_col23\" class=\"data row8 col23\" >-0.098014</td>\n",
       "      <td id=\"T_742da_row8_col24\" class=\"data row8 col24\" >-0.041127</td>\n",
       "      <td id=\"T_742da_row8_col25\" class=\"data row8 col25\" >-0.068028</td>\n",
       "      <td id=\"T_742da_row8_col26\" class=\"data row8 col26\" >-0.033577</td>\n",
       "      <td id=\"T_742da_row8_col27\" class=\"data row8 col27\" >-0.035853</td>\n",
       "      <td id=\"T_742da_row8_col28\" class=\"data row8 col28\" >-0.037542</td>\n",
       "      <td id=\"T_742da_row8_col29\" class=\"data row8 col29\" >-0.023740</td>\n",
       "      <td id=\"T_742da_row8_col30\" class=\"data row8 col30\" >-0.033577</td>\n",
       "      <td id=\"T_742da_row8_col31\" class=\"data row8 col31\" >-0.016786</td>\n",
       "      <td id=\"T_742da_row8_col32\" class=\"data row8 col32\" >-0.023740</td>\n",
       "      <td id=\"T_742da_row8_col33\" class=\"data row8 col33\" >0.119814</td>\n",
       "      <td id=\"T_742da_row8_col34\" class=\"data row8 col34\" >-0.117743</td>\n",
       "      <td id=\"T_742da_row8_col35\" class=\"data row8 col35\" >-0.030474</td>\n",
       "      <td id=\"T_742da_row8_col36\" class=\"data row8 col36\" >-0.106018</td>\n",
       "      <td id=\"T_742da_row8_col37\" class=\"data row8 col37\" >0.017371</td>\n",
       "      <td id=\"T_742da_row8_col38\" class=\"data row8 col38\" >-0.070410</td>\n",
       "      <td id=\"T_742da_row8_col39\" class=\"data row8 col39\" >-0.054619</td>\n",
       "      <td id=\"T_742da_row8_col40\" class=\"data row8 col40\" >0.076072</td>\n",
       "    </tr>\n",
       "    <tr>\n",
       "      <th id=\"T_742da_level0_row9\" class=\"row_heading level0 row9\" >Free to Play</th>\n",
       "      <td id=\"T_742da_row9_col0\" class=\"data row9 col0\" >0.032844</td>\n",
       "      <td id=\"T_742da_row9_col1\" class=\"data row9 col1\" >0.220094</td>\n",
       "      <td id=\"T_742da_row9_col2\" class=\"data row9 col2\" >0.008968</td>\n",
       "      <td id=\"T_742da_row9_col3\" class=\"data row9 col3\" >0.014234</td>\n",
       "      <td id=\"T_742da_row9_col4\" class=\"data row9 col4\" >-0.081833</td>\n",
       "      <td id=\"T_742da_row9_col5\" class=\"data row9 col5\" >0.083721</td>\n",
       "      <td id=\"T_742da_row9_col6\" class=\"data row9 col6\" >0.024799</td>\n",
       "      <td id=\"T_742da_row9_col7\" class=\"data row9 col7\" >-0.020343</td>\n",
       "      <td id=\"T_742da_row9_col8\" class=\"data row9 col8\" >-0.136058</td>\n",
       "      <td id=\"T_742da_row9_col9\" class=\"data row9 col9\" >1.000000</td>\n",
       "      <td id=\"T_742da_row9_col10\" class=\"data row9 col10\" >0.000572</td>\n",
       "      <td id=\"T_742da_row9_col11\" class=\"data row9 col11\" >-0.007767</td>\n",
       "      <td id=\"T_742da_row9_col12\" class=\"data row9 col12\" >0.002342</td>\n",
       "      <td id=\"T_742da_row9_col13\" class=\"data row9 col13\" >-0.003820</td>\n",
       "      <td id=\"T_742da_row9_col14\" class=\"data row9 col14\" >0.072678</td>\n",
       "      <td id=\"T_742da_row9_col15\" class=\"data row9 col15\" >-0.008514</td>\n",
       "      <td id=\"T_742da_row9_col16\" class=\"data row9 col16\" >-0.004846</td>\n",
       "      <td id=\"T_742da_row9_col17\" class=\"data row9 col17\" >0.072646</td>\n",
       "      <td id=\"T_742da_row9_col18\" class=\"data row9 col18\" >-0.003119</td>\n",
       "      <td id=\"T_742da_row9_col19\" class=\"data row9 col19\" >-0.015153</td>\n",
       "      <td id=\"T_742da_row9_col20\" class=\"data row9 col20\" >-0.007317</td>\n",
       "      <td id=\"T_742da_row9_col21\" class=\"data row9 col21\" >0.006861</td>\n",
       "      <td id=\"T_742da_row9_col22\" class=\"data row9 col22\" >-0.009871</td>\n",
       "      <td id=\"T_742da_row9_col23\" class=\"data row9 col23\" >0.458275</td>\n",
       "      <td id=\"T_742da_row9_col24\" class=\"data row9 col24\" >-0.005403</td>\n",
       "      <td id=\"T_742da_row9_col25\" class=\"data row9 col25\" >-0.009621</td>\n",
       "      <td id=\"T_742da_row9_col26\" class=\"data row9 col26\" >-0.004411</td>\n",
       "      <td id=\"T_742da_row9_col27\" class=\"data row9 col27\" >-0.005836</td>\n",
       "      <td id=\"T_742da_row9_col28\" class=\"data row9 col28\" >-0.004932</td>\n",
       "      <td id=\"T_742da_row9_col29\" class=\"data row9 col29\" >-0.003119</td>\n",
       "      <td id=\"T_742da_row9_col30\" class=\"data row9 col30\" >-0.004411</td>\n",
       "      <td id=\"T_742da_row9_col31\" class=\"data row9 col31\" >-0.002205</td>\n",
       "      <td id=\"T_742da_row9_col32\" class=\"data row9 col32\" >-0.003119</td>\n",
       "      <td id=\"T_742da_row9_col33\" class=\"data row9 col33\" >-0.401683</td>\n",
       "      <td id=\"T_742da_row9_col34\" class=\"data row9 col34\" >0.245309</td>\n",
       "      <td id=\"T_742da_row9_col35\" class=\"data row9 col35\" >0.131875</td>\n",
       "      <td id=\"T_742da_row9_col36\" class=\"data row9 col36\" >0.476336</td>\n",
       "      <td id=\"T_742da_row9_col37\" class=\"data row9 col37\" >0.010089</td>\n",
       "      <td id=\"T_742da_row9_col38\" class=\"data row9 col38\" >0.202167</td>\n",
       "      <td id=\"T_742da_row9_col39\" class=\"data row9 col39\" >-0.009599</td>\n",
       "      <td id=\"T_742da_row9_col40\" class=\"data row9 col40\" >-0.078396</td>\n",
       "    </tr>\n",
       "    <tr>\n",
       "      <th id=\"T_742da_level0_row10\" class=\"row_heading level0 row10\" >Violent</th>\n",
       "      <td id=\"T_742da_row10_col0\" class=\"data row10 col0\" >-0.007237</td>\n",
       "      <td id=\"T_742da_row10_col1\" class=\"data row10 col1\" >0.176360</td>\n",
       "      <td id=\"T_742da_row10_col2\" class=\"data row10 col2\" >-0.016770</td>\n",
       "      <td id=\"T_742da_row10_col3\" class=\"data row10 col3\" >0.053470</td>\n",
       "      <td id=\"T_742da_row10_col4\" class=\"data row10 col4\" >0.029392</td>\n",
       "      <td id=\"T_742da_row10_col5\" class=\"data row10 col5\" >-0.020807</td>\n",
       "      <td id=\"T_742da_row10_col6\" class=\"data row10 col6\" >-0.006366</td>\n",
       "      <td id=\"T_742da_row10_col7\" class=\"data row10 col7\" >-0.026025</td>\n",
       "      <td id=\"T_742da_row10_col8\" class=\"data row10 col8\" >0.013155</td>\n",
       "      <td id=\"T_742da_row10_col9\" class=\"data row10 col9\" >0.000572</td>\n",
       "      <td id=\"T_742da_row10_col10\" class=\"data row10 col10\" >1.000000</td>\n",
       "      <td id=\"T_742da_row10_col11\" class=\"data row10 col11\" >-0.000270</td>\n",
       "      <td id=\"T_742da_row10_col12\" class=\"data row10 col12\" >-0.011050</td>\n",
       "      <td id=\"T_742da_row10_col13\" class=\"data row10 col13\" >-0.001925</td>\n",
       "      <td id=\"T_742da_row10_col14\" class=\"data row10 col14\" >-0.014172</td>\n",
       "      <td id=\"T_742da_row10_col15\" class=\"data row10 col15\" >0.122496</td>\n",
       "      <td id=\"T_742da_row10_col16\" class=\"data row10 col16\" >0.620864</td>\n",
       "      <td id=\"T_742da_row10_col17\" class=\"data row10 col17\" >0.057289</td>\n",
       "      <td id=\"T_742da_row10_col18\" class=\"data row10 col18\" >-0.001572</td>\n",
       "      <td id=\"T_742da_row10_col19\" class=\"data row10 col19\" >0.137107</td>\n",
       "      <td id=\"T_742da_row10_col20\" class=\"data row10 col20\" >-0.003688</td>\n",
       "      <td id=\"T_742da_row10_col21\" class=\"data row10 col21\" >-0.003688</td>\n",
       "      <td id=\"T_742da_row10_col22\" class=\"data row10 col22\" >-0.004974</td>\n",
       "      <td id=\"T_742da_row10_col23\" class=\"data row10 col23\" >0.008873</td>\n",
       "      <td id=\"T_742da_row10_col24\" class=\"data row10 col24\" >-0.002723</td>\n",
       "      <td id=\"T_742da_row10_col25\" class=\"data row10 col25\" >0.015819</td>\n",
       "      <td id=\"T_742da_row10_col26\" class=\"data row10 col26\" >-0.002223</td>\n",
       "      <td id=\"T_742da_row10_col27\" class=\"data row10 col27\" >-0.002941</td>\n",
       "      <td id=\"T_742da_row10_col28\" class=\"data row10 col28\" >-0.002485</td>\n",
       "      <td id=\"T_742da_row10_col29\" class=\"data row10 col29\" >-0.001572</td>\n",
       "      <td id=\"T_742da_row10_col30\" class=\"data row10 col30\" >-0.002223</td>\n",
       "      <td id=\"T_742da_row10_col31\" class=\"data row10 col31\" >-0.001111</td>\n",
       "      <td id=\"T_742da_row10_col32\" class=\"data row10 col32\" >-0.001572</td>\n",
       "      <td id=\"T_742da_row10_col33\" class=\"data row10 col33\" >-0.010513</td>\n",
       "      <td id=\"T_742da_row10_col34\" class=\"data row10 col34\" >-0.019520</td>\n",
       "      <td id=\"T_742da_row10_col35\" class=\"data row10 col35\" >-0.015879</td>\n",
       "      <td id=\"T_742da_row10_col36\" class=\"data row10 col36\" >-0.010943</td>\n",
       "      <td id=\"T_742da_row10_col37\" class=\"data row10 col37\" >-0.011335</td>\n",
       "      <td id=\"T_742da_row10_col38\" class=\"data row10 col38\" >0.007067</td>\n",
       "      <td id=\"T_742da_row10_col39\" class=\"data row10 col39\" >-0.020652</td>\n",
       "      <td id=\"T_742da_row10_col40\" class=\"data row10 col40\" >-0.038167</td>\n",
       "    </tr>\n",
       "    <tr>\n",
       "      <th id=\"T_742da_level0_row11\" class=\"row_heading level0 row11\" >Simulation</th>\n",
       "      <td id=\"T_742da_row11_col0\" class=\"data row11 col0\" >0.002410</td>\n",
       "      <td id=\"T_742da_row11_col1\" class=\"data row11 col1\" >0.322757</td>\n",
       "      <td id=\"T_742da_row11_col2\" class=\"data row11 col2\" >-0.011676</td>\n",
       "      <td id=\"T_742da_row11_col3\" class=\"data row11 col3\" >-0.158527</td>\n",
       "      <td id=\"T_742da_row11_col4\" class=\"data row11 col4\" >-0.110439</td>\n",
       "      <td id=\"T_742da_row11_col5\" class=\"data row11 col5\" >0.188553</td>\n",
       "      <td id=\"T_742da_row11_col6\" class=\"data row11 col6\" >0.159495</td>\n",
       "      <td id=\"T_742da_row11_col7\" class=\"data row11 col7\" >0.062207</td>\n",
       "      <td id=\"T_742da_row11_col8\" class=\"data row11 col8\" >0.003538</td>\n",
       "      <td id=\"T_742da_row11_col9\" class=\"data row11 col9\" >-0.007767</td>\n",
       "      <td id=\"T_742da_row11_col10\" class=\"data row11 col10\" >-0.000270</td>\n",
       "      <td id=\"T_742da_row11_col11\" class=\"data row11 col11\" >1.000000</td>\n",
       "      <td id=\"T_742da_row11_col12\" class=\"data row11 col12\" >0.080240</td>\n",
       "      <td id=\"T_742da_row11_col13\" class=\"data row11 col13\" >-0.007762</td>\n",
       "      <td id=\"T_742da_row11_col14\" class=\"data row11 col14\" >-0.028906</td>\n",
       "      <td id=\"T_742da_row11_col15\" class=\"data row11 col15\" >0.011101</td>\n",
       "      <td id=\"T_742da_row11_col16\" class=\"data row11 col16\" >-0.023797</td>\n",
       "      <td id=\"T_742da_row11_col17\" class=\"data row11 col17\" >0.075440</td>\n",
       "      <td id=\"T_742da_row11_col18\" class=\"data row11 col18\" >-0.006337</td>\n",
       "      <td id=\"T_742da_row11_col19\" class=\"data row11 col19\" >0.007995</td>\n",
       "      <td id=\"T_742da_row11_col20\" class=\"data row11 col20\" >-0.014868</td>\n",
       "      <td id=\"T_742da_row11_col21\" class=\"data row11 col21\" >-0.014868</td>\n",
       "      <td id=\"T_742da_row11_col22\" class=\"data row11 col22\" >-0.020057</td>\n",
       "      <td id=\"T_742da_row11_col23\" class=\"data row11 col23\" >0.023970</td>\n",
       "      <td id=\"T_742da_row11_col24\" class=\"data row11 col24\" >-0.010978</td>\n",
       "      <td id=\"T_742da_row11_col25\" class=\"data row11 col25\" >-0.019548</td>\n",
       "      <td id=\"T_742da_row11_col26\" class=\"data row11 col26\" >-0.008963</td>\n",
       "      <td id=\"T_742da_row11_col27\" class=\"data row11 col27\" >-0.011858</td>\n",
       "      <td id=\"T_742da_row11_col28\" class=\"data row11 col28\" >-0.010021</td>\n",
       "      <td id=\"T_742da_row11_col29\" class=\"data row11 col29\" >-0.006337</td>\n",
       "      <td id=\"T_742da_row11_col30\" class=\"data row11 col30\" >-0.008963</td>\n",
       "      <td id=\"T_742da_row11_col31\" class=\"data row11 col31\" >-0.004481</td>\n",
       "      <td id=\"T_742da_row11_col32\" class=\"data row11 col32\" >-0.006337</td>\n",
       "      <td id=\"T_742da_row11_col33\" class=\"data row11 col33\" >0.030677</td>\n",
       "      <td id=\"T_742da_row11_col34\" class=\"data row11 col34\" >-0.009967</td>\n",
       "      <td id=\"T_742da_row11_col35\" class=\"data row11 col35\" >-0.023732</td>\n",
       "      <td id=\"T_742da_row11_col36\" class=\"data row11 col36\" >0.002647</td>\n",
       "      <td id=\"T_742da_row11_col37\" class=\"data row11 col37\" >0.022600</td>\n",
       "      <td id=\"T_742da_row11_col38\" class=\"data row11 col38\" >0.003591</td>\n",
       "      <td id=\"T_742da_row11_col39\" class=\"data row11 col39\" >-0.021276</td>\n",
       "      <td id=\"T_742da_row11_col40\" class=\"data row11 col40\" >-0.018370</td>\n",
       "    </tr>\n",
       "    <tr>\n",
       "      <th id=\"T_742da_level0_row12\" class=\"row_heading level0 row12\" >Racing</th>\n",
       "      <td id=\"T_742da_row12_col0\" class=\"data row12 col0\" >-0.003339</td>\n",
       "      <td id=\"T_742da_row12_col1\" class=\"data row12 col1\" >0.135559</td>\n",
       "      <td id=\"T_742da_row12_col2\" class=\"data row12 col2\" >-0.006279</td>\n",
       "      <td id=\"T_742da_row12_col3\" class=\"data row12 col3\" >0.044485</td>\n",
       "      <td id=\"T_742da_row12_col4\" class=\"data row12 col4\" >-0.083792</td>\n",
       "      <td id=\"T_742da_row12_col5\" class=\"data row12 col5\" >-0.065097</td>\n",
       "      <td id=\"T_742da_row12_col6\" class=\"data row12 col6\" >0.279322</td>\n",
       "      <td id=\"T_742da_row12_col7\" class=\"data row12 col7\" >-0.010976</td>\n",
       "      <td id=\"T_742da_row12_col8\" class=\"data row12 col8\" >-0.034824</td>\n",
       "      <td id=\"T_742da_row12_col9\" class=\"data row12 col9\" >0.002342</td>\n",
       "      <td id=\"T_742da_row12_col10\" class=\"data row12 col10\" >-0.011050</td>\n",
       "      <td id=\"T_742da_row12_col11\" class=\"data row12 col11\" >0.080240</td>\n",
       "      <td id=\"T_742da_row12_col12\" class=\"data row12 col12\" >1.000000</td>\n",
       "      <td id=\"T_742da_row12_col13\" class=\"data row12 col13\" >-0.003224</td>\n",
       "      <td id=\"T_742da_row12_col14\" class=\"data row12 col14\" >-0.074144</td>\n",
       "      <td id=\"T_742da_row12_col15\" class=\"data row12 col15\" >-0.012925</td>\n",
       "      <td id=\"T_742da_row12_col16\" class=\"data row12 col16\" >-0.017129</td>\n",
       "      <td id=\"T_742da_row12_col17\" class=\"data row12 col17\" >0.007896</td>\n",
       "      <td id=\"T_742da_row12_col18\" class=\"data row12 col18\" >-0.002632</td>\n",
       "      <td id=\"T_742da_row12_col19\" class=\"data row12 col19\" >-0.004758</td>\n",
       "      <td id=\"T_742da_row12_col20\" class=\"data row12 col20\" >-0.006176</td>\n",
       "      <td id=\"T_742da_row12_col21\" class=\"data row12 col21\" >-0.006176</td>\n",
       "      <td id=\"T_742da_row12_col22\" class=\"data row12 col22\" >-0.008332</td>\n",
       "      <td id=\"T_742da_row12_col23\" class=\"data row12 col23\" >0.019510</td>\n",
       "      <td id=\"T_742da_row12_col24\" class=\"data row12 col24\" >-0.004560</td>\n",
       "      <td id=\"T_742da_row12_col25\" class=\"data row12 col25\" >-0.008120</td>\n",
       "      <td id=\"T_742da_row12_col26\" class=\"data row12 col26\" >-0.003723</td>\n",
       "      <td id=\"T_742da_row12_col27\" class=\"data row12 col27\" >-0.004926</td>\n",
       "      <td id=\"T_742da_row12_col28\" class=\"data row12 col28\" >-0.004163</td>\n",
       "      <td id=\"T_742da_row12_col29\" class=\"data row12 col29\" >-0.002632</td>\n",
       "      <td id=\"T_742da_row12_col30\" class=\"data row12 col30\" >-0.003723</td>\n",
       "      <td id=\"T_742da_row12_col31\" class=\"data row12 col31\" >-0.001861</td>\n",
       "      <td id=\"T_742da_row12_col32\" class=\"data row12 col32\" >-0.002632</td>\n",
       "      <td id=\"T_742da_row12_col33\" class=\"data row12 col33\" >-0.001031</td>\n",
       "      <td id=\"T_742da_row12_col34\" class=\"data row12 col34\" >0.128684</td>\n",
       "      <td id=\"T_742da_row12_col35\" class=\"data row12 col35\" >0.001710</td>\n",
       "      <td id=\"T_742da_row12_col36\" class=\"data row12 col36\" >0.001013</td>\n",
       "      <td id=\"T_742da_row12_col37\" class=\"data row12 col37\" >0.019098</td>\n",
       "      <td id=\"T_742da_row12_col38\" class=\"data row12 col38\" >0.130681</td>\n",
       "      <td id=\"T_742da_row12_col39\" class=\"data row12 col39\" >-0.010136</td>\n",
       "      <td id=\"T_742da_row12_col40\" class=\"data row12 col40\" >0.007179</td>\n",
       "    </tr>\n",
       "    <tr>\n",
       "      <th id=\"T_742da_level0_row13\" class=\"row_heading level0 row13\" >Audio Production</th>\n",
       "      <td id=\"T_742da_row13_col0\" class=\"data row13 col0\" >-0.001174</td>\n",
       "      <td id=\"T_742da_row13_col1\" class=\"data row13 col1\" >0.002940</td>\n",
       "      <td id=\"T_742da_row13_col2\" class=\"data row13 col2\" >0.021729</td>\n",
       "      <td id=\"T_742da_row13_col3\" class=\"data row13 col3\" >-0.016318</td>\n",
       "      <td id=\"T_742da_row13_col4\" class=\"data row13 col4\" >-0.014716</td>\n",
       "      <td id=\"T_742da_row13_col5\" class=\"data row13 col5\" >-0.008932</td>\n",
       "      <td id=\"T_742da_row13_col6\" class=\"data row13 col6\" >-0.003248</td>\n",
       "      <td id=\"T_742da_row13_col7\" class=\"data row13 col7\" >-0.012186</td>\n",
       "      <td id=\"T_742da_row13_col8\" class=\"data row13 col8\" >-0.029077</td>\n",
       "      <td id=\"T_742da_row13_col9\" class=\"data row13 col9\" >-0.003820</td>\n",
       "      <td id=\"T_742da_row13_col10\" class=\"data row13 col10\" >-0.001925</td>\n",
       "      <td id=\"T_742da_row13_col11\" class=\"data row13 col11\" >-0.007762</td>\n",
       "      <td id=\"T_742da_row13_col12\" class=\"data row13 col12\" >-0.003224</td>\n",
       "      <td id=\"T_742da_row13_col13\" class=\"data row13 col13\" >1.000000</td>\n",
       "      <td id=\"T_742da_row13_col14\" class=\"data row13 col14\" >-0.008689</td>\n",
       "      <td id=\"T_742da_row13_col15\" class=\"data row13 col15\" >-0.001188</td>\n",
       "      <td id=\"T_742da_row13_col16\" class=\"data row13 col16\" >-0.001575</td>\n",
       "      <td id=\"T_742da_row13_col17\" class=\"data row13 col17\" >0.022620</td>\n",
       "      <td id=\"T_742da_row13_col18\" class=\"data row13 col18\" >-0.000242</td>\n",
       "      <td id=\"T_742da_row13_col19\" class=\"data row13 col19\" >-0.001176</td>\n",
       "      <td id=\"T_742da_row13_col20\" class=\"data row13 col20\" >0.173630</td>\n",
       "      <td id=\"T_742da_row13_col21\" class=\"data row13 col21\" >-0.000568</td>\n",
       "      <td id=\"T_742da_row13_col22\" class=\"data row13 col22\" >-0.000766</td>\n",
       "      <td id=\"T_742da_row13_col23\" class=\"data row13 col23\" >-0.003214</td>\n",
       "      <td id=\"T_742da_row13_col24\" class=\"data row13 col24\" >-0.000419</td>\n",
       "      <td id=\"T_742da_row13_col25\" class=\"data row13 col25\" >0.397045</td>\n",
       "      <td id=\"T_742da_row13_col26\" class=\"data row13 col26\" >-0.000342</td>\n",
       "      <td id=\"T_742da_row13_col27\" class=\"data row13 col27\" >-0.000453</td>\n",
       "      <td id=\"T_742da_row13_col28\" class=\"data row13 col28\" >-0.000383</td>\n",
       "      <td id=\"T_742da_row13_col29\" class=\"data row13 col29\" >-0.000242</td>\n",
       "      <td id=\"T_742da_row13_col30\" class=\"data row13 col30\" >0.288433</td>\n",
       "      <td id=\"T_742da_row13_col31\" class=\"data row13 col31\" >-0.000171</td>\n",
       "      <td id=\"T_742da_row13_col32\" class=\"data row13 col32\" >-0.000242</td>\n",
       "      <td id=\"T_742da_row13_col33\" class=\"data row13 col33\" >-0.074065</td>\n",
       "      <td id=\"T_742da_row13_col34\" class=\"data row13 col34\" >-0.010456</td>\n",
       "      <td id=\"T_742da_row13_col35\" class=\"data row13 col35\" >-0.006854</td>\n",
       "      <td id=\"T_742da_row13_col36\" class=\"data row13 col36\" >-0.002613</td>\n",
       "      <td id=\"T_742da_row13_col37\" class=\"data row13 col37\" >-0.001745</td>\n",
       "      <td id=\"T_742da_row13_col38\" class=\"data row13 col38\" >-0.006894</td>\n",
       "      <td id=\"T_742da_row13_col39\" class=\"data row13 col39\" >-0.003180</td>\n",
       "      <td id=\"T_742da_row13_col40\" class=\"data row13 col40\" >-0.004137</td>\n",
       "    </tr>\n",
       "    <tr>\n",
       "      <th id=\"T_742da_level0_row14\" class=\"row_heading level0 row14\" >RPG</th>\n",
       "      <td id=\"T_742da_row14_col0\" class=\"data row14 col0\" >0.008125</td>\n",
       "      <td id=\"T_742da_row14_col1\" class=\"data row14 col1\" >0.339014</td>\n",
       "      <td id=\"T_742da_row14_col2\" class=\"data row14 col2\" >-0.002915</td>\n",
       "      <td id=\"T_742da_row14_col3\" class=\"data row14 col3\" >-0.038607</td>\n",
       "      <td id=\"T_742da_row14_col4\" class=\"data row14 col4\" >0.118063</td>\n",
       "      <td id=\"T_742da_row14_col5\" class=\"data row14 col5\" >0.118467</td>\n",
       "      <td id=\"T_742da_row14_col6\" class=\"data row14 col6\" >-0.070952</td>\n",
       "      <td id=\"T_742da_row14_col7\" class=\"data row14 col7\" >-0.143672</td>\n",
       "      <td id=\"T_742da_row14_col8\" class=\"data row14 col8\" >-0.022720</td>\n",
       "      <td id=\"T_742da_row14_col9\" class=\"data row14 col9\" >0.072678</td>\n",
       "      <td id=\"T_742da_row14_col10\" class=\"data row14 col10\" >-0.014172</td>\n",
       "      <td id=\"T_742da_row14_col11\" class=\"data row14 col11\" >-0.028906</td>\n",
       "      <td id=\"T_742da_row14_col12\" class=\"data row14 col12\" >-0.074144</td>\n",
       "      <td id=\"T_742da_row14_col13\" class=\"data row14 col13\" >-0.008689</td>\n",
       "      <td id=\"T_742da_row14_col14\" class=\"data row14 col14\" >1.000000</td>\n",
       "      <td id=\"T_742da_row14_col15\" class=\"data row14 col15\" >-0.002657</td>\n",
       "      <td id=\"T_742da_row14_col16\" class=\"data row14 col16\" >-0.013673</td>\n",
       "      <td id=\"T_742da_row14_col17\" class=\"data row14 col17\" >0.040782</td>\n",
       "      <td id=\"T_742da_row14_col18\" class=\"data row14 col18\" >-0.007094</td>\n",
       "      <td id=\"T_742da_row14_col19\" class=\"data row14 col19\" >-0.001952</td>\n",
       "      <td id=\"T_742da_row14_col20\" class=\"data row14 col20\" >-0.016644</td>\n",
       "      <td id=\"T_742da_row14_col21\" class=\"data row14 col21\" >-0.016644</td>\n",
       "      <td id=\"T_742da_row14_col22\" class=\"data row14 col22\" >-0.022452</td>\n",
       "      <td id=\"T_742da_row14_col23\" class=\"data row14 col23\" >0.130380</td>\n",
       "      <td id=\"T_742da_row14_col24\" class=\"data row14 col24\" >-0.012289</td>\n",
       "      <td id=\"T_742da_row14_col25\" class=\"data row14 col25\" >-0.021883</td>\n",
       "      <td id=\"T_742da_row14_col26\" class=\"data row14 col26\" >-0.010033</td>\n",
       "      <td id=\"T_742da_row14_col27\" class=\"data row14 col27\" >-0.013275</td>\n",
       "      <td id=\"T_742da_row14_col28\" class=\"data row14 col28\" >-0.011218</td>\n",
       "      <td id=\"T_742da_row14_col29\" class=\"data row14 col29\" >-0.007094</td>\n",
       "      <td id=\"T_742da_row14_col30\" class=\"data row14 col30\" >-0.010033</td>\n",
       "      <td id=\"T_742da_row14_col31\" class=\"data row14 col31\" >-0.005016</td>\n",
       "      <td id=\"T_742da_row14_col32\" class=\"data row14 col32\" >-0.007094</td>\n",
       "      <td id=\"T_742da_row14_col33\" class=\"data row14 col33\" >-0.031905</td>\n",
       "      <td id=\"T_742da_row14_col34\" class=\"data row14 col34\" >-0.014799</td>\n",
       "      <td id=\"T_742da_row14_col35\" class=\"data row14 col35\" >0.050645</td>\n",
       "      <td id=\"T_742da_row14_col36\" class=\"data row14 col36\" >0.161742</td>\n",
       "      <td id=\"T_742da_row14_col37\" class=\"data row14 col37\" >-0.026692</td>\n",
       "      <td id=\"T_742da_row14_col38\" class=\"data row14 col38\" >-0.022041</td>\n",
       "      <td id=\"T_742da_row14_col39\" class=\"data row14 col39\" >0.015404</td>\n",
       "      <td id=\"T_742da_row14_col40\" class=\"data row14 col40\" >-0.003140</td>\n",
       "    </tr>\n",
       "    <tr>\n",
       "      <th id=\"T_742da_level0_row15\" class=\"row_heading level0 row15\" >Sexual Content</th>\n",
       "      <td id=\"T_742da_row15_col0\" class=\"data row15 col0\" >-0.003410</td>\n",
       "      <td id=\"T_742da_row15_col1\" class=\"data row15 col1\" >0.089395</td>\n",
       "      <td id=\"T_742da_row15_col2\" class=\"data row15 col2\" >-0.020702</td>\n",
       "      <td id=\"T_742da_row15_col3\" class=\"data row15 col3\" >-0.051019</td>\n",
       "      <td id=\"T_742da_row15_col4\" class=\"data row15 col4\" >0.002143</td>\n",
       "      <td id=\"T_742da_row15_col5\" class=\"data row15 col5\" >-0.021737</td>\n",
       "      <td id=\"T_742da_row15_col6\" class=\"data row15 col6\" >-0.013022</td>\n",
       "      <td id=\"T_742da_row15_col7\" class=\"data row15 col7\" >0.045677</td>\n",
       "      <td id=\"T_742da_row15_col8\" class=\"data row15 col8\" >-0.001771</td>\n",
       "      <td id=\"T_742da_row15_col9\" class=\"data row15 col9\" >-0.008514</td>\n",
       "      <td id=\"T_742da_row15_col10\" class=\"data row15 col10\" >0.122496</td>\n",
       "      <td id=\"T_742da_row15_col11\" class=\"data row15 col11\" >0.011101</td>\n",
       "      <td id=\"T_742da_row15_col12\" class=\"data row15 col12\" >-0.012925</td>\n",
       "      <td id=\"T_742da_row15_col13\" class=\"data row15 col13\" >-0.001188</td>\n",
       "      <td id=\"T_742da_row15_col14\" class=\"data row15 col14\" >-0.002657</td>\n",
       "      <td id=\"T_742da_row15_col15\" class=\"data row15 col15\" >1.000000</td>\n",
       "      <td id=\"T_742da_row15_col16\" class=\"data row15 col16\" >0.088798</td>\n",
       "      <td id=\"T_742da_row15_col17\" class=\"data row15 col17\" >-0.009050</td>\n",
       "      <td id=\"T_742da_row15_col18\" class=\"data row15 col18\" >-0.000970</td>\n",
       "      <td id=\"T_742da_row15_col19\" class=\"data row15 col19\" >0.566419</td>\n",
       "      <td id=\"T_742da_row15_col20\" class=\"data row15 col20\" >-0.002276</td>\n",
       "      <td id=\"T_742da_row15_col21\" class=\"data row15 col21\" >-0.002276</td>\n",
       "      <td id=\"T_742da_row15_col22\" class=\"data row15 col22\" >-0.003071</td>\n",
       "      <td id=\"T_742da_row15_col23\" class=\"data row15 col23\" >-0.004916</td>\n",
       "      <td id=\"T_742da_row15_col24\" class=\"data row15 col24\" >-0.001681</td>\n",
       "      <td id=\"T_742da_row15_col25\" class=\"data row15 col25\" >-0.002993</td>\n",
       "      <td id=\"T_742da_row15_col26\" class=\"data row15 col26\" >-0.001372</td>\n",
       "      <td id=\"T_742da_row15_col27\" class=\"data row15 col27\" >-0.001816</td>\n",
       "      <td id=\"T_742da_row15_col28\" class=\"data row15 col28\" >-0.001534</td>\n",
       "      <td id=\"T_742da_row15_col29\" class=\"data row15 col29\" >-0.000970</td>\n",
       "      <td id=\"T_742da_row15_col30\" class=\"data row15 col30\" >-0.001372</td>\n",
       "      <td id=\"T_742da_row15_col31\" class=\"data row15 col31\" >-0.000686</td>\n",
       "      <td id=\"T_742da_row15_col32\" class=\"data row15 col32\" >-0.000970</td>\n",
       "      <td id=\"T_742da_row15_col33\" class=\"data row15 col33\" >0.009524</td>\n",
       "      <td id=\"T_742da_row15_col34\" class=\"data row15 col34\" >-0.035436</td>\n",
       "      <td id=\"T_742da_row15_col35\" class=\"data row15 col35\" >-0.019108</td>\n",
       "      <td id=\"T_742da_row15_col36\" class=\"data row15 col36\" >-0.000785</td>\n",
       "      <td id=\"T_742da_row15_col37\" class=\"data row15 col37\" >-0.006997</td>\n",
       "      <td id=\"T_742da_row15_col38\" class=\"data row15 col38\" >-0.023471</td>\n",
       "      <td id=\"T_742da_row15_col39\" class=\"data row15 col39\" >-0.012748</td>\n",
       "      <td id=\"T_742da_row15_col40\" class=\"data row15 col40\" >-0.016584</td>\n",
       "    </tr>\n",
       "    <tr>\n",
       "      <th id=\"T_742da_level0_row16\" class=\"row_heading level0 row16\" >Gore</th>\n",
       "      <td id=\"T_742da_row16_col0\" class=\"data row16 col0\" >-0.005765</td>\n",
       "      <td id=\"T_742da_row16_col1\" class=\"data row16 col1\" >0.157206</td>\n",
       "      <td id=\"T_742da_row16_col2\" class=\"data row16 col2\" >-0.007024</td>\n",
       "      <td id=\"T_742da_row16_col3\" class=\"data row16 col3\" >0.028894</td>\n",
       "      <td id=\"T_742da_row16_col4\" class=\"data row16 col4\" >0.047485</td>\n",
       "      <td id=\"T_742da_row16_col5\" class=\"data row16 col5\" >-0.034134</td>\n",
       "      <td id=\"T_742da_row16_col6\" class=\"data row16 col6\" >-0.011281</td>\n",
       "      <td id=\"T_742da_row16_col7\" class=\"data row16 col7\" >-0.016247</td>\n",
       "      <td id=\"T_742da_row16_col8\" class=\"data row16 col8\" >0.024353</td>\n",
       "      <td id=\"T_742da_row16_col9\" class=\"data row16 col9\" >-0.004846</td>\n",
       "      <td id=\"T_742da_row16_col10\" class=\"data row16 col10\" >0.620864</td>\n",
       "      <td id=\"T_742da_row16_col11\" class=\"data row16 col11\" >-0.023797</td>\n",
       "      <td id=\"T_742da_row16_col12\" class=\"data row16 col12\" >-0.017129</td>\n",
       "      <td id=\"T_742da_row16_col13\" class=\"data row16 col13\" >-0.001575</td>\n",
       "      <td id=\"T_742da_row16_col14\" class=\"data row16 col14\" >-0.013673</td>\n",
       "      <td id=\"T_742da_row16_col15\" class=\"data row16 col15\" >0.088798</td>\n",
       "      <td id=\"T_742da_row16_col16\" class=\"data row16 col16\" >1.000000</td>\n",
       "      <td id=\"T_742da_row16_col17\" class=\"data row16 col17\" >0.049687</td>\n",
       "      <td id=\"T_742da_row16_col18\" class=\"data row16 col18\" >-0.001286</td>\n",
       "      <td id=\"T_742da_row16_col19\" class=\"data row16 col19\" >0.137923</td>\n",
       "      <td id=\"T_742da_row16_col20\" class=\"data row16 col20\" >-0.003017</td>\n",
       "      <td id=\"T_742da_row16_col21\" class=\"data row16 col21\" >-0.003017</td>\n",
       "      <td id=\"T_742da_row16_col22\" class=\"data row16 col22\" >-0.004070</td>\n",
       "      <td id=\"T_742da_row16_col23\" class=\"data row16 col23\" >0.001030</td>\n",
       "      <td id=\"T_742da_row16_col24\" class=\"data row16 col24\" >-0.002227</td>\n",
       "      <td id=\"T_742da_row16_col25\" class=\"data row16 col25\" >0.021193</td>\n",
       "      <td id=\"T_742da_row16_col26\" class=\"data row16 col26\" >-0.001818</td>\n",
       "      <td id=\"T_742da_row16_col27\" class=\"data row16 col27\" >-0.002406</td>\n",
       "      <td id=\"T_742da_row16_col28\" class=\"data row16 col28\" >-0.002033</td>\n",
       "      <td id=\"T_742da_row16_col29\" class=\"data row16 col29\" >-0.001286</td>\n",
       "      <td id=\"T_742da_row16_col30\" class=\"data row16 col30\" >-0.001818</td>\n",
       "      <td id=\"T_742da_row16_col31\" class=\"data row16 col31\" >-0.000909</td>\n",
       "      <td id=\"T_742da_row16_col32\" class=\"data row16 col32\" >-0.001286</td>\n",
       "      <td id=\"T_742da_row16_col33\" class=\"data row16 col33\" >0.001512</td>\n",
       "      <td id=\"T_742da_row16_col34\" class=\"data row16 col34\" >-0.018737</td>\n",
       "      <td id=\"T_742da_row16_col35\" class=\"data row16 col35\" >-0.014233</td>\n",
       "      <td id=\"T_742da_row16_col36\" class=\"data row16 col36\" >-0.013884</td>\n",
       "      <td id=\"T_742da_row16_col37\" class=\"data row16 col37\" >-0.009273</td>\n",
       "      <td id=\"T_742da_row16_col38\" class=\"data row16 col38\" >0.001238</td>\n",
       "      <td id=\"T_742da_row16_col39\" class=\"data row16 col39\" >-0.016895</td>\n",
       "      <td id=\"T_742da_row16_col40\" class=\"data row16 col40\" >-0.034877</td>\n",
       "    </tr>\n",
       "    <tr>\n",
       "      <th id=\"T_742da_level0_row17\" class=\"row_heading level0 row17\" >Early Access</th>\n",
       "      <td id=\"T_742da_row17_col0\" class=\"data row17 col0\" >-0.010249</td>\n",
       "      <td id=\"T_742da_row17_col1\" class=\"data row17 col1\" >0.282365</td>\n",
       "      <td id=\"T_742da_row17_col2\" class=\"data row17 col2\" >-0.024346</td>\n",
       "      <td id=\"T_742da_row17_col3\" class=\"data row17 col3\" >0.059763</td>\n",
       "      <td id=\"T_742da_row17_col4\" class=\"data row17 col4\" >-0.031661</td>\n",
       "      <td id=\"T_742da_row17_col5\" class=\"data row17 col5\" >0.039541</td>\n",
       "      <td id=\"T_742da_row17_col6\" class=\"data row17 col6\" >0.019759</td>\n",
       "      <td id=\"T_742da_row17_col7\" class=\"data row17 col7\" >-0.033138</td>\n",
       "      <td id=\"T_742da_row17_col8\" class=\"data row17 col8\" >0.050289</td>\n",
       "      <td id=\"T_742da_row17_col9\" class=\"data row17 col9\" >0.072646</td>\n",
       "      <td id=\"T_742da_row17_col10\" class=\"data row17 col10\" >0.057289</td>\n",
       "      <td id=\"T_742da_row17_col11\" class=\"data row17 col11\" >0.075440</td>\n",
       "      <td id=\"T_742da_row17_col12\" class=\"data row17 col12\" >0.007896</td>\n",
       "      <td id=\"T_742da_row17_col13\" class=\"data row17 col13\" >0.022620</td>\n",
       "      <td id=\"T_742da_row17_col14\" class=\"data row17 col14\" >0.040782</td>\n",
       "      <td id=\"T_742da_row17_col15\" class=\"data row17 col15\" >-0.009050</td>\n",
       "      <td id=\"T_742da_row17_col16\" class=\"data row17 col16\" >0.049687</td>\n",
       "      <td id=\"T_742da_row17_col17\" class=\"data row17 col17\" >1.000000</td>\n",
       "      <td id=\"T_742da_row17_col18\" class=\"data row17 col18\" >-0.003197</td>\n",
       "      <td id=\"T_742da_row17_col19\" class=\"data row17 col19\" >0.024780</td>\n",
       "      <td id=\"T_742da_row17_col20\" class=\"data row17 col20\" >-0.007501</td>\n",
       "      <td id=\"T_742da_row17_col21\" class=\"data row17 col21\" >-0.007501</td>\n",
       "      <td id=\"T_742da_row17_col22\" class=\"data row17 col22\" >-0.010120</td>\n",
       "      <td id=\"T_742da_row17_col23\" class=\"data row17 col23\" >0.086648</td>\n",
       "      <td id=\"T_742da_row17_col24\" class=\"data row17 col24\" >-0.005539</td>\n",
       "      <td id=\"T_742da_row17_col25\" class=\"data row17 col25\" >0.021796</td>\n",
       "      <td id=\"T_742da_row17_col26\" class=\"data row17 col26\" >-0.004522</td>\n",
       "      <td id=\"T_742da_row17_col27\" class=\"data row17 col27\" >-0.005983</td>\n",
       "      <td id=\"T_742da_row17_col28\" class=\"data row17 col28\" >-0.005056</td>\n",
       "      <td id=\"T_742da_row17_col29\" class=\"data row17 col29\" >-0.003197</td>\n",
       "      <td id=\"T_742da_row17_col30\" class=\"data row17 col30\" >-0.004522</td>\n",
       "      <td id=\"T_742da_row17_col31\" class=\"data row17 col31\" >-0.002261</td>\n",
       "      <td id=\"T_742da_row17_col32\" class=\"data row17 col32\" >-0.003197</td>\n",
       "      <td id=\"T_742da_row17_col33\" class=\"data row17 col33\" >-0.150087</td>\n",
       "      <td id=\"T_742da_row17_col34\" class=\"data row17 col34\" >0.123335</td>\n",
       "      <td id=\"T_742da_row17_col35\" class=\"data row17 col35\" >0.072930</td>\n",
       "      <td id=\"T_742da_row17_col36\" class=\"data row17 col36\" >0.048591</td>\n",
       "      <td id=\"T_742da_row17_col37\" class=\"data row17 col37\" >0.008800</td>\n",
       "      <td id=\"T_742da_row17_col38\" class=\"data row17 col38\" >0.123328</td>\n",
       "      <td id=\"T_742da_row17_col39\" class=\"data row17 col39\" >-0.029226</td>\n",
       "      <td id=\"T_742da_row17_col40\" class=\"data row17 col40\" >-0.078458</td>\n",
       "    </tr>\n",
       "    <tr>\n",
       "      <th id=\"T_742da_level0_row18\" class=\"row_heading level0 row18\" >Short</th>\n",
       "      <td id=\"T_742da_row18_col0\" class=\"data row18 col0\" >-0.001049</td>\n",
       "      <td id=\"T_742da_row18_col1\" class=\"data row18 col1\" >-0.020590</td>\n",
       "      <td id=\"T_742da_row18_col2\" class=\"data row18 col2\" >-0.004216</td>\n",
       "      <td id=\"T_742da_row18_col3\" class=\"data row18 col3\" >-0.013323</td>\n",
       "      <td id=\"T_742da_row18_col4\" class=\"data row18 col4\" >-0.012015</td>\n",
       "      <td id=\"T_742da_row18_col5\" class=\"data row18 col5\" >-0.007293</td>\n",
       "      <td id=\"T_742da_row18_col6\" class=\"data row18 col6\" >-0.002652</td>\n",
       "      <td id=\"T_742da_row18_col7\" class=\"data row18 col7\" >-0.009949</td>\n",
       "      <td id=\"T_742da_row18_col8\" class=\"data row18 col8\" >-0.023740</td>\n",
       "      <td id=\"T_742da_row18_col9\" class=\"data row18 col9\" >-0.003119</td>\n",
       "      <td id=\"T_742da_row18_col10\" class=\"data row18 col10\" >-0.001572</td>\n",
       "      <td id=\"T_742da_row18_col11\" class=\"data row18 col11\" >-0.006337</td>\n",
       "      <td id=\"T_742da_row18_col12\" class=\"data row18 col12\" >-0.002632</td>\n",
       "      <td id=\"T_742da_row18_col13\" class=\"data row18 col13\" >-0.000242</td>\n",
       "      <td id=\"T_742da_row18_col14\" class=\"data row18 col14\" >-0.007094</td>\n",
       "      <td id=\"T_742da_row18_col15\" class=\"data row18 col15\" >-0.000970</td>\n",
       "      <td id=\"T_742da_row18_col16\" class=\"data row18 col16\" >-0.001286</td>\n",
       "      <td id=\"T_742da_row18_col17\" class=\"data row18 col17\" >-0.003197</td>\n",
       "      <td id=\"T_742da_row18_col18\" class=\"data row18 col18\" >1.000000</td>\n",
       "      <td id=\"T_742da_row18_col19\" class=\"data row18 col19\" >-0.000960</td>\n",
       "      <td id=\"T_742da_row18_col20\" class=\"data row18 col20\" >-0.000464</td>\n",
       "      <td id=\"T_742da_row18_col21\" class=\"data row18 col21\" >-0.000464</td>\n",
       "      <td id=\"T_742da_row18_col22\" class=\"data row18 col22\" >-0.000625</td>\n",
       "      <td id=\"T_742da_row18_col23\" class=\"data row18 col23\" >-0.002624</td>\n",
       "      <td id=\"T_742da_row18_col24\" class=\"data row18 col24\" >-0.000342</td>\n",
       "      <td id=\"T_742da_row18_col25\" class=\"data row18 col25\" >-0.000610</td>\n",
       "      <td id=\"T_742da_row18_col26\" class=\"data row18 col26\" >-0.000279</td>\n",
       "      <td id=\"T_742da_row18_col27\" class=\"data row18 col27\" >-0.000370</td>\n",
       "      <td id=\"T_742da_row18_col28\" class=\"data row18 col28\" >-0.000312</td>\n",
       "      <td id=\"T_742da_row18_col29\" class=\"data row18 col29\" >-0.000198</td>\n",
       "      <td id=\"T_742da_row18_col30\" class=\"data row18 col30\" >-0.000279</td>\n",
       "      <td id=\"T_742da_row18_col31\" class=\"data row18 col31\" >-0.000140</td>\n",
       "      <td id=\"T_742da_row18_col32\" class=\"data row18 col32\" >-0.000198</td>\n",
       "      <td id=\"T_742da_row18_col33\" class=\"data row18 col33\" >-0.060471</td>\n",
       "      <td id=\"T_742da_row18_col34\" class=\"data row18 col34\" >-0.008537</td>\n",
       "      <td id=\"T_742da_row18_col35\" class=\"data row18 col35\" >-0.005596</td>\n",
       "      <td id=\"T_742da_row18_col36\" class=\"data row18 col36\" >-0.002134</td>\n",
       "      <td id=\"T_742da_row18_col37\" class=\"data row18 col37\" >-0.001425</td>\n",
       "      <td id=\"T_742da_row18_col38\" class=\"data row18 col38\" >-0.005629</td>\n",
       "      <td id=\"T_742da_row18_col39\" class=\"data row18 col39\" >-0.002596</td>\n",
       "      <td id=\"T_742da_row18_col40\" class=\"data row18 col40\" >-0.025581</td>\n",
       "    </tr>\n",
       "    <tr>\n",
       "      <th id=\"T_742da_level0_row19\" class=\"row_heading level0 row19\" >Nudity</th>\n",
       "      <td id=\"T_742da_row19_col0\" class=\"data row19 col0\" >-0.003397</td>\n",
       "      <td id=\"T_742da_row19_col1\" class=\"data row19 col1\" >0.098406</td>\n",
       "      <td id=\"T_742da_row19_col2\" class=\"data row19 col2\" >-0.020484</td>\n",
       "      <td id=\"T_742da_row19_col3\" class=\"data row19 col3\" >-0.026897</td>\n",
       "      <td id=\"T_742da_row19_col4\" class=\"data row19 col4\" >0.009292</td>\n",
       "      <td id=\"T_742da_row19_col5\" class=\"data row19 col5\" >-0.024767</td>\n",
       "      <td id=\"T_742da_row19_col6\" class=\"data row19 col6\" >-0.012885</td>\n",
       "      <td id=\"T_742da_row19_col7\" class=\"data row19 col7\" >0.025617</td>\n",
       "      <td id=\"T_742da_row19_col8\" class=\"data row19 col8\" >-0.012594</td>\n",
       "      <td id=\"T_742da_row19_col9\" class=\"data row19 col9\" >-0.015153</td>\n",
       "      <td id=\"T_742da_row19_col10\" class=\"data row19 col10\" >0.137107</td>\n",
       "      <td id=\"T_742da_row19_col11\" class=\"data row19 col11\" >0.007995</td>\n",
       "      <td id=\"T_742da_row19_col12\" class=\"data row19 col12\" >-0.004758</td>\n",
       "      <td id=\"T_742da_row19_col13\" class=\"data row19 col13\" >-0.001176</td>\n",
       "      <td id=\"T_742da_row19_col14\" class=\"data row19 col14\" >-0.001952</td>\n",
       "      <td id=\"T_742da_row19_col15\" class=\"data row19 col15\" >0.566419</td>\n",
       "      <td id=\"T_742da_row19_col16\" class=\"data row19 col16\" >0.137923</td>\n",
       "      <td id=\"T_742da_row19_col17\" class=\"data row19 col17\" >0.024780</td>\n",
       "      <td id=\"T_742da_row19_col18\" class=\"data row19 col18\" >-0.000960</td>\n",
       "      <td id=\"T_742da_row19_col19\" class=\"data row19 col19\" >1.000000</td>\n",
       "      <td id=\"T_742da_row19_col20\" class=\"data row19 col20\" >-0.002252</td>\n",
       "      <td id=\"T_742da_row19_col21\" class=\"data row19 col21\" >-0.002252</td>\n",
       "      <td id=\"T_742da_row19_col22\" class=\"data row19 col22\" >-0.003038</td>\n",
       "      <td id=\"T_742da_row19_col23\" class=\"data row19 col23\" >-0.012750</td>\n",
       "      <td id=\"T_742da_row19_col24\" class=\"data row19 col24\" >-0.001663</td>\n",
       "      <td id=\"T_742da_row19_col25\" class=\"data row19 col25\" >-0.002961</td>\n",
       "      <td id=\"T_742da_row19_col26\" class=\"data row19 col26\" >-0.001358</td>\n",
       "      <td id=\"T_742da_row19_col27\" class=\"data row19 col27\" >-0.001796</td>\n",
       "      <td id=\"T_742da_row19_col28\" class=\"data row19 col28\" >-0.001518</td>\n",
       "      <td id=\"T_742da_row19_col29\" class=\"data row19 col29\" >-0.000960</td>\n",
       "      <td id=\"T_742da_row19_col30\" class=\"data row19 col30\" >-0.001358</td>\n",
       "      <td id=\"T_742da_row19_col31\" class=\"data row19 col31\" >-0.000679</td>\n",
       "      <td id=\"T_742da_row19_col32\" class=\"data row19 col32\" >-0.000960</td>\n",
       "      <td id=\"T_742da_row19_col33\" class=\"data row19 col33\" >0.009286</td>\n",
       "      <td id=\"T_742da_row19_col34\" class=\"data row19 col34\" >-0.034927</td>\n",
       "      <td id=\"T_742da_row19_col35\" class=\"data row19 col35\" >-0.022960</td>\n",
       "      <td id=\"T_742da_row19_col36\" class=\"data row19 col36\" >-0.010366</td>\n",
       "      <td id=\"T_742da_row19_col37\" class=\"data row19 col37\" >-0.006924</td>\n",
       "      <td id=\"T_742da_row19_col38\" class=\"data row19 col38\" >-0.027347</td>\n",
       "      <td id=\"T_742da_row19_col39\" class=\"data row19 col39\" >-0.012614</td>\n",
       "      <td id=\"T_742da_row19_col40\" class=\"data row19 col40\" >-0.027885</td>\n",
       "    </tr>\n",
       "    <tr>\n",
       "      <th id=\"T_742da_level0_row20\" class=\"row_heading level0 row20\" >Animation & Modeling</th>\n",
       "      <td id=\"T_742da_row20_col0\" class=\"data row20 col0\" >0.015995</td>\n",
       "      <td id=\"T_742da_row20_col1\" class=\"data row20 col1\" >0.022795</td>\n",
       "      <td id=\"T_742da_row20_col2\" class=\"data row20 col2\" >-0.002867</td>\n",
       "      <td id=\"T_742da_row20_col3\" class=\"data row20 col3\" >-0.031260</td>\n",
       "      <td id=\"T_742da_row20_col4\" class=\"data row20 col4\" >-0.028190</td>\n",
       "      <td id=\"T_742da_row20_col5\" class=\"data row20 col5\" >-0.017110</td>\n",
       "      <td id=\"T_742da_row20_col6\" class=\"data row20 col6\" >-0.006223</td>\n",
       "      <td id=\"T_742da_row20_col7\" class=\"data row20 col7\" >-0.010627</td>\n",
       "      <td id=\"T_742da_row20_col8\" class=\"data row20 col8\" >-0.048861</td>\n",
       "      <td id=\"T_742da_row20_col9\" class=\"data row20 col9\" >-0.007317</td>\n",
       "      <td id=\"T_742da_row20_col10\" class=\"data row20 col10\" >-0.003688</td>\n",
       "      <td id=\"T_742da_row20_col11\" class=\"data row20 col11\" >-0.014868</td>\n",
       "      <td id=\"T_742da_row20_col12\" class=\"data row20 col12\" >-0.006176</td>\n",
       "      <td id=\"T_742da_row20_col13\" class=\"data row20 col13\" >0.173630</td>\n",
       "      <td id=\"T_742da_row20_col14\" class=\"data row20 col14\" >-0.016644</td>\n",
       "      <td id=\"T_742da_row20_col15\" class=\"data row20 col15\" >-0.002276</td>\n",
       "      <td id=\"T_742da_row20_col16\" class=\"data row20 col16\" >-0.003017</td>\n",
       "      <td id=\"T_742da_row20_col17\" class=\"data row20 col17\" >-0.007501</td>\n",
       "      <td id=\"T_742da_row20_col18\" class=\"data row20 col18\" >-0.000464</td>\n",
       "      <td id=\"T_742da_row20_col19\" class=\"data row20 col19\" >-0.002252</td>\n",
       "      <td id=\"T_742da_row20_col20\" class=\"data row20 col20\" >1.000000</td>\n",
       "      <td id=\"T_742da_row20_col21\" class=\"data row20 col21\" >-0.001088</td>\n",
       "      <td id=\"T_742da_row20_col22\" class=\"data row20 col22\" >0.606243</td>\n",
       "      <td id=\"T_742da_row20_col23\" class=\"data row20 col23\" >-0.006157</td>\n",
       "      <td id=\"T_742da_row20_col24\" class=\"data row20 col24\" >-0.000803</td>\n",
       "      <td id=\"T_742da_row20_col25\" class=\"data row20 col25\" >0.414214</td>\n",
       "      <td id=\"T_742da_row20_col26\" class=\"data row20 col26\" >0.150212</td>\n",
       "      <td id=\"T_742da_row20_col27\" class=\"data row20 col27\" >0.341318</td>\n",
       "      <td id=\"T_742da_row20_col28\" class=\"data row20 col28\" >0.269160</td>\n",
       "      <td id=\"T_742da_row20_col29\" class=\"data row20 col29\" >-0.000464</td>\n",
       "      <td id=\"T_742da_row20_col30\" class=\"data row20 col30\" >0.451947</td>\n",
       "      <td id=\"T_742da_row20_col31\" class=\"data row20 col31\" >-0.000328</td>\n",
       "      <td id=\"T_742da_row20_col32\" class=\"data row20 col32\" >0.212874</td>\n",
       "      <td id=\"T_742da_row20_col33\" class=\"data row20 col33\" >-0.128285</td>\n",
       "      <td id=\"T_742da_row20_col34\" class=\"data row20 col34\" >-0.020030</td>\n",
       "      <td id=\"T_742da_row20_col35\" class=\"data row20 col35\" >-0.013130</td>\n",
       "      <td id=\"T_742da_row20_col36\" class=\"data row20 col36\" >-0.005006</td>\n",
       "      <td id=\"T_742da_row20_col37\" class=\"data row20 col37\" >-0.003344</td>\n",
       "      <td id=\"T_742da_row20_col38\" class=\"data row20 col38\" >-0.013206</td>\n",
       "      <td id=\"T_742da_row20_col39\" class=\"data row20 col39\" >-0.006092</td>\n",
       "      <td id=\"T_742da_row20_col40\" class=\"data row20 col40\" >-0.017396</td>\n",
       "    </tr>\n",
       "    <tr>\n",
       "      <th id=\"T_742da_level0_row21\" class=\"row_heading level0 row21\" >Movie</th>\n",
       "      <td id=\"T_742da_row21_col0\" class=\"data row21 col0\" >-0.002189</td>\n",
       "      <td id=\"T_742da_row21_col1\" class=\"data row21 col1\" >-0.021339</td>\n",
       "      <td id=\"T_742da_row21_col2\" class=\"data row21 col2\" >0.011183</td>\n",
       "      <td id=\"T_742da_row21_col3\" class=\"data row21 col3\" >-0.025255</td>\n",
       "      <td id=\"T_742da_row21_col4\" class=\"data row21 col4\" >-0.022120</td>\n",
       "      <td id=\"T_742da_row21_col5\" class=\"data row21 col5\" >-0.009775</td>\n",
       "      <td id=\"T_742da_row21_col6\" class=\"data row21 col6\" >-0.006223</td>\n",
       "      <td id=\"T_742da_row21_col7\" class=\"data row21 col7\" >-0.016985</td>\n",
       "      <td id=\"T_742da_row21_col8\" class=\"data row21 col8\" >-0.048861</td>\n",
       "      <td id=\"T_742da_row21_col9\" class=\"data row21 col9\" >0.006861</td>\n",
       "      <td id=\"T_742da_row21_col10\" class=\"data row21 col10\" >-0.003688</td>\n",
       "      <td id=\"T_742da_row21_col11\" class=\"data row21 col11\" >-0.014868</td>\n",
       "      <td id=\"T_742da_row21_col12\" class=\"data row21 col12\" >-0.006176</td>\n",
       "      <td id=\"T_742da_row21_col13\" class=\"data row21 col13\" >-0.000568</td>\n",
       "      <td id=\"T_742da_row21_col14\" class=\"data row21 col14\" >-0.016644</td>\n",
       "      <td id=\"T_742da_row21_col15\" class=\"data row21 col15\" >-0.002276</td>\n",
       "      <td id=\"T_742da_row21_col16\" class=\"data row21 col16\" >-0.003017</td>\n",
       "      <td id=\"T_742da_row21_col17\" class=\"data row21 col17\" >-0.007501</td>\n",
       "      <td id=\"T_742da_row21_col18\" class=\"data row21 col18\" >-0.000464</td>\n",
       "      <td id=\"T_742da_row21_col19\" class=\"data row21 col19\" >-0.002252</td>\n",
       "      <td id=\"T_742da_row21_col20\" class=\"data row21 col20\" >-0.001088</td>\n",
       "      <td id=\"T_742da_row21_col21\" class=\"data row21 col21\" >1.000000</td>\n",
       "      <td id=\"T_742da_row21_col22\" class=\"data row21 col22\" >-0.001467</td>\n",
       "      <td id=\"T_742da_row21_col23\" class=\"data row21 col23\" >0.010462</td>\n",
       "      <td id=\"T_742da_row21_col24\" class=\"data row21 col24\" >0.491977</td>\n",
       "      <td id=\"T_742da_row21_col25\" class=\"data row21 col25\" >-0.001430</td>\n",
       "      <td id=\"T_742da_row21_col26\" class=\"data row21 col26\" >-0.000656</td>\n",
       "      <td id=\"T_742da_row21_col27\" class=\"data row21 col27\" >-0.000868</td>\n",
       "      <td id=\"T_742da_row21_col28\" class=\"data row21 col28\" >-0.000733</td>\n",
       "      <td id=\"T_742da_row21_col29\" class=\"data row21 col29\" >-0.000464</td>\n",
       "      <td id=\"T_742da_row21_col30\" class=\"data row21 col30\" >-0.000656</td>\n",
       "      <td id=\"T_742da_row21_col31\" class=\"data row21 col31\" >-0.000328</td>\n",
       "      <td id=\"T_742da_row21_col32\" class=\"data row21 col32\" >-0.000464</td>\n",
       "      <td id=\"T_742da_row21_col33\" class=\"data row21 col33\" >-0.128285</td>\n",
       "      <td id=\"T_742da_row21_col34\" class=\"data row21 col34\" >-0.013272</td>\n",
       "      <td id=\"T_742da_row21_col35\" class=\"data row21 col35\" >-0.004405</td>\n",
       "      <td id=\"T_742da_row21_col36\" class=\"data row21 col36\" >-0.005006</td>\n",
       "      <td id=\"T_742da_row21_col37\" class=\"data row21 col37\" >-0.003344</td>\n",
       "      <td id=\"T_742da_row21_col38\" class=\"data row21 col38\" >-0.004518</td>\n",
       "      <td id=\"T_742da_row21_col39\" class=\"data row21 col39\" >-0.006092</td>\n",
       "      <td id=\"T_742da_row21_col40\" class=\"data row21 col40\" >-0.052915</td>\n",
       "    </tr>\n",
       "    <tr>\n",
       "      <th id=\"T_742da_level0_row22\" class=\"row_heading level0 row22\" >Design & Illustration</th>\n",
       "      <td id=\"T_742da_row22_col0\" class=\"data row22 col0\" >0.011077</td>\n",
       "      <td id=\"T_742da_row22_col1\" class=\"data row22 col1\" >0.002140</td>\n",
       "      <td id=\"T_742da_row22_col2\" class=\"data row22 col2\" >0.023141</td>\n",
       "      <td id=\"T_742da_row22_col3\" class=\"data row22 col3\" >-0.042169</td>\n",
       "      <td id=\"T_742da_row22_col4\" class=\"data row22 col4\" >-0.038028</td>\n",
       "      <td id=\"T_742da_row22_col5\" class=\"data row22 col5\" >-0.023082</td>\n",
       "      <td id=\"T_742da_row22_col6\" class=\"data row22 col6\" >-0.008394</td>\n",
       "      <td id=\"T_742da_row22_col7\" class=\"data row22 col7\" >-0.022055</td>\n",
       "      <td id=\"T_742da_row22_col8\" class=\"data row22 col8\" >-0.070066</td>\n",
       "      <td id=\"T_742da_row22_col9\" class=\"data row22 col9\" >-0.009871</td>\n",
       "      <td id=\"T_742da_row22_col10\" class=\"data row22 col10\" >-0.004974</td>\n",
       "      <td id=\"T_742da_row22_col11\" class=\"data row22 col11\" >-0.020057</td>\n",
       "      <td id=\"T_742da_row22_col12\" class=\"data row22 col12\" >-0.008332</td>\n",
       "      <td id=\"T_742da_row22_col13\" class=\"data row22 col13\" >-0.000766</td>\n",
       "      <td id=\"T_742da_row22_col14\" class=\"data row22 col14\" >-0.022452</td>\n",
       "      <td id=\"T_742da_row22_col15\" class=\"data row22 col15\" >-0.003071</td>\n",
       "      <td id=\"T_742da_row22_col16\" class=\"data row22 col16\" >-0.004070</td>\n",
       "      <td id=\"T_742da_row22_col17\" class=\"data row22 col17\" >-0.010120</td>\n",
       "      <td id=\"T_742da_row22_col18\" class=\"data row22 col18\" >-0.000625</td>\n",
       "      <td id=\"T_742da_row22_col19\" class=\"data row22 col19\" >-0.003038</td>\n",
       "      <td id=\"T_742da_row22_col20\" class=\"data row22 col20\" >0.606243</td>\n",
       "      <td id=\"T_742da_row22_col21\" class=\"data row22 col21\" >-0.001467</td>\n",
       "      <td id=\"T_742da_row22_col22\" class=\"data row22 col22\" >1.000000</td>\n",
       "      <td id=\"T_742da_row22_col23\" class=\"data row22 col23\" >-0.008306</td>\n",
       "      <td id=\"T_742da_row22_col24\" class=\"data row22 col24\" >-0.001083</td>\n",
       "      <td id=\"T_742da_row22_col25\" class=\"data row22 col25\" >0.460652</td>\n",
       "      <td id=\"T_742da_row22_col26\" class=\"data row22 col26\" >0.334924</td>\n",
       "      <td id=\"T_742da_row22_col27\" class=\"data row22 col27\" >0.506599</td>\n",
       "      <td id=\"T_742da_row22_col28\" class=\"data row22 col28\" >0.399506</td>\n",
       "      <td id=\"T_742da_row22_col29\" class=\"data row22 col29\" >-0.000625</td>\n",
       "      <td id=\"T_742da_row22_col30\" class=\"data row22 col30\" >0.111052</td>\n",
       "      <td id=\"T_742da_row22_col31\" class=\"data row22 col31\" >-0.000442</td>\n",
       "      <td id=\"T_742da_row22_col32\" class=\"data row22 col32\" >0.315946</td>\n",
       "      <td id=\"T_742da_row22_col33\" class=\"data row22 col33\" >-0.161135</td>\n",
       "      <td id=\"T_742da_row22_col34\" class=\"data row22 col34\" >-0.027020</td>\n",
       "      <td id=\"T_742da_row22_col35\" class=\"data row22 col35\" >-0.017712</td>\n",
       "      <td id=\"T_742da_row22_col36\" class=\"data row22 col36\" >-0.006753</td>\n",
       "      <td id=\"T_742da_row22_col37\" class=\"data row22 col37\" >0.017657</td>\n",
       "      <td id=\"T_742da_row22_col38\" class=\"data row22 col38\" >-0.017815</td>\n",
       "      <td id=\"T_742da_row22_col39\" class=\"data row22 col39\" >-0.008218</td>\n",
       "      <td id=\"T_742da_row22_col40\" class=\"data row22 col40\" >-0.044071</td>\n",
       "    </tr>\n",
       "    <tr>\n",
       "      <th id=\"T_742da_level0_row23\" class=\"row_heading level0 row23\" >Massively Multiplayer</th>\n",
       "      <td id=\"T_742da_row23_col0\" class=\"data row23 col0\" >0.030859</td>\n",
       "      <td id=\"T_742da_row23_col1\" class=\"data row23 col1\" >0.276344</td>\n",
       "      <td id=\"T_742da_row23_col2\" class=\"data row23 col2\" >0.020971</td>\n",
       "      <td id=\"T_742da_row23_col3\" class=\"data row23 col3\" >0.059904</td>\n",
       "      <td id=\"T_742da_row23_col4\" class=\"data row23 col4\" >-0.015473</td>\n",
       "      <td id=\"T_742da_row23_col5\" class=\"data row23 col5\" >0.045116</td>\n",
       "      <td id=\"T_742da_row23_col6\" class=\"data row23 col6\" >0.018868</td>\n",
       "      <td id=\"T_742da_row23_col7\" class=\"data row23 col7\" >-0.048547</td>\n",
       "      <td id=\"T_742da_row23_col8\" class=\"data row23 col8\" >-0.098014</td>\n",
       "      <td id=\"T_742da_row23_col9\" class=\"data row23 col9\" >0.458275</td>\n",
       "      <td id=\"T_742da_row23_col10\" class=\"data row23 col10\" >0.008873</td>\n",
       "      <td id=\"T_742da_row23_col11\" class=\"data row23 col11\" >0.023970</td>\n",
       "      <td id=\"T_742da_row23_col12\" class=\"data row23 col12\" >0.019510</td>\n",
       "      <td id=\"T_742da_row23_col13\" class=\"data row23 col13\" >-0.003214</td>\n",
       "      <td id=\"T_742da_row23_col14\" class=\"data row23 col14\" >0.130380</td>\n",
       "      <td id=\"T_742da_row23_col15\" class=\"data row23 col15\" >-0.004916</td>\n",
       "      <td id=\"T_742da_row23_col16\" class=\"data row23 col16\" >0.001030</td>\n",
       "      <td id=\"T_742da_row23_col17\" class=\"data row23 col17\" >0.086648</td>\n",
       "      <td id=\"T_742da_row23_col18\" class=\"data row23 col18\" >-0.002624</td>\n",
       "      <td id=\"T_742da_row23_col19\" class=\"data row23 col19\" >-0.012750</td>\n",
       "      <td id=\"T_742da_row23_col20\" class=\"data row23 col20\" >-0.006157</td>\n",
       "      <td id=\"T_742da_row23_col21\" class=\"data row23 col21\" >0.010462</td>\n",
       "      <td id=\"T_742da_row23_col22\" class=\"data row23 col22\" >-0.008306</td>\n",
       "      <td id=\"T_742da_row23_col23\" class=\"data row23 col23\" >1.000000</td>\n",
       "      <td id=\"T_742da_row23_col24\" class=\"data row23 col24\" >-0.004546</td>\n",
       "      <td id=\"T_742da_row23_col25\" class=\"data row23 col25\" >-0.008096</td>\n",
       "      <td id=\"T_742da_row23_col26\" class=\"data row23 col26\" >-0.003712</td>\n",
       "      <td id=\"T_742da_row23_col27\" class=\"data row23 col27\" >-0.004911</td>\n",
       "      <td id=\"T_742da_row23_col28\" class=\"data row23 col28\" >-0.004150</td>\n",
       "      <td id=\"T_742da_row23_col29\" class=\"data row23 col29\" >-0.002624</td>\n",
       "      <td id=\"T_742da_row23_col30\" class=\"data row23 col30\" >-0.003712</td>\n",
       "      <td id=\"T_742da_row23_col31\" class=\"data row23 col31\" >-0.001856</td>\n",
       "      <td id=\"T_742da_row23_col32\" class=\"data row23 col32\" >-0.002624</td>\n",
       "      <td id=\"T_742da_row23_col33\" class=\"data row23 col33\" >-0.458086</td>\n",
       "      <td id=\"T_742da_row23_col34\" class=\"data row23 col34\" >0.280261</td>\n",
       "      <td id=\"T_742da_row23_col35\" class=\"data row23 col35\" >0.194934</td>\n",
       "      <td id=\"T_742da_row23_col36\" class=\"data row23 col36\" >0.768729</td>\n",
       "      <td id=\"T_742da_row23_col37\" class=\"data row23 col37\" >-0.002560</td>\n",
       "      <td id=\"T_742da_row23_col38\" class=\"data row23 col38\" >0.255238</td>\n",
       "      <td id=\"T_742da_row23_col39\" class=\"data row23 col39\" >-0.019158</td>\n",
       "      <td id=\"T_742da_row23_col40\" class=\"data row23 col40\" >-0.093288</td>\n",
       "    </tr>\n",
       "    <tr>\n",
       "      <th id=\"T_742da_level0_row24\" class=\"row_heading level0 row24\" >Documentary</th>\n",
       "      <td id=\"T_742da_row24_col0\" class=\"data row24 col0\" >-0.001632</td>\n",
       "      <td id=\"T_742da_row24_col1\" class=\"data row24 col1\" >-0.019075</td>\n",
       "      <td id=\"T_742da_row24_col2\" class=\"data row24 col2\" >0.011715</td>\n",
       "      <td id=\"T_742da_row24_col3\" class=\"data row24 col3\" >-0.023081</td>\n",
       "      <td id=\"T_742da_row24_col4\" class=\"data row24 col4\" >-0.020815</td>\n",
       "      <td id=\"T_742da_row24_col5\" class=\"data row24 col5\" >-0.012634</td>\n",
       "      <td id=\"T_742da_row24_col6\" class=\"data row24 col6\" >-0.004594</td>\n",
       "      <td id=\"T_742da_row24_col7\" class=\"data row24 col7\" >-0.017236</td>\n",
       "      <td id=\"T_742da_row24_col8\" class=\"data row24 col8\" >-0.041127</td>\n",
       "      <td id=\"T_742da_row24_col9\" class=\"data row24 col9\" >-0.005403</td>\n",
       "      <td id=\"T_742da_row24_col10\" class=\"data row24 col10\" >-0.002723</td>\n",
       "      <td id=\"T_742da_row24_col11\" class=\"data row24 col11\" >-0.010978</td>\n",
       "      <td id=\"T_742da_row24_col12\" class=\"data row24 col12\" >-0.004560</td>\n",
       "      <td id=\"T_742da_row24_col13\" class=\"data row24 col13\" >-0.000419</td>\n",
       "      <td id=\"T_742da_row24_col14\" class=\"data row24 col14\" >-0.012289</td>\n",
       "      <td id=\"T_742da_row24_col15\" class=\"data row24 col15\" >-0.001681</td>\n",
       "      <td id=\"T_742da_row24_col16\" class=\"data row24 col16\" >-0.002227</td>\n",
       "      <td id=\"T_742da_row24_col17\" class=\"data row24 col17\" >-0.005539</td>\n",
       "      <td id=\"T_742da_row24_col18\" class=\"data row24 col18\" >-0.000342</td>\n",
       "      <td id=\"T_742da_row24_col19\" class=\"data row24 col19\" >-0.001663</td>\n",
       "      <td id=\"T_742da_row24_col20\" class=\"data row24 col20\" >-0.000803</td>\n",
       "      <td id=\"T_742da_row24_col21\" class=\"data row24 col21\" >0.491977</td>\n",
       "      <td id=\"T_742da_row24_col22\" class=\"data row24 col22\" >-0.001083</td>\n",
       "      <td id=\"T_742da_row24_col23\" class=\"data row24 col23\" >-0.004546</td>\n",
       "      <td id=\"T_742da_row24_col24\" class=\"data row24 col24\" >1.000000</td>\n",
       "      <td id=\"T_742da_row24_col25\" class=\"data row24 col25\" >-0.001056</td>\n",
       "      <td id=\"T_742da_row24_col26\" class=\"data row24 col26\" >-0.000484</td>\n",
       "      <td id=\"T_742da_row24_col27\" class=\"data row24 col27\" >-0.000641</td>\n",
       "      <td id=\"T_742da_row24_col28\" class=\"data row24 col28\" >-0.000541</td>\n",
       "      <td id=\"T_742da_row24_col29\" class=\"data row24 col29\" >0.288447</td>\n",
       "      <td id=\"T_742da_row24_col30\" class=\"data row24 col30\" >-0.000484</td>\n",
       "      <td id=\"T_742da_row24_col31\" class=\"data row24 col31\" >-0.000242</td>\n",
       "      <td id=\"T_742da_row24_col32\" class=\"data row24 col32\" >-0.000342</td>\n",
       "      <td id=\"T_742da_row24_col33\" class=\"data row24 col33\" >-0.104759</td>\n",
       "      <td id=\"T_742da_row24_col34\" class=\"data row24 col34\" >-0.014789</td>\n",
       "      <td id=\"T_742da_row24_col35\" class=\"data row24 col35\" >-0.009694</td>\n",
       "      <td id=\"T_742da_row24_col36\" class=\"data row24 col36\" >-0.003696</td>\n",
       "      <td id=\"T_742da_row24_col37\" class=\"data row24 col37\" >-0.002469</td>\n",
       "      <td id=\"T_742da_row24_col38\" class=\"data row24 col38\" >-0.009751</td>\n",
       "      <td id=\"T_742da_row24_col39\" class=\"data row24 col39\" >-0.004498</td>\n",
       "      <td id=\"T_742da_row24_col40\" class=\"data row24 col40\" >-0.044316</td>\n",
       "    </tr>\n",
       "    <tr>\n",
       "      <th id=\"T_742da_level0_row25\" class=\"row_heading level0 row25\" >Utilities</th>\n",
       "      <td id=\"T_742da_row25_col0\" class=\"data row25 col0\" >0.011205</td>\n",
       "      <td id=\"T_742da_row25_col1\" class=\"data row25 col1\" >0.003672</td>\n",
       "      <td id=\"T_742da_row25_col2\" class=\"data row25 col2\" >0.013731</td>\n",
       "      <td id=\"T_742da_row25_col3\" class=\"data row25 col3\" >-0.041099</td>\n",
       "      <td id=\"T_742da_row25_col4\" class=\"data row25 col4\" >-0.037064</td>\n",
       "      <td id=\"T_742da_row25_col5\" class=\"data row25 col5\" >-0.022496</td>\n",
       "      <td id=\"T_742da_row25_col6\" class=\"data row25 col6\" >-0.008181</td>\n",
       "      <td id=\"T_742da_row25_col7\" class=\"data row25 col7\" >-0.025851</td>\n",
       "      <td id=\"T_742da_row25_col8\" class=\"data row25 col8\" >-0.068028</td>\n",
       "      <td id=\"T_742da_row25_col9\" class=\"data row25 col9\" >-0.009621</td>\n",
       "      <td id=\"T_742da_row25_col10\" class=\"data row25 col10\" >0.015819</td>\n",
       "      <td id=\"T_742da_row25_col11\" class=\"data row25 col11\" >-0.019548</td>\n",
       "      <td id=\"T_742da_row25_col12\" class=\"data row25 col12\" >-0.008120</td>\n",
       "      <td id=\"T_742da_row25_col13\" class=\"data row25 col13\" >0.397045</td>\n",
       "      <td id=\"T_742da_row25_col14\" class=\"data row25 col14\" >-0.021883</td>\n",
       "      <td id=\"T_742da_row25_col15\" class=\"data row25 col15\" >-0.002993</td>\n",
       "      <td id=\"T_742da_row25_col16\" class=\"data row25 col16\" >0.021193</td>\n",
       "      <td id=\"T_742da_row25_col17\" class=\"data row25 col17\" >0.021796</td>\n",
       "      <td id=\"T_742da_row25_col18\" class=\"data row25 col18\" >-0.000610</td>\n",
       "      <td id=\"T_742da_row25_col19\" class=\"data row25 col19\" >-0.002961</td>\n",
       "      <td id=\"T_742da_row25_col20\" class=\"data row25 col20\" >0.414214</td>\n",
       "      <td id=\"T_742da_row25_col21\" class=\"data row25 col21\" >-0.001430</td>\n",
       "      <td id=\"T_742da_row25_col22\" class=\"data row25 col22\" >0.460652</td>\n",
       "      <td id=\"T_742da_row25_col23\" class=\"data row25 col23\" >-0.008096</td>\n",
       "      <td id=\"T_742da_row25_col24\" class=\"data row25 col24\" >-0.001056</td>\n",
       "      <td id=\"T_742da_row25_col25\" class=\"data row25 col25\" >1.000000</td>\n",
       "      <td id=\"T_742da_row25_col26\" class=\"data row25 col26\" >0.228815</td>\n",
       "      <td id=\"T_742da_row25_col27\" class=\"data row25 col27\" >0.346149</td>\n",
       "      <td id=\"T_742da_row25_col28\" class=\"data row25 col28\" >0.101756</td>\n",
       "      <td id=\"T_742da_row25_col29\" class=\"data row25 col29\" >-0.000610</td>\n",
       "      <td id=\"T_742da_row25_col30\" class=\"data row25 col30\" >0.228815</td>\n",
       "      <td id=\"T_742da_row25_col31\" class=\"data row25 col31\" >-0.000431</td>\n",
       "      <td id=\"T_742da_row25_col32\" class=\"data row25 col32\" >0.324170</td>\n",
       "      <td id=\"T_742da_row25_col33\" class=\"data row25 col33\" >-0.134799</td>\n",
       "      <td id=\"T_742da_row25_col34\" class=\"data row25 col34\" >-0.026335</td>\n",
       "      <td id=\"T_742da_row25_col35\" class=\"data row25 col35\" >-0.017262</td>\n",
       "      <td id=\"T_742da_row25_col36\" class=\"data row25 col36\" >-0.006582</td>\n",
       "      <td id=\"T_742da_row25_col37\" class=\"data row25 col37\" >-0.004396</td>\n",
       "      <td id=\"T_742da_row25_col38\" class=\"data row25 col38\" >-0.017363</td>\n",
       "      <td id=\"T_742da_row25_col39\" class=\"data row25 col39\" >-0.008009</td>\n",
       "      <td id=\"T_742da_row25_col40\" class=\"data row25 col40\" >-0.019431</td>\n",
       "    </tr>\n",
       "    <tr>\n",
       "      <th id=\"T_742da_level0_row26\" class=\"row_heading level0 row26\" >Education</th>\n",
       "      <td id=\"T_742da_row26_col0\" class=\"data row26 col0\" >-0.001484</td>\n",
       "      <td id=\"T_742da_row26_col1\" class=\"data row26 col1\" >0.003395</td>\n",
       "      <td id=\"T_742da_row26_col2\" class=\"data row26 col2\" >-0.005963</td>\n",
       "      <td id=\"T_742da_row26_col3\" class=\"data row26 col3\" >-0.018844</td>\n",
       "      <td id=\"T_742da_row26_col4\" class=\"data row26 col4\" >-0.016993</td>\n",
       "      <td id=\"T_742da_row26_col5\" class=\"data row26 col5\" >-0.010314</td>\n",
       "      <td id=\"T_742da_row26_col6\" class=\"data row26 col6\" >-0.003751</td>\n",
       "      <td id=\"T_742da_row26_col7\" class=\"data row26 col7\" >-0.014072</td>\n",
       "      <td id=\"T_742da_row26_col8\" class=\"data row26 col8\" >-0.033577</td>\n",
       "      <td id=\"T_742da_row26_col9\" class=\"data row26 col9\" >-0.004411</td>\n",
       "      <td id=\"T_742da_row26_col10\" class=\"data row26 col10\" >-0.002223</td>\n",
       "      <td id=\"T_742da_row26_col11\" class=\"data row26 col11\" >-0.008963</td>\n",
       "      <td id=\"T_742da_row26_col12\" class=\"data row26 col12\" >-0.003723</td>\n",
       "      <td id=\"T_742da_row26_col13\" class=\"data row26 col13\" >-0.000342</td>\n",
       "      <td id=\"T_742da_row26_col14\" class=\"data row26 col14\" >-0.010033</td>\n",
       "      <td id=\"T_742da_row26_col15\" class=\"data row26 col15\" >-0.001372</td>\n",
       "      <td id=\"T_742da_row26_col16\" class=\"data row26 col16\" >-0.001818</td>\n",
       "      <td id=\"T_742da_row26_col17\" class=\"data row26 col17\" >-0.004522</td>\n",
       "      <td id=\"T_742da_row26_col18\" class=\"data row26 col18\" >-0.000279</td>\n",
       "      <td id=\"T_742da_row26_col19\" class=\"data row26 col19\" >-0.001358</td>\n",
       "      <td id=\"T_742da_row26_col20\" class=\"data row26 col20\" >0.150212</td>\n",
       "      <td id=\"T_742da_row26_col21\" class=\"data row26 col21\" >-0.000656</td>\n",
       "      <td id=\"T_742da_row26_col22\" class=\"data row26 col22\" >0.334924</td>\n",
       "      <td id=\"T_742da_row26_col23\" class=\"data row26 col23\" >-0.003712</td>\n",
       "      <td id=\"T_742da_row26_col24\" class=\"data row26 col24\" >-0.000484</td>\n",
       "      <td id=\"T_742da_row26_col25\" class=\"data row26 col25\" >0.228815</td>\n",
       "      <td id=\"T_742da_row26_col26\" class=\"data row26 col26\" >1.000000</td>\n",
       "      <td id=\"T_742da_row26_col27\" class=\"data row26 col27\" >-0.000523</td>\n",
       "      <td id=\"T_742da_row26_col28\" class=\"data row26 col28\" >-0.000442</td>\n",
       "      <td id=\"T_742da_row26_col29\" class=\"data row26 col29\" >-0.000279</td>\n",
       "      <td id=\"T_742da_row26_col30\" class=\"data row26 col30\" >-0.000395</td>\n",
       "      <td id=\"T_742da_row26_col31\" class=\"data row26 col31\" >0.499926</td>\n",
       "      <td id=\"T_742da_row26_col32\" class=\"data row26 col32\" >0.353379</td>\n",
       "      <td id=\"T_742da_row26_col33\" class=\"data row26 col33\" >-0.062990</td>\n",
       "      <td id=\"T_742da_row26_col34\" class=\"data row26 col34\" >-0.012074</td>\n",
       "      <td id=\"T_742da_row26_col35\" class=\"data row26 col35\" >-0.007915</td>\n",
       "      <td id=\"T_742da_row26_col36\" class=\"data row26 col36\" >-0.003018</td>\n",
       "      <td id=\"T_742da_row26_col37\" class=\"data row26 col37\" >-0.002016</td>\n",
       "      <td id=\"T_742da_row26_col38\" class=\"data row26 col38\" >-0.007961</td>\n",
       "      <td id=\"T_742da_row26_col39\" class=\"data row26 col39\" >-0.003672</td>\n",
       "      <td id=\"T_742da_row26_col40\" class=\"data row26 col40\" >-0.024404</td>\n",
       "    </tr>\n",
       "    <tr>\n",
       "      <th id=\"T_742da_level0_row27\" class=\"row_heading level0 row27\" >Photo Editing</th>\n",
       "      <td id=\"T_742da_row27_col0\" class=\"data row27 col0\" >0.020541</td>\n",
       "      <td id=\"T_742da_row27_col1\" class=\"data row27 col1\" >0.016784</td>\n",
       "      <td id=\"T_742da_row27_col2\" class=\"data row27 col2\" >-0.007890</td>\n",
       "      <td id=\"T_742da_row27_col3\" class=\"data row27 col3\" >-0.024932</td>\n",
       "      <td id=\"T_742da_row27_col4\" class=\"data row27 col4\" >-0.022483</td>\n",
       "      <td id=\"T_742da_row27_col5\" class=\"data row27 col5\" >-0.013646</td>\n",
       "      <td id=\"T_742da_row27_col6\" class=\"data row27 col6\" >-0.004963</td>\n",
       "      <td id=\"T_742da_row27_col7\" class=\"data row27 col7\" >-0.010649</td>\n",
       "      <td id=\"T_742da_row27_col8\" class=\"data row27 col8\" >-0.035853</td>\n",
       "      <td id=\"T_742da_row27_col9\" class=\"data row27 col9\" >-0.005836</td>\n",
       "      <td id=\"T_742da_row27_col10\" class=\"data row27 col10\" >-0.002941</td>\n",
       "      <td id=\"T_742da_row27_col11\" class=\"data row27 col11\" >-0.011858</td>\n",
       "      <td id=\"T_742da_row27_col12\" class=\"data row27 col12\" >-0.004926</td>\n",
       "      <td id=\"T_742da_row27_col13\" class=\"data row27 col13\" >-0.000453</td>\n",
       "      <td id=\"T_742da_row27_col14\" class=\"data row27 col14\" >-0.013275</td>\n",
       "      <td id=\"T_742da_row27_col15\" class=\"data row27 col15\" >-0.001816</td>\n",
       "      <td id=\"T_742da_row27_col16\" class=\"data row27 col16\" >-0.002406</td>\n",
       "      <td id=\"T_742da_row27_col17\" class=\"data row27 col17\" >-0.005983</td>\n",
       "      <td id=\"T_742da_row27_col18\" class=\"data row27 col18\" >-0.000370</td>\n",
       "      <td id=\"T_742da_row27_col19\" class=\"data row27 col19\" >-0.001796</td>\n",
       "      <td id=\"T_742da_row27_col20\" class=\"data row27 col20\" >0.341318</td>\n",
       "      <td id=\"T_742da_row27_col21\" class=\"data row27 col21\" >-0.000868</td>\n",
       "      <td id=\"T_742da_row27_col22\" class=\"data row27 col22\" >0.506599</td>\n",
       "      <td id=\"T_742da_row27_col23\" class=\"data row27 col23\" >-0.004911</td>\n",
       "      <td id=\"T_742da_row27_col24\" class=\"data row27 col24\" >-0.000641</td>\n",
       "      <td id=\"T_742da_row27_col25\" class=\"data row27 col25\" >0.346149</td>\n",
       "      <td id=\"T_742da_row27_col26\" class=\"data row27 col26\" >-0.000523</td>\n",
       "      <td id=\"T_742da_row27_col27\" class=\"data row27 col27\" >1.000000</td>\n",
       "      <td id=\"T_742da_row27_col28\" class=\"data row27 col28\" >0.168546</td>\n",
       "      <td id=\"T_742da_row27_col29\" class=\"data row27 col29\" >-0.000370</td>\n",
       "      <td id=\"T_742da_row27_col30\" class=\"data row27 col30\" >0.188562</td>\n",
       "      <td id=\"T_742da_row27_col31\" class=\"data row27 col31\" >-0.000261</td>\n",
       "      <td id=\"T_742da_row27_col32\" class=\"data row27 col32\" >0.267010</td>\n",
       "      <td id=\"T_742da_row27_col33\" class=\"data row27 col33\" >-0.079081</td>\n",
       "      <td id=\"T_742da_row27_col34\" class=\"data row27 col34\" >-0.015975</td>\n",
       "      <td id=\"T_742da_row27_col35\" class=\"data row27 col35\" >-0.010472</td>\n",
       "      <td id=\"T_742da_row27_col36\" class=\"data row27 col36\" >-0.003993</td>\n",
       "      <td id=\"T_742da_row27_col37\" class=\"data row27 col37\" >-0.002667</td>\n",
       "      <td id=\"T_742da_row27_col38\" class=\"data row27 col38\" >-0.010533</td>\n",
       "      <td id=\"T_742da_row27_col39\" class=\"data row27 col39\" >-0.004859</td>\n",
       "      <td id=\"T_742da_row27_col40\" class=\"data row27 col40\" >-0.030062</td>\n",
       "    </tr>\n",
       "    <tr>\n",
       "      <th id=\"T_742da_level0_row28\" class=\"row_heading level0 row28\" >Web Publishing</th>\n",
       "      <td id=\"T_742da_row28_col0\" class=\"data row28 col0\" >-0.000768</td>\n",
       "      <td id=\"T_742da_row28_col1\" class=\"data row28 col1\" >0.000160</td>\n",
       "      <td id=\"T_742da_row28_col2\" class=\"data row28 col2\" >0.034999</td>\n",
       "      <td id=\"T_742da_row28_col3\" class=\"data row28 col3\" >-0.021069</td>\n",
       "      <td id=\"T_742da_row28_col4\" class=\"data row28 col4\" >-0.019000</td>\n",
       "      <td id=\"T_742da_row28_col5\" class=\"data row28 col5\" >-0.011532</td>\n",
       "      <td id=\"T_742da_row28_col6\" class=\"data row28 col6\" >-0.004194</td>\n",
       "      <td id=\"T_742da_row28_col7\" class=\"data row28 col7\" >-0.015733</td>\n",
       "      <td id=\"T_742da_row28_col8\" class=\"data row28 col8\" >-0.037542</td>\n",
       "      <td id=\"T_742da_row28_col9\" class=\"data row28 col9\" >-0.004932</td>\n",
       "      <td id=\"T_742da_row28_col10\" class=\"data row28 col10\" >-0.002485</td>\n",
       "      <td id=\"T_742da_row28_col11\" class=\"data row28 col11\" >-0.010021</td>\n",
       "      <td id=\"T_742da_row28_col12\" class=\"data row28 col12\" >-0.004163</td>\n",
       "      <td id=\"T_742da_row28_col13\" class=\"data row28 col13\" >-0.000383</td>\n",
       "      <td id=\"T_742da_row28_col14\" class=\"data row28 col14\" >-0.011218</td>\n",
       "      <td id=\"T_742da_row28_col15\" class=\"data row28 col15\" >-0.001534</td>\n",
       "      <td id=\"T_742da_row28_col16\" class=\"data row28 col16\" >-0.002033</td>\n",
       "      <td id=\"T_742da_row28_col17\" class=\"data row28 col17\" >-0.005056</td>\n",
       "      <td id=\"T_742da_row28_col18\" class=\"data row28 col18\" >-0.000312</td>\n",
       "      <td id=\"T_742da_row28_col19\" class=\"data row28 col19\" >-0.001518</td>\n",
       "      <td id=\"T_742da_row28_col20\" class=\"data row28 col20\" >0.269160</td>\n",
       "      <td id=\"T_742da_row28_col21\" class=\"data row28 col21\" >-0.000733</td>\n",
       "      <td id=\"T_742da_row28_col22\" class=\"data row28 col22\" >0.399506</td>\n",
       "      <td id=\"T_742da_row28_col23\" class=\"data row28 col23\" >-0.004150</td>\n",
       "      <td id=\"T_742da_row28_col24\" class=\"data row28 col24\" >-0.000541</td>\n",
       "      <td id=\"T_742da_row28_col25\" class=\"data row28 col25\" >0.101756</td>\n",
       "      <td id=\"T_742da_row28_col26\" class=\"data row28 col26\" >-0.000442</td>\n",
       "      <td id=\"T_742da_row28_col27\" class=\"data row28 col27\" >0.168546</td>\n",
       "      <td id=\"T_742da_row28_col28\" class=\"data row28 col28\" >1.000000</td>\n",
       "      <td id=\"T_742da_row28_col29\" class=\"data row28 col29\" >-0.000312</td>\n",
       "      <td id=\"T_742da_row28_col30\" class=\"data row28 col30\" >-0.000442</td>\n",
       "      <td id=\"T_742da_row28_col31\" class=\"data row28 col31\" >-0.000221</td>\n",
       "      <td id=\"T_742da_row28_col32\" class=\"data row28 col32\" >0.316025</td>\n",
       "      <td id=\"T_742da_row28_col33\" class=\"data row28 col33\" >-0.095627</td>\n",
       "      <td id=\"T_742da_row28_col34\" class=\"data row28 col34\" >-0.013500</td>\n",
       "      <td id=\"T_742da_row28_col35\" class=\"data row28 col35\" >-0.008849</td>\n",
       "      <td id=\"T_742da_row28_col36\" class=\"data row28 col36\" >-0.003374</td>\n",
       "      <td id=\"T_742da_row28_col37\" class=\"data row28 col37\" >-0.002254</td>\n",
       "      <td id=\"T_742da_row28_col38\" class=\"data row28 col38\" >-0.008901</td>\n",
       "      <td id=\"T_742da_row28_col39\" class=\"data row28 col39\" >-0.004106</td>\n",
       "      <td id=\"T_742da_row28_col40\" class=\"data row28 col40\" >-0.029919</td>\n",
       "    </tr>\n",
       "    <tr>\n",
       "      <th id=\"T_742da_level0_row29\" class=\"row_heading level0 row29\" >Episodic</th>\n",
       "      <td id=\"T_742da_row29_col0\" class=\"data row29 col0\" >-0.001049</td>\n",
       "      <td id=\"T_742da_row29_col1\" class=\"data row29 col1\" >-0.014842</td>\n",
       "      <td id=\"T_742da_row29_col2\" class=\"data row29 col2\" >0.012252</td>\n",
       "      <td id=\"T_742da_row29_col3\" class=\"data row29 col3\" >-0.013323</td>\n",
       "      <td id=\"T_742da_row29_col4\" class=\"data row29 col4\" >-0.012015</td>\n",
       "      <td id=\"T_742da_row29_col5\" class=\"data row29 col5\" >-0.007293</td>\n",
       "      <td id=\"T_742da_row29_col6\" class=\"data row29 col6\" >-0.002652</td>\n",
       "      <td id=\"T_742da_row29_col7\" class=\"data row29 col7\" >-0.009949</td>\n",
       "      <td id=\"T_742da_row29_col8\" class=\"data row29 col8\" >-0.023740</td>\n",
       "      <td id=\"T_742da_row29_col9\" class=\"data row29 col9\" >-0.003119</td>\n",
       "      <td id=\"T_742da_row29_col10\" class=\"data row29 col10\" >-0.001572</td>\n",
       "      <td id=\"T_742da_row29_col11\" class=\"data row29 col11\" >-0.006337</td>\n",
       "      <td id=\"T_742da_row29_col12\" class=\"data row29 col12\" >-0.002632</td>\n",
       "      <td id=\"T_742da_row29_col13\" class=\"data row29 col13\" >-0.000242</td>\n",
       "      <td id=\"T_742da_row29_col14\" class=\"data row29 col14\" >-0.007094</td>\n",
       "      <td id=\"T_742da_row29_col15\" class=\"data row29 col15\" >-0.000970</td>\n",
       "      <td id=\"T_742da_row29_col16\" class=\"data row29 col16\" >-0.001286</td>\n",
       "      <td id=\"T_742da_row29_col17\" class=\"data row29 col17\" >-0.003197</td>\n",
       "      <td id=\"T_742da_row29_col18\" class=\"data row29 col18\" >-0.000198</td>\n",
       "      <td id=\"T_742da_row29_col19\" class=\"data row29 col19\" >-0.000960</td>\n",
       "      <td id=\"T_742da_row29_col20\" class=\"data row29 col20\" >-0.000464</td>\n",
       "      <td id=\"T_742da_row29_col21\" class=\"data row29 col21\" >-0.000464</td>\n",
       "      <td id=\"T_742da_row29_col22\" class=\"data row29 col22\" >-0.000625</td>\n",
       "      <td id=\"T_742da_row29_col23\" class=\"data row29 col23\" >-0.002624</td>\n",
       "      <td id=\"T_742da_row29_col24\" class=\"data row29 col24\" >0.288447</td>\n",
       "      <td id=\"T_742da_row29_col25\" class=\"data row29 col25\" >-0.000610</td>\n",
       "      <td id=\"T_742da_row29_col26\" class=\"data row29 col26\" >-0.000279</td>\n",
       "      <td id=\"T_742da_row29_col27\" class=\"data row29 col27\" >-0.000370</td>\n",
       "      <td id=\"T_742da_row29_col28\" class=\"data row29 col28\" >-0.000312</td>\n",
       "      <td id=\"T_742da_row29_col29\" class=\"data row29 col29\" >1.000000</td>\n",
       "      <td id=\"T_742da_row29_col30\" class=\"data row29 col30\" >-0.000279</td>\n",
       "      <td id=\"T_742da_row29_col31\" class=\"data row29 col31\" >-0.000140</td>\n",
       "      <td id=\"T_742da_row29_col32\" class=\"data row29 col32\" >-0.000198</td>\n",
       "      <td id=\"T_742da_row29_col33\" class=\"data row29 col33\" >-0.060471</td>\n",
       "      <td id=\"T_742da_row29_col34\" class=\"data row29 col34\" >-0.008537</td>\n",
       "      <td id=\"T_742da_row29_col35\" class=\"data row29 col35\" >-0.005596</td>\n",
       "      <td id=\"T_742da_row29_col36\" class=\"data row29 col36\" >-0.002134</td>\n",
       "      <td id=\"T_742da_row29_col37\" class=\"data row29 col37\" >-0.001425</td>\n",
       "      <td id=\"T_742da_row29_col38\" class=\"data row29 col38\" >-0.005629</td>\n",
       "      <td id=\"T_742da_row29_col39\" class=\"data row29 col39\" >-0.002596</td>\n",
       "      <td id=\"T_742da_row29_col40\" class=\"data row29 col40\" >-0.025581</td>\n",
       "    </tr>\n",
       "    <tr>\n",
       "      <th id=\"T_742da_level0_row30\" class=\"row_heading level0 row30\" >Video Production</th>\n",
       "      <td id=\"T_742da_row30_col0\" class=\"data row30 col0\" >-0.000646</td>\n",
       "      <td id=\"T_742da_row30_col1\" class=\"data row30 col1\" >0.003395</td>\n",
       "      <td id=\"T_742da_row30_col2\" class=\"data row30 col2\" >-0.005963</td>\n",
       "      <td id=\"T_742da_row30_col3\" class=\"data row30 col3\" >-0.018844</td>\n",
       "      <td id=\"T_742da_row30_col4\" class=\"data row30 col4\" >-0.016993</td>\n",
       "      <td id=\"T_742da_row30_col5\" class=\"data row30 col5\" >-0.010314</td>\n",
       "      <td id=\"T_742da_row30_col6\" class=\"data row30 col6\" >-0.003751</td>\n",
       "      <td id=\"T_742da_row30_col7\" class=\"data row30 col7\" >-0.014072</td>\n",
       "      <td id=\"T_742da_row30_col8\" class=\"data row30 col8\" >-0.033577</td>\n",
       "      <td id=\"T_742da_row30_col9\" class=\"data row30 col9\" >-0.004411</td>\n",
       "      <td id=\"T_742da_row30_col10\" class=\"data row30 col10\" >-0.002223</td>\n",
       "      <td id=\"T_742da_row30_col11\" class=\"data row30 col11\" >-0.008963</td>\n",
       "      <td id=\"T_742da_row30_col12\" class=\"data row30 col12\" >-0.003723</td>\n",
       "      <td id=\"T_742da_row30_col13\" class=\"data row30 col13\" >0.288433</td>\n",
       "      <td id=\"T_742da_row30_col14\" class=\"data row30 col14\" >-0.010033</td>\n",
       "      <td id=\"T_742da_row30_col15\" class=\"data row30 col15\" >-0.001372</td>\n",
       "      <td id=\"T_742da_row30_col16\" class=\"data row30 col16\" >-0.001818</td>\n",
       "      <td id=\"T_742da_row30_col17\" class=\"data row30 col17\" >-0.004522</td>\n",
       "      <td id=\"T_742da_row30_col18\" class=\"data row30 col18\" >-0.000279</td>\n",
       "      <td id=\"T_742da_row30_col19\" class=\"data row30 col19\" >-0.001358</td>\n",
       "      <td id=\"T_742da_row30_col20\" class=\"data row30 col20\" >0.451947</td>\n",
       "      <td id=\"T_742da_row30_col21\" class=\"data row30 col21\" >-0.000656</td>\n",
       "      <td id=\"T_742da_row30_col22\" class=\"data row30 col22\" >0.111052</td>\n",
       "      <td id=\"T_742da_row30_col23\" class=\"data row30 col23\" >-0.003712</td>\n",
       "      <td id=\"T_742da_row30_col24\" class=\"data row30 col24\" >-0.000484</td>\n",
       "      <td id=\"T_742da_row30_col25\" class=\"data row30 col25\" >0.228815</td>\n",
       "      <td id=\"T_742da_row30_col26\" class=\"data row30 col26\" >-0.000395</td>\n",
       "      <td id=\"T_742da_row30_col27\" class=\"data row30 col27\" >0.188562</td>\n",
       "      <td id=\"T_742da_row30_col28\" class=\"data row30 col28\" >-0.000442</td>\n",
       "      <td id=\"T_742da_row30_col29\" class=\"data row30 col29\" >-0.000279</td>\n",
       "      <td id=\"T_742da_row30_col30\" class=\"data row30 col30\" >1.000000</td>\n",
       "      <td id=\"T_742da_row30_col31\" class=\"data row30 col31\" >-0.000198</td>\n",
       "      <td id=\"T_742da_row30_col32\" class=\"data row30 col32\" >-0.000279</td>\n",
       "      <td id=\"T_742da_row30_col33\" class=\"data row30 col33\" >-0.062990</td>\n",
       "      <td id=\"T_742da_row30_col34\" class=\"data row30 col34\" >-0.012074</td>\n",
       "      <td id=\"T_742da_row30_col35\" class=\"data row30 col35\" >-0.007915</td>\n",
       "      <td id=\"T_742da_row30_col36\" class=\"data row30 col36\" >-0.003018</td>\n",
       "      <td id=\"T_742da_row30_col37\" class=\"data row30 col37\" >-0.002016</td>\n",
       "      <td id=\"T_742da_row30_col38\" class=\"data row30 col38\" >-0.007961</td>\n",
       "      <td id=\"T_742da_row30_col39\" class=\"data row30 col39\" >-0.003672</td>\n",
       "      <td id=\"T_742da_row30_col40\" class=\"data row30 col40\" >-0.024404</td>\n",
       "    </tr>\n",
       "    <tr>\n",
       "      <th id=\"T_742da_level0_row31\" class=\"row_heading level0 row31\" >Software Training</th>\n",
       "      <td id=\"T_742da_row31_col0\" class=\"data row31 col0\" >-0.000742</td>\n",
       "      <td id=\"T_742da_row31_col1\" class=\"data row31 col1\" >-0.006431</td>\n",
       "      <td id=\"T_742da_row31_col2\" class=\"data row31 col2\" >-0.002981</td>\n",
       "      <td id=\"T_742da_row31_col3\" class=\"data row31 col3\" >-0.009420</td>\n",
       "      <td id=\"T_742da_row31_col4\" class=\"data row31 col4\" >-0.008495</td>\n",
       "      <td id=\"T_742da_row31_col5\" class=\"data row31 col5\" >-0.005156</td>\n",
       "      <td id=\"T_742da_row31_col6\" class=\"data row31 col6\" >-0.001875</td>\n",
       "      <td id=\"T_742da_row31_col7\" class=\"data row31 col7\" >-0.007035</td>\n",
       "      <td id=\"T_742da_row31_col8\" class=\"data row31 col8\" >-0.016786</td>\n",
       "      <td id=\"T_742da_row31_col9\" class=\"data row31 col9\" >-0.002205</td>\n",
       "      <td id=\"T_742da_row31_col10\" class=\"data row31 col10\" >-0.001111</td>\n",
       "      <td id=\"T_742da_row31_col11\" class=\"data row31 col11\" >-0.004481</td>\n",
       "      <td id=\"T_742da_row31_col12\" class=\"data row31 col12\" >-0.001861</td>\n",
       "      <td id=\"T_742da_row31_col13\" class=\"data row31 col13\" >-0.000171</td>\n",
       "      <td id=\"T_742da_row31_col14\" class=\"data row31 col14\" >-0.005016</td>\n",
       "      <td id=\"T_742da_row31_col15\" class=\"data row31 col15\" >-0.000686</td>\n",
       "      <td id=\"T_742da_row31_col16\" class=\"data row31 col16\" >-0.000909</td>\n",
       "      <td id=\"T_742da_row31_col17\" class=\"data row31 col17\" >-0.002261</td>\n",
       "      <td id=\"T_742da_row31_col18\" class=\"data row31 col18\" >-0.000140</td>\n",
       "      <td id=\"T_742da_row31_col19\" class=\"data row31 col19\" >-0.000679</td>\n",
       "      <td id=\"T_742da_row31_col20\" class=\"data row31 col20\" >-0.000328</td>\n",
       "      <td id=\"T_742da_row31_col21\" class=\"data row31 col21\" >-0.000328</td>\n",
       "      <td id=\"T_742da_row31_col22\" class=\"data row31 col22\" >-0.000442</td>\n",
       "      <td id=\"T_742da_row31_col23\" class=\"data row31 col23\" >-0.001856</td>\n",
       "      <td id=\"T_742da_row31_col24\" class=\"data row31 col24\" >-0.000242</td>\n",
       "      <td id=\"T_742da_row31_col25\" class=\"data row31 col25\" >-0.000431</td>\n",
       "      <td id=\"T_742da_row31_col26\" class=\"data row31 col26\" >0.499926</td>\n",
       "      <td id=\"T_742da_row31_col27\" class=\"data row31 col27\" >-0.000261</td>\n",
       "      <td id=\"T_742da_row31_col28\" class=\"data row31 col28\" >-0.000221</td>\n",
       "      <td id=\"T_742da_row31_col29\" class=\"data row31 col29\" >-0.000140</td>\n",
       "      <td id=\"T_742da_row31_col30\" class=\"data row31 col30\" >-0.000198</td>\n",
       "      <td id=\"T_742da_row31_col31\" class=\"data row31 col31\" >1.000000</td>\n",
       "      <td id=\"T_742da_row31_col32\" class=\"data row31 col32\" >-0.000140</td>\n",
       "      <td id=\"T_742da_row31_col33\" class=\"data row31 col33\" >-0.042757</td>\n",
       "      <td id=\"T_742da_row31_col34\" class=\"data row31 col34\" >-0.006036</td>\n",
       "      <td id=\"T_742da_row31_col35\" class=\"data row31 col35\" >-0.003957</td>\n",
       "      <td id=\"T_742da_row31_col36\" class=\"data row31 col36\" >-0.001509</td>\n",
       "      <td id=\"T_742da_row31_col37\" class=\"data row31 col37\" >-0.001008</td>\n",
       "      <td id=\"T_742da_row31_col38\" class=\"data row31 col38\" >-0.003980</td>\n",
       "      <td id=\"T_742da_row31_col39\" class=\"data row31 col39\" >-0.001836</td>\n",
       "      <td id=\"T_742da_row31_col40\" class=\"data row31 col40\" >-0.018087</td>\n",
       "    </tr>\n",
       "    <tr>\n",
       "      <th id=\"T_742da_level0_row32\" class=\"row_heading level0 row32\" >Game Development</th>\n",
       "      <td id=\"T_742da_row32_col0\" class=\"data row32 col0\" >-0.001020</td>\n",
       "      <td id=\"T_742da_row32_col1\" class=\"data row32 col1\" >0.025391</td>\n",
       "      <td id=\"T_742da_row32_col2\" class=\"data row32 col2\" >-0.004216</td>\n",
       "      <td id=\"T_742da_row32_col3\" class=\"data row32 col3\" >-0.013323</td>\n",
       "      <td id=\"T_742da_row32_col4\" class=\"data row32 col4\" >-0.012015</td>\n",
       "      <td id=\"T_742da_row32_col5\" class=\"data row32 col5\" >-0.007293</td>\n",
       "      <td id=\"T_742da_row32_col6\" class=\"data row32 col6\" >-0.002652</td>\n",
       "      <td id=\"T_742da_row32_col7\" class=\"data row32 col7\" >-0.009949</td>\n",
       "      <td id=\"T_742da_row32_col8\" class=\"data row32 col8\" >-0.023740</td>\n",
       "      <td id=\"T_742da_row32_col9\" class=\"data row32 col9\" >-0.003119</td>\n",
       "      <td id=\"T_742da_row32_col10\" class=\"data row32 col10\" >-0.001572</td>\n",
       "      <td id=\"T_742da_row32_col11\" class=\"data row32 col11\" >-0.006337</td>\n",
       "      <td id=\"T_742da_row32_col12\" class=\"data row32 col12\" >-0.002632</td>\n",
       "      <td id=\"T_742da_row32_col13\" class=\"data row32 col13\" >-0.000242</td>\n",
       "      <td id=\"T_742da_row32_col14\" class=\"data row32 col14\" >-0.007094</td>\n",
       "      <td id=\"T_742da_row32_col15\" class=\"data row32 col15\" >-0.000970</td>\n",
       "      <td id=\"T_742da_row32_col16\" class=\"data row32 col16\" >-0.001286</td>\n",
       "      <td id=\"T_742da_row32_col17\" class=\"data row32 col17\" >-0.003197</td>\n",
       "      <td id=\"T_742da_row32_col18\" class=\"data row32 col18\" >-0.000198</td>\n",
       "      <td id=\"T_742da_row32_col19\" class=\"data row32 col19\" >-0.000960</td>\n",
       "      <td id=\"T_742da_row32_col20\" class=\"data row32 col20\" >0.212874</td>\n",
       "      <td id=\"T_742da_row32_col21\" class=\"data row32 col21\" >-0.000464</td>\n",
       "      <td id=\"T_742da_row32_col22\" class=\"data row32 col22\" >0.315946</td>\n",
       "      <td id=\"T_742da_row32_col23\" class=\"data row32 col23\" >-0.002624</td>\n",
       "      <td id=\"T_742da_row32_col24\" class=\"data row32 col24\" >-0.000342</td>\n",
       "      <td id=\"T_742da_row32_col25\" class=\"data row32 col25\" >0.324170</td>\n",
       "      <td id=\"T_742da_row32_col26\" class=\"data row32 col26\" >0.353379</td>\n",
       "      <td id=\"T_742da_row32_col27\" class=\"data row32 col27\" >0.267010</td>\n",
       "      <td id=\"T_742da_row32_col28\" class=\"data row32 col28\" >0.316025</td>\n",
       "      <td id=\"T_742da_row32_col29\" class=\"data row32 col29\" >-0.000198</td>\n",
       "      <td id=\"T_742da_row32_col30\" class=\"data row32 col30\" >-0.000279</td>\n",
       "      <td id=\"T_742da_row32_col31\" class=\"data row32 col31\" >-0.000140</td>\n",
       "      <td id=\"T_742da_row32_col32\" class=\"data row32 col32\" >1.000000</td>\n",
       "      <td id=\"T_742da_row32_col33\" class=\"data row32 col33\" >-0.060471</td>\n",
       "      <td id=\"T_742da_row32_col34\" class=\"data row32 col34\" >-0.008537</td>\n",
       "      <td id=\"T_742da_row32_col35\" class=\"data row32 col35\" >-0.005596</td>\n",
       "      <td id=\"T_742da_row32_col36\" class=\"data row32 col36\" >-0.002134</td>\n",
       "      <td id=\"T_742da_row32_col37\" class=\"data row32 col37\" >-0.001425</td>\n",
       "      <td id=\"T_742da_row32_col38\" class=\"data row32 col38\" >-0.005629</td>\n",
       "      <td id=\"T_742da_row32_col39\" class=\"data row32 col39\" >-0.002596</td>\n",
       "      <td id=\"T_742da_row32_col40\" class=\"data row32 col40\" >-0.025581</td>\n",
       "    </tr>\n",
       "    <tr>\n",
       "      <th id=\"T_742da_level0_row33\" class=\"row_heading level0 row33\" >Single-player</th>\n",
       "      <td id=\"T_742da_row33_col0\" class=\"data row33 col0\" >-0.066515</td>\n",
       "      <td id=\"T_742da_row33_col1\" class=\"data row33 col1\" >-0.115878</td>\n",
       "      <td id=\"T_742da_row33_col2\" class=\"data row33 col2\" >-0.006886</td>\n",
       "      <td id=\"T_742da_row33_col3\" class=\"data row33 col3\" >-0.080190</td>\n",
       "      <td id=\"T_742da_row33_col4\" class=\"data row33 col4\" >0.106193</td>\n",
       "      <td id=\"T_742da_row33_col5\" class=\"data row33 col5\" >-0.006503</td>\n",
       "      <td id=\"T_742da_row33_col6\" class=\"data row33 col6\" >-0.020060</td>\n",
       "      <td id=\"T_742da_row33_col7\" class=\"data row33 col7\" >0.076195</td>\n",
       "      <td id=\"T_742da_row33_col8\" class=\"data row33 col8\" >0.119814</td>\n",
       "      <td id=\"T_742da_row33_col9\" class=\"data row33 col9\" >-0.401683</td>\n",
       "      <td id=\"T_742da_row33_col10\" class=\"data row33 col10\" >-0.010513</td>\n",
       "      <td id=\"T_742da_row33_col11\" class=\"data row33 col11\" >0.030677</td>\n",
       "      <td id=\"T_742da_row33_col12\" class=\"data row33 col12\" >-0.001031</td>\n",
       "      <td id=\"T_742da_row33_col13\" class=\"data row33 col13\" >-0.074065</td>\n",
       "      <td id=\"T_742da_row33_col14\" class=\"data row33 col14\" >-0.031905</td>\n",
       "      <td id=\"T_742da_row33_col15\" class=\"data row33 col15\" >0.009524</td>\n",
       "      <td id=\"T_742da_row33_col16\" class=\"data row33 col16\" >0.001512</td>\n",
       "      <td id=\"T_742da_row33_col17\" class=\"data row33 col17\" >-0.150087</td>\n",
       "      <td id=\"T_742da_row33_col18\" class=\"data row33 col18\" >-0.060471</td>\n",
       "      <td id=\"T_742da_row33_col19\" class=\"data row33 col19\" >0.009286</td>\n",
       "      <td id=\"T_742da_row33_col20\" class=\"data row33 col20\" >-0.128285</td>\n",
       "      <td id=\"T_742da_row33_col21\" class=\"data row33 col21\" >-0.128285</td>\n",
       "      <td id=\"T_742da_row33_col22\" class=\"data row33 col22\" >-0.161135</td>\n",
       "      <td id=\"T_742da_row33_col23\" class=\"data row33 col23\" >-0.458086</td>\n",
       "      <td id=\"T_742da_row33_col24\" class=\"data row33 col24\" >-0.104759</td>\n",
       "      <td id=\"T_742da_row33_col25\" class=\"data row33 col25\" >-0.134799</td>\n",
       "      <td id=\"T_742da_row33_col26\" class=\"data row33 col26\" >-0.062990</td>\n",
       "      <td id=\"T_742da_row33_col27\" class=\"data row33 col27\" >-0.079081</td>\n",
       "      <td id=\"T_742da_row33_col28\" class=\"data row33 col28\" >-0.095627</td>\n",
       "      <td id=\"T_742da_row33_col29\" class=\"data row33 col29\" >-0.060471</td>\n",
       "      <td id=\"T_742da_row33_col30\" class=\"data row33 col30\" >-0.062990</td>\n",
       "      <td id=\"T_742da_row33_col31\" class=\"data row33 col31\" >-0.042757</td>\n",
       "      <td id=\"T_742da_row33_col32\" class=\"data row33 col32\" >-0.060471</td>\n",
       "      <td id=\"T_742da_row33_col33\" class=\"data row33 col33\" >1.000000</td>\n",
       "      <td id=\"T_742da_row33_col34\" class=\"data row33 col34\" >-0.300978</td>\n",
       "      <td id=\"T_742da_row33_col35\" class=\"data row33 col35\" >-0.130334</td>\n",
       "      <td id=\"T_742da_row33_col36\" class=\"data row33 col36\" >-0.429599</td>\n",
       "      <td id=\"T_742da_row33_col37\" class=\"data row33 col37\" >0.005714</td>\n",
       "      <td id=\"T_742da_row33_col38\" class=\"data row33 col38\" >-0.275512</td>\n",
       "      <td id=\"T_742da_row33_col39\" class=\"data row33 col39\" >0.007829</td>\n",
       "      <td id=\"T_742da_row33_col40\" class=\"data row33 col40\" >0.115278</td>\n",
       "    </tr>\n",
       "    <tr>\n",
       "      <th id=\"T_742da_level0_row34\" class=\"row_heading level0 row34\" >Multi-player</th>\n",
       "      <td id=\"T_742da_row34_col0\" class=\"data row34 col0\" >0.064683</td>\n",
       "      <td id=\"T_742da_row34_col1\" class=\"data row34 col1\" >0.076399</td>\n",
       "      <td id=\"T_742da_row34_col2\" class=\"data row34 col2\" >0.047876</td>\n",
       "      <td id=\"T_742da_row34_col3\" class=\"data row34 col3\" >0.230538</td>\n",
       "      <td id=\"T_742da_row34_col4\" class=\"data row34 col4\" >-0.218013</td>\n",
       "      <td id=\"T_742da_row34_col5\" class=\"data row34 col5\" >0.101557</td>\n",
       "      <td id=\"T_742da_row34_col6\" class=\"data row34 col6\" >0.173799</td>\n",
       "      <td id=\"T_742da_row34_col7\" class=\"data row34 col7\" >-0.135733</td>\n",
       "      <td id=\"T_742da_row34_col8\" class=\"data row34 col8\" >-0.117743</td>\n",
       "      <td id=\"T_742da_row34_col9\" class=\"data row34 col9\" >0.245309</td>\n",
       "      <td id=\"T_742da_row34_col10\" class=\"data row34 col10\" >-0.019520</td>\n",
       "      <td id=\"T_742da_row34_col11\" class=\"data row34 col11\" >-0.009967</td>\n",
       "      <td id=\"T_742da_row34_col12\" class=\"data row34 col12\" >0.128684</td>\n",
       "      <td id=\"T_742da_row34_col13\" class=\"data row34 col13\" >-0.010456</td>\n",
       "      <td id=\"T_742da_row34_col14\" class=\"data row34 col14\" >-0.014799</td>\n",
       "      <td id=\"T_742da_row34_col15\" class=\"data row34 col15\" >-0.035436</td>\n",
       "      <td id=\"T_742da_row34_col16\" class=\"data row34 col16\" >-0.018737</td>\n",
       "      <td id=\"T_742da_row34_col17\" class=\"data row34 col17\" >0.123335</td>\n",
       "      <td id=\"T_742da_row34_col18\" class=\"data row34 col18\" >-0.008537</td>\n",
       "      <td id=\"T_742da_row34_col19\" class=\"data row34 col19\" >-0.034927</td>\n",
       "      <td id=\"T_742da_row34_col20\" class=\"data row34 col20\" >-0.020030</td>\n",
       "      <td id=\"T_742da_row34_col21\" class=\"data row34 col21\" >-0.013272</td>\n",
       "      <td id=\"T_742da_row34_col22\" class=\"data row34 col22\" >-0.027020</td>\n",
       "      <td id=\"T_742da_row34_col23\" class=\"data row34 col23\" >0.280261</td>\n",
       "      <td id=\"T_742da_row34_col24\" class=\"data row34 col24\" >-0.014789</td>\n",
       "      <td id=\"T_742da_row34_col25\" class=\"data row34 col25\" >-0.026335</td>\n",
       "      <td id=\"T_742da_row34_col26\" class=\"data row34 col26\" >-0.012074</td>\n",
       "      <td id=\"T_742da_row34_col27\" class=\"data row34 col27\" >-0.015975</td>\n",
       "      <td id=\"T_742da_row34_col28\" class=\"data row34 col28\" >-0.013500</td>\n",
       "      <td id=\"T_742da_row34_col29\" class=\"data row34 col29\" >-0.008537</td>\n",
       "      <td id=\"T_742da_row34_col30\" class=\"data row34 col30\" >-0.012074</td>\n",
       "      <td id=\"T_742da_row34_col31\" class=\"data row34 col31\" >-0.006036</td>\n",
       "      <td id=\"T_742da_row34_col32\" class=\"data row34 col32\" >-0.008537</td>\n",
       "      <td id=\"T_742da_row34_col33\" class=\"data row34 col33\" >-0.300978</td>\n",
       "      <td id=\"T_742da_row34_col34\" class=\"data row34 col34\" >1.000000</td>\n",
       "      <td id=\"T_742da_row34_col35\" class=\"data row34 col35\" >0.626991</td>\n",
       "      <td id=\"T_742da_row34_col36\" class=\"data row34 col36\" >0.230421</td>\n",
       "      <td id=\"T_742da_row34_col37\" class=\"data row34 col37\" >0.004982</td>\n",
       "      <td id=\"T_742da_row34_col38\" class=\"data row34 col38\" >0.648362</td>\n",
       "      <td id=\"T_742da_row34_col39\" class=\"data row34 col39\" >0.113426</td>\n",
       "      <td id=\"T_742da_row34_col40\" class=\"data row34 col40\" >0.028847</td>\n",
       "    </tr>\n",
       "    <tr>\n",
       "      <th id=\"T_742da_level0_row35\" class=\"row_heading level0 row35\" >Co-op</th>\n",
       "      <td id=\"T_742da_row35_col0\" class=\"data row35 col0\" >0.050351</td>\n",
       "      <td id=\"T_742da_row35_col1\" class=\"data row35 col1\" >0.099243</td>\n",
       "      <td id=\"T_742da_row35_col2\" class=\"data row35 col2\" >0.055699</td>\n",
       "      <td id=\"T_742da_row35_col3\" class=\"data row35 col3\" >0.222551</td>\n",
       "      <td id=\"T_742da_row35_col4\" class=\"data row35 col4\" >-0.061514</td>\n",
       "      <td id=\"T_742da_row35_col5\" class=\"data row35 col5\" >0.026919</td>\n",
       "      <td id=\"T_742da_row35_col6\" class=\"data row35 col6\" >0.040062</td>\n",
       "      <td id=\"T_742da_row35_col7\" class=\"data row35 col7\" >-0.096468</td>\n",
       "      <td id=\"T_742da_row35_col8\" class=\"data row35 col8\" >-0.030474</td>\n",
       "      <td id=\"T_742da_row35_col9\" class=\"data row35 col9\" >0.131875</td>\n",
       "      <td id=\"T_742da_row35_col10\" class=\"data row35 col10\" >-0.015879</td>\n",
       "      <td id=\"T_742da_row35_col11\" class=\"data row35 col11\" >-0.023732</td>\n",
       "      <td id=\"T_742da_row35_col12\" class=\"data row35 col12\" >0.001710</td>\n",
       "      <td id=\"T_742da_row35_col13\" class=\"data row35 col13\" >-0.006854</td>\n",
       "      <td id=\"T_742da_row35_col14\" class=\"data row35 col14\" >0.050645</td>\n",
       "      <td id=\"T_742da_row35_col15\" class=\"data row35 col15\" >-0.019108</td>\n",
       "      <td id=\"T_742da_row35_col16\" class=\"data row35 col16\" >-0.014233</td>\n",
       "      <td id=\"T_742da_row35_col17\" class=\"data row35 col17\" >0.072930</td>\n",
       "      <td id=\"T_742da_row35_col18\" class=\"data row35 col18\" >-0.005596</td>\n",
       "      <td id=\"T_742da_row35_col19\" class=\"data row35 col19\" >-0.022960</td>\n",
       "      <td id=\"T_742da_row35_col20\" class=\"data row35 col20\" >-0.013130</td>\n",
       "      <td id=\"T_742da_row35_col21\" class=\"data row35 col21\" >-0.004405</td>\n",
       "      <td id=\"T_742da_row35_col22\" class=\"data row35 col22\" >-0.017712</td>\n",
       "      <td id=\"T_742da_row35_col23\" class=\"data row35 col23\" >0.194934</td>\n",
       "      <td id=\"T_742da_row35_col24\" class=\"data row35 col24\" >-0.009694</td>\n",
       "      <td id=\"T_742da_row35_col25\" class=\"data row35 col25\" >-0.017262</td>\n",
       "      <td id=\"T_742da_row35_col26\" class=\"data row35 col26\" >-0.007915</td>\n",
       "      <td id=\"T_742da_row35_col27\" class=\"data row35 col27\" >-0.010472</td>\n",
       "      <td id=\"T_742da_row35_col28\" class=\"data row35 col28\" >-0.008849</td>\n",
       "      <td id=\"T_742da_row35_col29\" class=\"data row35 col29\" >-0.005596</td>\n",
       "      <td id=\"T_742da_row35_col30\" class=\"data row35 col30\" >-0.007915</td>\n",
       "      <td id=\"T_742da_row35_col31\" class=\"data row35 col31\" >-0.003957</td>\n",
       "      <td id=\"T_742da_row35_col32\" class=\"data row35 col32\" >-0.005596</td>\n",
       "      <td id=\"T_742da_row35_col33\" class=\"data row35 col33\" >-0.130334</td>\n",
       "      <td id=\"T_742da_row35_col34\" class=\"data row35 col34\" >0.626991</td>\n",
       "      <td id=\"T_742da_row35_col35\" class=\"data row35 col35\" >1.000000</td>\n",
       "      <td id=\"T_742da_row35_col36\" class=\"data row35 col36\" >0.173987</td>\n",
       "      <td id=\"T_742da_row35_col37\" class=\"data row35 col37\" >0.002604</td>\n",
       "      <td id=\"T_742da_row35_col38\" class=\"data row35 col38\" >0.413639</td>\n",
       "      <td id=\"T_742da_row35_col39\" class=\"data row35 col39\" >0.121191</td>\n",
       "      <td id=\"T_742da_row35_col40\" class=\"data row35 col40\" >0.061439</td>\n",
       "    </tr>\n",
       "    <tr>\n",
       "      <th id=\"T_742da_level0_row36\" class=\"row_heading level0 row36\" >MMO</th>\n",
       "      <td id=\"T_742da_row36_col0\" class=\"data row36 col0\" >0.010249</td>\n",
       "      <td id=\"T_742da_row36_col1\" class=\"data row36 col1\" >0.212656</td>\n",
       "      <td id=\"T_742da_row36_col2\" class=\"data row36 col2\" >0.013747</td>\n",
       "      <td id=\"T_742da_row36_col3\" class=\"data row36 col3\" >0.024138</td>\n",
       "      <td id=\"T_742da_row36_col4\" class=\"data row36 col4\" >-0.003038</td>\n",
       "      <td id=\"T_742da_row36_col5\" class=\"data row36 col5\" >0.028742</td>\n",
       "      <td id=\"T_742da_row36_col6\" class=\"data row36 col6\" >0.000595</td>\n",
       "      <td id=\"T_742da_row36_col7\" class=\"data row36 col7\" >-0.058021</td>\n",
       "      <td id=\"T_742da_row36_col8\" class=\"data row36 col8\" >-0.106018</td>\n",
       "      <td id=\"T_742da_row36_col9\" class=\"data row36 col9\" >0.476336</td>\n",
       "      <td id=\"T_742da_row36_col10\" class=\"data row36 col10\" >-0.010943</td>\n",
       "      <td id=\"T_742da_row36_col11\" class=\"data row36 col11\" >0.002647</td>\n",
       "      <td id=\"T_742da_row36_col12\" class=\"data row36 col12\" >0.001013</td>\n",
       "      <td id=\"T_742da_row36_col13\" class=\"data row36 col13\" >-0.002613</td>\n",
       "      <td id=\"T_742da_row36_col14\" class=\"data row36 col14\" >0.161742</td>\n",
       "      <td id=\"T_742da_row36_col15\" class=\"data row36 col15\" >-0.000785</td>\n",
       "      <td id=\"T_742da_row36_col16\" class=\"data row36 col16\" >-0.013884</td>\n",
       "      <td id=\"T_742da_row36_col17\" class=\"data row36 col17\" >0.048591</td>\n",
       "      <td id=\"T_742da_row36_col18\" class=\"data row36 col18\" >-0.002134</td>\n",
       "      <td id=\"T_742da_row36_col19\" class=\"data row36 col19\" >-0.010366</td>\n",
       "      <td id=\"T_742da_row36_col20\" class=\"data row36 col20\" >-0.005006</td>\n",
       "      <td id=\"T_742da_row36_col21\" class=\"data row36 col21\" >-0.005006</td>\n",
       "      <td id=\"T_742da_row36_col22\" class=\"data row36 col22\" >-0.006753</td>\n",
       "      <td id=\"T_742da_row36_col23\" class=\"data row36 col23\" >0.768729</td>\n",
       "      <td id=\"T_742da_row36_col24\" class=\"data row36 col24\" >-0.003696</td>\n",
       "      <td id=\"T_742da_row36_col25\" class=\"data row36 col25\" >-0.006582</td>\n",
       "      <td id=\"T_742da_row36_col26\" class=\"data row36 col26\" >-0.003018</td>\n",
       "      <td id=\"T_742da_row36_col27\" class=\"data row36 col27\" >-0.003993</td>\n",
       "      <td id=\"T_742da_row36_col28\" class=\"data row36 col28\" >-0.003374</td>\n",
       "      <td id=\"T_742da_row36_col29\" class=\"data row36 col29\" >-0.002134</td>\n",
       "      <td id=\"T_742da_row36_col30\" class=\"data row36 col30\" >-0.003018</td>\n",
       "      <td id=\"T_742da_row36_col31\" class=\"data row36 col31\" >-0.001509</td>\n",
       "      <td id=\"T_742da_row36_col32\" class=\"data row36 col32\" >-0.002134</td>\n",
       "      <td id=\"T_742da_row36_col33\" class=\"data row36 col33\" >-0.429599</td>\n",
       "      <td id=\"T_742da_row36_col34\" class=\"data row36 col34\" >0.230421</td>\n",
       "      <td id=\"T_742da_row36_col35\" class=\"data row36 col35\" >0.173987</td>\n",
       "      <td id=\"T_742da_row36_col36\" class=\"data row36 col36\" >1.000000</td>\n",
       "      <td id=\"T_742da_row36_col37\" class=\"data row36 col37\" >0.011148</td>\n",
       "      <td id=\"T_742da_row36_col38\" class=\"data row36 col38\" >0.176504</td>\n",
       "      <td id=\"T_742da_row36_col39\" class=\"data row36 col39\" >-0.024309</td>\n",
       "      <td id=\"T_742da_row36_col40\" class=\"data row36 col40\" >-0.096410</td>\n",
       "    </tr>\n",
       "    <tr>\n",
       "      <th id=\"T_742da_level0_row37\" class=\"row_heading level0 row37\" >VR Support</th>\n",
       "      <td id=\"T_742da_row37_col0\" class=\"data row37 col0\" >-0.001822</td>\n",
       "      <td id=\"T_742da_row37_col1\" class=\"data row37 col1\" >-0.009251</td>\n",
       "      <td id=\"T_742da_row37_col2\" class=\"data row37 col2\" >-0.000427</td>\n",
       "      <td id=\"T_742da_row37_col3\" class=\"data row37 col3\" >0.008393</td>\n",
       "      <td id=\"T_742da_row37_col4\" class=\"data row37 col4\" >-0.006941</td>\n",
       "      <td id=\"T_742da_row37_col5\" class=\"data row37 col5\" >-0.018886</td>\n",
       "      <td id=\"T_742da_row37_col6\" class=\"data row37 col6\" >0.007885</td>\n",
       "      <td id=\"T_742da_row37_col7\" class=\"data row37 col7\" >-0.032098</td>\n",
       "      <td id=\"T_742da_row37_col8\" class=\"data row37 col8\" >0.017371</td>\n",
       "      <td id=\"T_742da_row37_col9\" class=\"data row37 col9\" >0.010089</td>\n",
       "      <td id=\"T_742da_row37_col10\" class=\"data row37 col10\" >-0.011335</td>\n",
       "      <td id=\"T_742da_row37_col11\" class=\"data row37 col11\" >0.022600</td>\n",
       "      <td id=\"T_742da_row37_col12\" class=\"data row37 col12\" >0.019098</td>\n",
       "      <td id=\"T_742da_row37_col13\" class=\"data row37 col13\" >-0.001745</td>\n",
       "      <td id=\"T_742da_row37_col14\" class=\"data row37 col14\" >-0.026692</td>\n",
       "      <td id=\"T_742da_row37_col15\" class=\"data row37 col15\" >-0.006997</td>\n",
       "      <td id=\"T_742da_row37_col16\" class=\"data row37 col16\" >-0.009273</td>\n",
       "      <td id=\"T_742da_row37_col17\" class=\"data row37 col17\" >0.008800</td>\n",
       "      <td id=\"T_742da_row37_col18\" class=\"data row37 col18\" >-0.001425</td>\n",
       "      <td id=\"T_742da_row37_col19\" class=\"data row37 col19\" >-0.006924</td>\n",
       "      <td id=\"T_742da_row37_col20\" class=\"data row37 col20\" >-0.003344</td>\n",
       "      <td id=\"T_742da_row37_col21\" class=\"data row37 col21\" >-0.003344</td>\n",
       "      <td id=\"T_742da_row37_col22\" class=\"data row37 col22\" >0.017657</td>\n",
       "      <td id=\"T_742da_row37_col23\" class=\"data row37 col23\" >-0.002560</td>\n",
       "      <td id=\"T_742da_row37_col24\" class=\"data row37 col24\" >-0.002469</td>\n",
       "      <td id=\"T_742da_row37_col25\" class=\"data row37 col25\" >-0.004396</td>\n",
       "      <td id=\"T_742da_row37_col26\" class=\"data row37 col26\" >-0.002016</td>\n",
       "      <td id=\"T_742da_row37_col27\" class=\"data row37 col27\" >-0.002667</td>\n",
       "      <td id=\"T_742da_row37_col28\" class=\"data row37 col28\" >-0.002254</td>\n",
       "      <td id=\"T_742da_row37_col29\" class=\"data row37 col29\" >-0.001425</td>\n",
       "      <td id=\"T_742da_row37_col30\" class=\"data row37 col30\" >-0.002016</td>\n",
       "      <td id=\"T_742da_row37_col31\" class=\"data row37 col31\" >-0.001008</td>\n",
       "      <td id=\"T_742da_row37_col32\" class=\"data row37 col32\" >-0.001425</td>\n",
       "      <td id=\"T_742da_row37_col33\" class=\"data row37 col33\" >0.005714</td>\n",
       "      <td id=\"T_742da_row37_col34\" class=\"data row37 col34\" >0.004982</td>\n",
       "      <td id=\"T_742da_row37_col35\" class=\"data row37 col35\" >0.002604</td>\n",
       "      <td id=\"T_742da_row37_col36\" class=\"data row37 col36\" >0.011148</td>\n",
       "      <td id=\"T_742da_row37_col37\" class=\"data row37 col37\" >1.000000</td>\n",
       "      <td id=\"T_742da_row37_col38\" class=\"data row37 col38\" >0.005039</td>\n",
       "      <td id=\"T_742da_row37_col39\" class=\"data row37 col39\" >-0.018726</td>\n",
       "      <td id=\"T_742da_row37_col40\" class=\"data row37 col40\" >0.016064</td>\n",
       "    </tr>\n",
       "    <tr>\n",
       "      <th id=\"T_742da_level0_row38\" class=\"row_heading level0 row38\" >PvP</th>\n",
       "      <td id=\"T_742da_row38_col0\" class=\"data row38 col0\" >0.034713</td>\n",
       "      <td id=\"T_742da_row38_col1\" class=\"data row38 col1\" >0.108871</td>\n",
       "      <td id=\"T_742da_row38_col2\" class=\"data row38 col2\" >0.050238</td>\n",
       "      <td id=\"T_742da_row38_col3\" class=\"data row38 col3\" >0.149595</td>\n",
       "      <td id=\"T_742da_row38_col4\" class=\"data row38 col4\" >-0.155084</td>\n",
       "      <td id=\"T_742da_row38_col5\" class=\"data row38 col5\" >0.091946</td>\n",
       "      <td id=\"T_742da_row38_col6\" class=\"data row38 col6\" >0.175818</td>\n",
       "      <td id=\"T_742da_row38_col7\" class=\"data row38 col7\" >-0.061871</td>\n",
       "      <td id=\"T_742da_row38_col8\" class=\"data row38 col8\" >-0.070410</td>\n",
       "      <td id=\"T_742da_row38_col9\" class=\"data row38 col9\" >0.202167</td>\n",
       "      <td id=\"T_742da_row38_col10\" class=\"data row38 col10\" >0.007067</td>\n",
       "      <td id=\"T_742da_row38_col11\" class=\"data row38 col11\" >0.003591</td>\n",
       "      <td id=\"T_742da_row38_col12\" class=\"data row38 col12\" >0.130681</td>\n",
       "      <td id=\"T_742da_row38_col13\" class=\"data row38 col13\" >-0.006894</td>\n",
       "      <td id=\"T_742da_row38_col14\" class=\"data row38 col14\" >-0.022041</td>\n",
       "      <td id=\"T_742da_row38_col15\" class=\"data row38 col15\" >-0.023471</td>\n",
       "      <td id=\"T_742da_row38_col16\" class=\"data row38 col16\" >0.001238</td>\n",
       "      <td id=\"T_742da_row38_col17\" class=\"data row38 col17\" >0.123328</td>\n",
       "      <td id=\"T_742da_row38_col18\" class=\"data row38 col18\" >-0.005629</td>\n",
       "      <td id=\"T_742da_row38_col19\" class=\"data row38 col19\" >-0.027347</td>\n",
       "      <td id=\"T_742da_row38_col20\" class=\"data row38 col20\" >-0.013206</td>\n",
       "      <td id=\"T_742da_row38_col21\" class=\"data row38 col21\" >-0.004518</td>\n",
       "      <td id=\"T_742da_row38_col22\" class=\"data row38 col22\" >-0.017815</td>\n",
       "      <td id=\"T_742da_row38_col23\" class=\"data row38 col23\" >0.255238</td>\n",
       "      <td id=\"T_742da_row38_col24\" class=\"data row38 col24\" >-0.009751</td>\n",
       "      <td id=\"T_742da_row38_col25\" class=\"data row38 col25\" >-0.017363</td>\n",
       "      <td id=\"T_742da_row38_col26\" class=\"data row38 col26\" >-0.007961</td>\n",
       "      <td id=\"T_742da_row38_col27\" class=\"data row38 col27\" >-0.010533</td>\n",
       "      <td id=\"T_742da_row38_col28\" class=\"data row38 col28\" >-0.008901</td>\n",
       "      <td id=\"T_742da_row38_col29\" class=\"data row38 col29\" >-0.005629</td>\n",
       "      <td id=\"T_742da_row38_col30\" class=\"data row38 col30\" >-0.007961</td>\n",
       "      <td id=\"T_742da_row38_col31\" class=\"data row38 col31\" >-0.003980</td>\n",
       "      <td id=\"T_742da_row38_col32\" class=\"data row38 col32\" >-0.005629</td>\n",
       "      <td id=\"T_742da_row38_col33\" class=\"data row38 col33\" >-0.275512</td>\n",
       "      <td id=\"T_742da_row38_col34\" class=\"data row38 col34\" >0.648362</td>\n",
       "      <td id=\"T_742da_row38_col35\" class=\"data row38 col35\" >0.413639</td>\n",
       "      <td id=\"T_742da_row38_col36\" class=\"data row38 col36\" >0.176504</td>\n",
       "      <td id=\"T_742da_row38_col37\" class=\"data row38 col37\" >0.005039</td>\n",
       "      <td id=\"T_742da_row38_col38\" class=\"data row38 col38\" >1.000000</td>\n",
       "      <td id=\"T_742da_row38_col39\" class=\"data row38 col39\" >0.075070</td>\n",
       "      <td id=\"T_742da_row38_col40\" class=\"data row38 col40\" >0.020658</td>\n",
       "    </tr>\n",
       "    <tr>\n",
       "      <th id=\"T_742da_level0_row39\" class=\"row_heading level0 row39\" >Remote Play on Phone</th>\n",
       "      <td id=\"T_742da_row39_col0\" class=\"data row39 col0\" >0.162827</td>\n",
       "      <td id=\"T_742da_row39_col1\" class=\"data row39 col1\" >-0.038104</td>\n",
       "      <td id=\"T_742da_row39_col2\" class=\"data row39 col2\" >0.068990</td>\n",
       "      <td id=\"T_742da_row39_col3\" class=\"data row39 col3\" >0.039808</td>\n",
       "      <td id=\"T_742da_row39_col4\" class=\"data row39 col4\" >0.016792</td>\n",
       "      <td id=\"T_742da_row39_col5\" class=\"data row39 col5\" >-0.028182</td>\n",
       "      <td id=\"T_742da_row39_col6\" class=\"data row39 col6\" >0.013718</td>\n",
       "      <td id=\"T_742da_row39_col7\" class=\"data row39 col7\" >-0.040432</td>\n",
       "      <td id=\"T_742da_row39_col8\" class=\"data row39 col8\" >-0.054619</td>\n",
       "      <td id=\"T_742da_row39_col9\" class=\"data row39 col9\" >-0.009599</td>\n",
       "      <td id=\"T_742da_row39_col10\" class=\"data row39 col10\" >-0.020652</td>\n",
       "      <td id=\"T_742da_row39_col11\" class=\"data row39 col11\" >-0.021276</td>\n",
       "      <td id=\"T_742da_row39_col12\" class=\"data row39 col12\" >-0.010136</td>\n",
       "      <td id=\"T_742da_row39_col13\" class=\"data row39 col13\" >-0.003180</td>\n",
       "      <td id=\"T_742da_row39_col14\" class=\"data row39 col14\" >0.015404</td>\n",
       "      <td id=\"T_742da_row39_col15\" class=\"data row39 col15\" >-0.012748</td>\n",
       "      <td id=\"T_742da_row39_col16\" class=\"data row39 col16\" >-0.016895</td>\n",
       "      <td id=\"T_742da_row39_col17\" class=\"data row39 col17\" >-0.029226</td>\n",
       "      <td id=\"T_742da_row39_col18\" class=\"data row39 col18\" >-0.002596</td>\n",
       "      <td id=\"T_742da_row39_col19\" class=\"data row39 col19\" >-0.012614</td>\n",
       "      <td id=\"T_742da_row39_col20\" class=\"data row39 col20\" >-0.006092</td>\n",
       "      <td id=\"T_742da_row39_col21\" class=\"data row39 col21\" >-0.006092</td>\n",
       "      <td id=\"T_742da_row39_col22\" class=\"data row39 col22\" >-0.008218</td>\n",
       "      <td id=\"T_742da_row39_col23\" class=\"data row39 col23\" >-0.019158</td>\n",
       "      <td id=\"T_742da_row39_col24\" class=\"data row39 col24\" >-0.004498</td>\n",
       "      <td id=\"T_742da_row39_col25\" class=\"data row39 col25\" >-0.008009</td>\n",
       "      <td id=\"T_742da_row39_col26\" class=\"data row39 col26\" >-0.003672</td>\n",
       "      <td id=\"T_742da_row39_col27\" class=\"data row39 col27\" >-0.004859</td>\n",
       "      <td id=\"T_742da_row39_col28\" class=\"data row39 col28\" >-0.004106</td>\n",
       "      <td id=\"T_742da_row39_col29\" class=\"data row39 col29\" >-0.002596</td>\n",
       "      <td id=\"T_742da_row39_col30\" class=\"data row39 col30\" >-0.003672</td>\n",
       "      <td id=\"T_742da_row39_col31\" class=\"data row39 col31\" >-0.001836</td>\n",
       "      <td id=\"T_742da_row39_col32\" class=\"data row39 col32\" >-0.002596</td>\n",
       "      <td id=\"T_742da_row39_col33\" class=\"data row39 col33\" >0.007829</td>\n",
       "      <td id=\"T_742da_row39_col34\" class=\"data row39 col34\" >0.113426</td>\n",
       "      <td id=\"T_742da_row39_col35\" class=\"data row39 col35\" >0.121191</td>\n",
       "      <td id=\"T_742da_row39_col36\" class=\"data row39 col36\" >-0.024309</td>\n",
       "      <td id=\"T_742da_row39_col37\" class=\"data row39 col37\" >-0.018726</td>\n",
       "      <td id=\"T_742da_row39_col38\" class=\"data row39 col38\" >0.075070</td>\n",
       "      <td id=\"T_742da_row39_col39\" class=\"data row39 col39\" >1.000000</td>\n",
       "      <td id=\"T_742da_row39_col40\" class=\"data row39 col40\" >0.076602</td>\n",
       "    </tr>\n",
       "    <tr>\n",
       "      <th id=\"T_742da_level0_row40\" class=\"row_heading level0 row40\" >Steam Achievements</th>\n",
       "      <td id=\"T_742da_row40_col0\" class=\"data row40 col0\" >0.010156</td>\n",
       "      <td id=\"T_742da_row40_col1\" class=\"data row40 col1\" >-0.029911</td>\n",
       "      <td id=\"T_742da_row40_col2\" class=\"data row40 col2\" >0.029925</td>\n",
       "      <td id=\"T_742da_row40_col3\" class=\"data row40 col3\" >0.039443</td>\n",
       "      <td id=\"T_742da_row40_col4\" class=\"data row40 col4\" >-0.001780</td>\n",
       "      <td id=\"T_742da_row40_col5\" class=\"data row40 col5\" >0.014852</td>\n",
       "      <td id=\"T_742da_row40_col6\" class=\"data row40 col6\" >0.021465</td>\n",
       "      <td id=\"T_742da_row40_col7\" class=\"data row40 col7\" >-0.044829</td>\n",
       "      <td id=\"T_742da_row40_col8\" class=\"data row40 col8\" >0.076072</td>\n",
       "      <td id=\"T_742da_row40_col9\" class=\"data row40 col9\" >-0.078396</td>\n",
       "      <td id=\"T_742da_row40_col10\" class=\"data row40 col10\" >-0.038167</td>\n",
       "      <td id=\"T_742da_row40_col11\" class=\"data row40 col11\" >-0.018370</td>\n",
       "      <td id=\"T_742da_row40_col12\" class=\"data row40 col12\" >0.007179</td>\n",
       "      <td id=\"T_742da_row40_col13\" class=\"data row40 col13\" >-0.004137</td>\n",
       "      <td id=\"T_742da_row40_col14\" class=\"data row40 col14\" >-0.003140</td>\n",
       "      <td id=\"T_742da_row40_col15\" class=\"data row40 col15\" >-0.016584</td>\n",
       "      <td id=\"T_742da_row40_col16\" class=\"data row40 col16\" >-0.034877</td>\n",
       "      <td id=\"T_742da_row40_col17\" class=\"data row40 col17\" >-0.078458</td>\n",
       "      <td id=\"T_742da_row40_col18\" class=\"data row40 col18\" >-0.025581</td>\n",
       "      <td id=\"T_742da_row40_col19\" class=\"data row40 col19\" >-0.027885</td>\n",
       "      <td id=\"T_742da_row40_col20\" class=\"data row40 col20\" >-0.017396</td>\n",
       "      <td id=\"T_742da_row40_col21\" class=\"data row40 col21\" >-0.052915</td>\n",
       "      <td id=\"T_742da_row40_col22\" class=\"data row40 col22\" >-0.044071</td>\n",
       "      <td id=\"T_742da_row40_col23\" class=\"data row40 col23\" >-0.093288</td>\n",
       "      <td id=\"T_742da_row40_col24\" class=\"data row40 col24\" >-0.044316</td>\n",
       "      <td id=\"T_742da_row40_col25\" class=\"data row40 col25\" >-0.019431</td>\n",
       "      <td id=\"T_742da_row40_col26\" class=\"data row40 col26\" >-0.024404</td>\n",
       "      <td id=\"T_742da_row40_col27\" class=\"data row40 col27\" >-0.030062</td>\n",
       "      <td id=\"T_742da_row40_col28\" class=\"data row40 col28\" >-0.029919</td>\n",
       "      <td id=\"T_742da_row40_col29\" class=\"data row40 col29\" >-0.025581</td>\n",
       "      <td id=\"T_742da_row40_col30\" class=\"data row40 col30\" >-0.024404</td>\n",
       "      <td id=\"T_742da_row40_col31\" class=\"data row40 col31\" >-0.018087</td>\n",
       "      <td id=\"T_742da_row40_col32\" class=\"data row40 col32\" >-0.025581</td>\n",
       "      <td id=\"T_742da_row40_col33\" class=\"data row40 col33\" >0.115278</td>\n",
       "      <td id=\"T_742da_row40_col34\" class=\"data row40 col34\" >0.028847</td>\n",
       "      <td id=\"T_742da_row40_col35\" class=\"data row40 col35\" >0.061439</td>\n",
       "      <td id=\"T_742da_row40_col36\" class=\"data row40 col36\" >-0.096410</td>\n",
       "      <td id=\"T_742da_row40_col37\" class=\"data row40 col37\" >0.016064</td>\n",
       "      <td id=\"T_742da_row40_col38\" class=\"data row40 col38\" >0.020658</td>\n",
       "      <td id=\"T_742da_row40_col39\" class=\"data row40 col39\" >0.076602</td>\n",
       "      <td id=\"T_742da_row40_col40\" class=\"data row40 col40\" >1.000000</td>\n",
       "    </tr>\n",
       "  </tbody>\n",
       "</table>\n"
      ],
      "text/plain": [
       "<pandas.io.formats.style.Styler at 0x210bc4ecc70>"
      ]
     },
     "execution_count": 30,
     "metadata": {},
     "output_type": "execute_result"
    }
   ],
   "source": [
    "for i in Unique_genre:\n",
    "    data[i] = np.where(data[\"Genre\"].str.contains(str(i), na=True),1,0)\n",
    "    \n",
    "Unique_genre = list(Unique_genre)\n",
    "Unique_genre = list(filter(bool, Unique_genre))\n",
    "numerical_columns = [\"Recommendations\",\"Genre Count\",\"Developer Count\"] + Unique_genre + Category_Columns\n",
    "cm = sns.light_palette(\"green\", as_cmap=True)\n",
    "corr = data[numerical_columns].corr()\n",
    "corr.style.background_gradient(cmap=cm)"
   ]
  },
  {
   "cell_type": "markdown",
   "metadata": {},
   "source": [
    "### Acknowledgement"
   ]
  },
  {
   "cell_type": "markdown",
   "metadata": {},
   "source": [
    "<i>At the end of this project, we want to sincerely thank Spencer, Chase and Professor Sargent for the excellent materials and inspiration throughout this semester. The skills we learned make us possible to do analysis project like this.</i>\n",
    "\n",
    "<i>Wish you well and happy holidays.</i>"
   ]
  },
  {
   "cell_type": "code",
   "execution_count": null,
   "metadata": {},
   "outputs": [],
   "source": []
  }
 ],
 "metadata": {
  "kernelspec": {
   "display_name": "Python 3",
   "language": "python",
   "name": "python3"
  },
  "language_info": {
   "codemirror_mode": {
    "name": "ipython",
    "version": 3
   },
   "file_extension": ".py",
   "mimetype": "text/x-python",
   "name": "python",
   "nbconvert_exporter": "python",
   "pygments_lexer": "ipython3",
   "version": "3.8.2"
  }
 },
 "nbformat": 4,
 "nbformat_minor": 4
}
